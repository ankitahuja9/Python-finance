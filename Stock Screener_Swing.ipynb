{
 "cells": [
  {
   "cell_type": "markdown",
   "metadata": {},
   "source": [
    "# Introduction: Swing Trading with application of Filters\n",
    "\n",
    "**Filters To be applied:\n",
    "\n",
    "1)Filter based on the liquidity (Volumne, Close Price, High and Low)\n",
    "\n",
    "2)Hurst (close): series having 0.5 to 1 have memory\n",
    "\n",
    "3)ADX (high, low, close): Average of last 100 values to be greater than 25, to confirm trend\n",
    "\n",
    "**Buy or sell Decision:\n",
    "\n",
    "1)Outperforming benchmark (S&P close and stock close)\n",
    "\n",
    "2)Buying stocks and selling stocks\n",
    "\n",
    "Methodolgy: Firstly the given sample would be divided into 50% group. On the First 50% sample the Filter listed above will be applied and the Filtered list will be passed through the decision functions, which are also listed above.\n",
    "Then the positions will be taken for next 50% of the returns to backtest the strategy."
   ]
  },
  {
   "cell_type": "raw",
   "metadata": {},
   "source": [
    "Importing the Revelant Libraries"
   ]
  },
  {
   "cell_type": "code",
   "execution_count": 1,
   "metadata": {},
   "outputs": [],
   "source": [
    "%matplotlib inline\n",
    "import warnings\n",
    "warnings.filterwarnings('ignore')\n",
    "from tabulate import tabulate\n",
    "    \n",
    "import matplotlib.pyplot as plt\n",
    "\n",
    "import seaborn as sb\n",
    "sb.set_style('darkgrid')\n",
    "import monthly_returns_heatmap as mrh"
   ]
  },
  {
   "cell_type": "code",
   "execution_count": 2,
   "metadata": {},
   "outputs": [],
   "source": [
    "import numpy as np\n"
   ]
  },
  {
   "cell_type": "markdown",
   "metadata": {},
   "source": [
    "Getting the List of the Stocks incorporated in the S&P 500"
   ]
  },
  {
   "cell_type": "code",
   "execution_count": 51,
   "metadata": {},
   "outputs": [
    {
     "data": {
      "text/html": [
       "<div>\n",
       "<style scoped>\n",
       "    .dataframe tbody tr th:only-of-type {\n",
       "        vertical-align: middle;\n",
       "    }\n",
       "\n",
       "    .dataframe tbody tr th {\n",
       "        vertical-align: top;\n",
       "    }\n",
       "\n",
       "    .dataframe thead th {\n",
       "        text-align: right;\n",
       "    }\n",
       "</style>\n",
       "<table border=\"1\" class=\"dataframe\">\n",
       "  <thead>\n",
       "    <tr style=\"text-align: right;\">\n",
       "      <th></th>\n",
       "      <th>Symbol</th>\n",
       "      <th>Security</th>\n",
       "      <th>SEC filings</th>\n",
       "      <th>GICS Sector</th>\n",
       "      <th>GICS Sub-Industry</th>\n",
       "      <th>Headquarters Location</th>\n",
       "      <th>Date first added</th>\n",
       "      <th>CIK</th>\n",
       "      <th>Founded</th>\n",
       "    </tr>\n",
       "  </thead>\n",
       "  <tbody>\n",
       "    <tr>\n",
       "      <th>0</th>\n",
       "      <td>MMM</td>\n",
       "      <td>3M Company</td>\n",
       "      <td>reports</td>\n",
       "      <td>Industrials</td>\n",
       "      <td>Industrial Conglomerates</td>\n",
       "      <td>St. Paul, Minnesota</td>\n",
       "      <td>1976-08-09</td>\n",
       "      <td>66740</td>\n",
       "      <td>1902</td>\n",
       "    </tr>\n",
       "    <tr>\n",
       "      <th>1</th>\n",
       "      <td>ABT</td>\n",
       "      <td>Abbott Laboratories</td>\n",
       "      <td>reports</td>\n",
       "      <td>Health Care</td>\n",
       "      <td>Health Care Equipment</td>\n",
       "      <td>North Chicago, Illinois</td>\n",
       "      <td>1964-03-31</td>\n",
       "      <td>1800</td>\n",
       "      <td>1888</td>\n",
       "    </tr>\n",
       "    <tr>\n",
       "      <th>2</th>\n",
       "      <td>ABBV</td>\n",
       "      <td>AbbVie Inc.</td>\n",
       "      <td>reports</td>\n",
       "      <td>Health Care</td>\n",
       "      <td>Pharmaceuticals</td>\n",
       "      <td>North Chicago, Illinois</td>\n",
       "      <td>2012-12-31</td>\n",
       "      <td>1551152</td>\n",
       "      <td>2013 (1888)</td>\n",
       "    </tr>\n",
       "    <tr>\n",
       "      <th>3</th>\n",
       "      <td>ABMD</td>\n",
       "      <td>Abiomed</td>\n",
       "      <td>reports</td>\n",
       "      <td>Health Care</td>\n",
       "      <td>Health Care Equipment</td>\n",
       "      <td>Danvers, Massachusetts</td>\n",
       "      <td>2018-05-31</td>\n",
       "      <td>815094</td>\n",
       "      <td>1981</td>\n",
       "    </tr>\n",
       "    <tr>\n",
       "      <th>4</th>\n",
       "      <td>ACN</td>\n",
       "      <td>Accenture</td>\n",
       "      <td>reports</td>\n",
       "      <td>Information Technology</td>\n",
       "      <td>IT Consulting &amp; Other Services</td>\n",
       "      <td>Dublin, Ireland</td>\n",
       "      <td>2011-07-06</td>\n",
       "      <td>1467373</td>\n",
       "      <td>1989</td>\n",
       "    </tr>\n",
       "  </tbody>\n",
       "</table>\n",
       "</div>"
      ],
      "text/plain": [
       "  Symbol             Security SEC filings             GICS Sector  \\\n",
       "0    MMM           3M Company     reports             Industrials   \n",
       "1    ABT  Abbott Laboratories     reports             Health Care   \n",
       "2   ABBV          AbbVie Inc.     reports             Health Care   \n",
       "3   ABMD              Abiomed     reports             Health Care   \n",
       "4    ACN            Accenture     reports  Information Technology   \n",
       "\n",
       "                GICS Sub-Industry    Headquarters Location Date first added  \\\n",
       "0        Industrial Conglomerates      St. Paul, Minnesota       1976-08-09   \n",
       "1           Health Care Equipment  North Chicago, Illinois       1964-03-31   \n",
       "2                 Pharmaceuticals  North Chicago, Illinois       2012-12-31   \n",
       "3           Health Care Equipment   Danvers, Massachusetts       2018-05-31   \n",
       "4  IT Consulting & Other Services          Dublin, Ireland       2011-07-06   \n",
       "\n",
       "       CIK      Founded  \n",
       "0    66740         1902  \n",
       "1     1800         1888  \n",
       "2  1551152  2013 (1888)  \n",
       "3   815094         1981  \n",
       "4  1467373         1989  "
      ]
     },
     "execution_count": 51,
     "metadata": {},
     "output_type": "execute_result"
    }
   ],
   "source": [
    "import pandas as pd\n",
    "from datetime import date\n",
    "# Read the html into stocks dataframe\n",
    "data = pd.read_html('https://en.wikipedia.org/wiki/List_of_S%26P_500_companies', header =0)\n",
    "stocks = pd.DataFrame(data[0])\n",
    "stocks.head()"
   ]
  },
  {
   "cell_type": "markdown",
   "metadata": {},
   "source": [
    "Download the stocks Data using Yfinance Library"
   ]
  },
  {
   "cell_type": "code",
   "execution_count": 52,
   "metadata": {},
   "outputs": [],
   "source": [
    "import yfinance as yf\n",
    "# Download the stock data for all tickers as in the index of the stocks dataframe\n",
    "tickers=list(stocks['Symbol'])\n",
    "params=['High','Low','Open','Close','Volume']\n",
    "start='2018-01-01'\n",
    "end='2021-01-01'"
   ]
  },
  {
   "cell_type": "code",
   "execution_count": 157,
   "metadata": {},
   "outputs": [
    {
     "name": "stdout",
     "output_type": "stream",
     "text": [
      "[*********************100%***********************]  505 of 505 completed\n",
      "\n",
      "2 Failed downloads:\n",
      "- BRK.B: No data found, symbol may be delisted\n",
      "- BF.B: No data found for this date range, symbol may be delisted\n"
     ]
    }
   ],
   "source": [
    "data_stocks=yf.download(tickers=tickers,start=start,end=end,interval='1d',auto_adjust=True)"
   ]
  },
  {
   "cell_type": "code",
   "execution_count": 158,
   "metadata": {},
   "outputs": [],
   "source": [
    "data_stocks.index=pd.to_datetime(data_stocks.index)"
   ]
  },
  {
   "cell_type": "code",
   "execution_count": 159,
   "metadata": {},
   "outputs": [],
   "source": [
    "stocks=data_stocks[params]"
   ]
  },
  {
   "cell_type": "markdown",
   "metadata": {},
   "source": [
    "Spliting the dataset in the 2 sample \n",
    "\n",
    "One Will be used for the analysis and another one to take positions.\n"
   ]
  },
  {
   "cell_type": "code",
   "execution_count": 160,
   "metadata": {},
   "outputs": [],
   "source": [
    "split=int(0.5*stocks.shape[0])\n"
   ]
  },
  {
   "cell_type": "code",
   "execution_count": 161,
   "metadata": {},
   "outputs": [],
   "source": [
    "Sample_analysis=stocks.iloc[:split]"
   ]
  },
  {
   "cell_type": "code",
   "execution_count": 162,
   "metadata": {},
   "outputs": [],
   "source": [
    "Returns_analysis=stocks.iloc[split:]"
   ]
  },
  {
   "cell_type": "markdown",
   "metadata": {},
   "source": [
    "Segregating the Parameters"
   ]
  },
  {
   "cell_type": "code",
   "execution_count": 163,
   "metadata": {},
   "outputs": [],
   "source": [
    "columns=stocks['High'].columns\n",
    "stocks_High=Sample_analysis['High']\n",
    "stocks_low=Sample_analysis['Low']\n",
    "stocks_close=Sample_analysis['Close']\n",
    "stocks_volume=Sample_analysis['Volume']"
   ]
  },
  {
   "cell_type": "markdown",
   "metadata": {},
   "source": [
    "Testing the shape : Sometimes due to bad Internet connection or  unstable downloading source NaN comes in data"
   ]
  },
  {
   "cell_type": "code",
   "execution_count": 164,
   "metadata": {},
   "outputs": [],
   "source": [
    "x=stocks_close.shape\n",
    "y=stocks_High.shape\n",
    "z=stocks_low.shape\n",
    "v=stocks_volume.shape"
   ]
  },
  {
   "cell_type": "code",
   "execution_count": 165,
   "metadata": {},
   "outputs": [
    {
     "name": "stdout",
     "output_type": "stream",
     "text": [
      "Same Shape \n"
     ]
    }
   ],
   "source": [
    "if x==y==z==v:\n",
    "    print('Same Shape ')\n",
    "else:\n",
    "    raise ValueError(\"Expected Same Shape Download the data properly\")"
   ]
  },
  {
   "cell_type": "markdown",
   "metadata": {},
   "source": [
    "# Part-1: Filtering the stocks"
   ]
  },
  {
   "cell_type": "markdown",
   "metadata": {},
   "source": [
    "## Liquidity Filter"
   ]
  },
  {
   "cell_type": "markdown",
   "metadata": {},
   "source": [
    "Liquidity is defined as per the below Formula:\n",
    "\n",
    "                                             Liquidity = Log10(Numerator/Denominator)\n",
    "                                             Numerator = Volume of the stock * Close price\n",
    "                                            Denominator = Day’s High – Day’s Low\n",
    "                                            \n",
    "                                            \n",
    "Rational Behind this is taken from the Definition of the Liquidity by CFA institute.\n",
    "\n",
    "As the difference between the High and Low decreases, we have more buyers and sellers at any price,thus increasing the Liquidity of the particular Stock \n",
    "\n",
    "Taking the log of the values to standardize the values.\n"
   ]
  },
  {
   "cell_type": "code",
   "execution_count": 166,
   "metadata": {},
   "outputs": [],
   "source": [
    "trading_volume=Sample_analysis['Volume']\n",
    "numerator=trading_volume*stocks_close.values\n",
    "denominator=stocks_High-stocks_low.values\n",
    "liquidity=np.log10(numerator/denominator) \n",
    "# Reference from CFA Finance Paper\n",
    "\n",
    "last=liquidity.mean()\n",
    "sort=last.sort_values(ascending=False).dropna() # Sorting the Liquidities of the stocks to filter out the relevant stocks\n",
    "\n",
    "#Calculating the Mean Liquidity of the Market\n",
    "Long_term_mean=(liquidity.mean(numeric_only=True,skipna=True))\n",
    "Cleaned_table=Long_term_mean.replace([np.inf, -np.inf], np.nan).dropna()\n",
    "Long_mean_data=Cleaned_table.mean()"
   ]
  },
  {
   "cell_type": "markdown",
   "metadata": {},
   "source": [
    "#### We tend to compare the liquidity calculated with specified formula against the Liquidity of the market:\n",
    "    \n",
    "Thus, the market Liquidity is calculated by taking the mean of the Liquidities of all the Stocks in the Market"
   ]
  },
  {
   "cell_type": "code",
   "execution_count": 230,
   "metadata": {},
   "outputs": [
    {
     "data": {
      "text/plain": [
       "Text(0.5, 0, 'Stocks')"
      ]
     },
     "execution_count": 230,
     "metadata": {},
     "output_type": "execute_result"
    },
    {
     "data": {
      "image/png": "[encoded data removed]",
      "text/plain": [
       "<Figure size 864x432 with 1 Axes>"
      ]
     },
     "metadata": {},
     "output_type": "display_data"
    }
   ],
   "source": [
    "sort.plot(figsize=(12,6),title='Liquidity Decay',color='Orange',label='Liquidity')\n",
    "plt.legend()\n",
    "plt.axhline(y=Long_mean_data)# Horizontal Lines depicts the Long term Liquidity of the Market, given by Varible \"Long_mean_data\"\n",
    "plt.ylabel(\"Liquidity\")\n",
    "plt.xlabel(\"Stocks\") # We select the stocks which are above the blue line in the graph"
   ]
  },
  {
   "cell_type": "markdown",
   "metadata": {},
   "source": [
    "Applying the condition to Filter out the stocks where Liquidity is more than the Market Liquidity"
   ]
  },
  {
   "cell_type": "code",
   "execution_count": 168,
   "metadata": {},
   "outputs": [
    {
     "data": {
      "text/plain": [
       "Index(['AMCR', 'FOXA', 'AAPL', 'BAC', 'GE', 'T', 'F', 'AMD', 'MSFT', 'PFE',\n",
       "       ...\n",
       "       'ES', 'EIX', 'MKC', 'TT', 'LYB', 'SRE', 'NTAP', 'NUE', 'DFS', 'STT'],\n",
       "      dtype='object', length=247)"
      ]
     },
     "execution_count": 168,
     "metadata": {},
     "output_type": "execute_result"
    }
   ],
   "source": [
    "condition=(sort>Long_mean_data)          #Liquidity More than the average Liquidity of the Market\n",
    "Stocks_list=condition[condition==1]\n",
    "Stocks_list=Stocks_list.index\n",
    "Stocks_list"
   ]
  },
  {
   "cell_type": "markdown",
   "metadata": {},
   "source": [
    "### Removing Stocks with length less than 100 data points: Condition of the Hurst exponent "
   ]
  },
  {
   "cell_type": "markdown",
   "metadata": {},
   "source": [
    "Sometimes the bad connection or the unstable data source results in NaNs in the data and we cannot feed this kind of series to the Hurst Filter\n",
    "\n",
    "So, Removing the NaNs and the dataset where the length is less than 100"
   ]
  },
  {
   "cell_type": "code",
   "execution_count": 227,
   "metadata": {},
   "outputs": [],
   "source": [
    "string_frame=pd.DataFrame()\n",
    "for steps in range(len(Stocks_list)):\n",
    "    string=Stocks_list[steps]\n",
    "    series=stocks_close[string]\n",
    "    if len(series.dropna())>100:\n",
    "        d=pd.Series(string)\n",
    "        string_frame=string_frame.append(d,ignore_index=True)\n",
    "    else:\n",
    "        continue\n",
    "string_frame.columns=['Companies']\n",
    "Filter_companies=np.array(string_frame[\"Companies\"])\n"
   ]
  },
  {
   "cell_type": "markdown",
   "metadata": {},
   "source": [
    "## Hurst Exponent Filter"
   ]
  },
  {
   "cell_type": "markdown",
   "metadata": {},
   "source": [
    "Install the Library :https://pypi.org/project/hurst/\n",
    "\n",
    "Use the Hust function to calculate the exponent value directly"
   ]
  },
  {
   "cell_type": "code",
   "execution_count": 170,
   "metadata": {},
   "outputs": [],
   "source": [
    "from hurst import compute_Hc\n"
   ]
  },
  {
   "cell_type": "code",
   "execution_count": 171,
   "metadata": {},
   "outputs": [],
   "source": [
    "h_table=pd.DataFrame()"
   ]
  },
  {
   "cell_type": "code",
   "execution_count": 172,
   "metadata": {},
   "outputs": [],
   "source": [
    "for Steps in range(len(Filter_companies)):\n",
    "    string=Filter_companies[Steps]\n",
    "    series=stocks_close[string].dropna()\n",
    "    H=compute_Hc(series, kind='random_walk')\n",
    "    d=pd.Series(H[0])\n",
    "    h_table=h_table.append(d,ignore_index=True)\n",
    "h_table.index=Filter_companies"
   ]
  },
  {
   "cell_type": "markdown",
   "metadata": {},
   "source": [
    "#### Filtering out the Stocks where there is a Long term memory i.e. the value is greater than 0.5"
   ]
  },
  {
   "cell_type": "code",
   "execution_count": 173,
   "metadata": {},
   "outputs": [],
   "source": [
    "hurst_table=h_table[h_table>0.5].dropna()"
   ]
  },
  {
   "cell_type": "code",
   "execution_count": 174,
   "metadata": {},
   "outputs": [],
   "source": [
    "filtered_columns=hurst_table.index"
   ]
  },
  {
   "cell_type": "code",
   "execution_count": 175,
   "metadata": {},
   "outputs": [
    {
     "data": {
      "text/plain": [
       "Index(['AMCR', 'AAPL', 'GE', 'F', 'AMD', 'MSFT', 'PFE', 'CSCO', 'WFC', 'CMCSA',\n",
       "       ...\n",
       "       'RSG', 'XLNX', 'KMB', 'ES', 'MKC', 'TT', 'LYB', 'SRE', 'DFS', 'STT'],\n",
       "      dtype='object', length=156)"
      ]
     },
     "execution_count": 175,
     "metadata": {},
     "output_type": "execute_result"
    }
   ],
   "source": [
    "filtered_columns"
   ]
  },
  {
   "cell_type": "markdown",
   "metadata": {},
   "source": [
    "## ADX Filter"
   ]
  },
  {
   "cell_type": "markdown",
   "metadata": {},
   "source": [
    "Install the Library: https://pypi.org/project/pandas-ta-quant/\n",
    "    \n",
    "Use the ADX function to calculate the ADX values"
   ]
  },
  {
   "cell_type": "code",
   "execution_count": 176,
   "metadata": {},
   "outputs": [],
   "source": [
    "import pandas_ta as ta\n"
   ]
  },
  {
   "cell_type": "code",
   "execution_count": 177,
   "metadata": {},
   "outputs": [],
   "source": [
    "final=pd.DataFrame()                     #Adx calculator \n",
    "for steps in range(len(filtered_columns)):\n",
    "    tick_symbol=filtered_columns[steps]\n",
    "    close=stocks_close[tick_symbol]\n",
    "    High=stocks_High[tick_symbol]\n",
    "    Low=stocks_low[tick_symbol]\n",
    "    adx=ta.adx(High,Low,close)[['ADX_14']].dropna()\n",
    "    transpose=adx.T\n",
    "    final=final.append(transpose)\n",
    "final.index=filtered_columns\n",
    "Adx_frame=final.T\n"
   ]
  },
  {
   "cell_type": "code",
   "execution_count": 178,
   "metadata": {},
   "outputs": [],
   "source": [
    "mean_adx=Adx_frame.tail(100).mean()"
   ]
  },
  {
   "cell_type": "markdown",
   "metadata": {},
   "source": [
    "#### Filtering out the Stocks which shows the Long term Trend in their prices i.e. values greater than 25"
   ]
  },
  {
   "cell_type": "code",
   "execution_count": 179,
   "metadata": {},
   "outputs": [],
   "source": [
    "condition2=mean_adx[mean_adx>25]"
   ]
  },
  {
   "cell_type": "code",
   "execution_count": 180,
   "metadata": {},
   "outputs": [],
   "source": [
    "Final_Filtered_list=condition2.index"
   ]
  },
  {
   "cell_type": "markdown",
   "metadata": {},
   "source": [
    "# Final List of Companies after Applying: \n"
   ]
  },
  {
   "cell_type": "markdown",
   "metadata": {},
   "source": [
    "### (1)Liquidity Filter :      (2)Hurst Exponent Filter :       (3)ADX Filter:\n"
   ]
  },
  {
   "cell_type": "code",
   "execution_count": 181,
   "metadata": {},
   "outputs": [
    {
     "data": {
      "text/plain": [
       "Index(['AMCR', 'AAPL', 'MSFT', 'CSCO', 'CMCSA', 'PG', 'SBUX', 'QCOM', 'NEE',\n",
       "       'DIS', 'EBAY', 'MDLZ', 'MO', 'LUMN', 'NVDA', 'TJX', 'HAL', 'SO', 'PEP',\n",
       "       'AES', 'KHC', 'IBM', 'PM', 'WBA', 'LLY', 'SYF', 'CSX', 'CL', 'MCD',\n",
       "       'GIS', 'TGT', 'CAG', 'AFL', 'FAST', 'NWL', 'XEL', 'NXPI', 'HON', 'NRG',\n",
       "       'PGR', 'PEG', 'SYY', 'EMR', 'AEP', 'EW', 'LVS', 'VTRS', 'MAS', 'CMS',\n",
       "       'HWM', 'DHR', 'MOS', 'BLL', 'PLD', 'WDC', 'WM', 'MMM', 'HLT', 'HIG',\n",
       "       'COST', 'ZTS', 'ALL', 'CCI', 'MMC', 'BBY', 'PAYX', 'TSN', 'DG', 'ADP',\n",
       "       'AMT', 'WEC', 'XLNX', 'KMB', 'ES', 'MKC', 'TT', 'SRE', 'DFS', 'STT'],\n",
       "      dtype='object')"
      ]
     },
     "execution_count": 181,
     "metadata": {},
     "output_type": "execute_result"
    }
   ],
   "source": [
    "Final_Filtered_list"
   ]
  },
  {
   "cell_type": "code",
   "execution_count": 182,
   "metadata": {},
   "outputs": [
    {
     "data": {
      "text/plain": [
       "79"
      ]
     },
     "execution_count": 182,
     "metadata": {},
     "output_type": "execute_result"
    }
   ],
   "source": [
    "List_length=len(Final_Filtered_list)\n",
    "List_length"
   ]
  },
  {
   "cell_type": "markdown",
   "metadata": {},
   "source": [
    "# Part-2: Decision To buy or Sell "
   ]
  },
  {
   "cell_type": "markdown",
   "metadata": {},
   "source": [
    "## Dowloading the S&P Data"
   ]
  },
  {
   "cell_type": "code",
   "execution_count": 183,
   "metadata": {},
   "outputs": [
    {
     "name": "stdout",
     "output_type": "stream",
     "text": [
      "[*********************100%***********************]  1 of 1 completed\n"
     ]
    }
   ],
   "source": [
    "sp_data=yf.download(tickers='^GSPC',start=start,end=end,interval='1d')"
   ]
  },
  {
   "cell_type": "code",
   "execution_count": 184,
   "metadata": {},
   "outputs": [],
   "source": [
    "sp_data.index=pd.to_datetime(sp_data.index)"
   ]
  },
  {
   "cell_type": "code",
   "execution_count": 185,
   "metadata": {},
   "outputs": [],
   "source": [
    "sp_data_returns=sp_data[['Close']].pct_change().dropna()"
   ]
  },
  {
   "cell_type": "code",
   "execution_count": 186,
   "metadata": {},
   "outputs": [],
   "source": [
    "sp_cum_returns=(1+sp_data_returns).cumprod() # Wealth Index"
   ]
  },
  {
   "cell_type": "code",
   "execution_count": 231,
   "metadata": {},
   "outputs": [],
   "source": [
    "Sp_sample=sp_cum_returns.iloc[:split]        #Splitting the data "
   ]
  },
  {
   "cell_type": "code",
   "execution_count": 232,
   "metadata": {},
   "outputs": [],
   "source": [
    "Sp_Final_wealth=float(Sp_sample.iloc[-3])    # Calculating the Ending Wealth of the Index"
   ]
  },
  {
   "cell_type": "markdown",
   "metadata": {},
   "source": [
    "#### Calculating the Final wealth of the S&P (Time sample is same as we have used in above analysis)"
   ]
  },
  {
   "cell_type": "code",
   "execution_count": 216,
   "metadata": {},
   "outputs": [
    {
     "data": {
      "text/plain": [
       "1.1028262174066064"
      ]
     },
     "execution_count": 216,
     "metadata": {},
     "output_type": "execute_result"
    }
   ],
   "source": [
    "Sp_Final_wealth"
   ]
  },
  {
   "cell_type": "code",
   "execution_count": 191,
   "metadata": {},
   "outputs": [],
   "source": [
    "stocks_sample_returns=stocks_close.pct_change()"
   ]
  },
  {
   "cell_type": "code",
   "execution_count": 198,
   "metadata": {},
   "outputs": [],
   "source": [
    "l=stocks_sample_returns.dropna(how='all')\n",
    "stocks_sample_cumret=(l+1).cumprod()\n",
    "Filtered_cumreturns=stocks_sample_cumret[Final_Filtered_list]"
   ]
  },
  {
   "cell_type": "code",
   "execution_count": 207,
   "metadata": {},
   "outputs": [],
   "source": [
    "Filtered_cumreturns\n",
    "Filtered_final_wealth=Filtered_cumreturns.iloc[-1]"
   ]
  },
  {
   "cell_type": "markdown",
   "metadata": {},
   "source": [
    "# Filtering out the Stocks from List we have made.\n",
    "\n",
    "Criteria: \n",
    "\n",
    "    OutPerforming stocks are those whose Wealth is more than S&P\n",
    "    \n",
    "    UnderPerforming Stocks are those whose Wealth is less than S&P"
   ]
  },
  {
   "cell_type": "code",
   "execution_count": 220,
   "metadata": {},
   "outputs": [],
   "source": [
    "Outperforming_stocks=Filtered_final_wealth[Filtered_final_wealth>Sp_Final_wealth]"
   ]
  },
  {
   "cell_type": "code",
   "execution_count": 221,
   "metadata": {},
   "outputs": [],
   "source": [
    "Underperforming_stocks=Filtered_final_wealth[Filtered_final_wealth<Sp_Final_wealth]"
   ]
  },
  {
   "cell_type": "code",
   "execution_count": 222,
   "metadata": {},
   "outputs": [],
   "source": [
    "list_outperforming=Outperforming_stocks.index"
   ]
  },
  {
   "cell_type": "markdown",
   "metadata": {},
   "source": [
    "# OutPerforming"
   ]
  },
  {
   "cell_type": "code",
   "execution_count": 223,
   "metadata": {},
   "outputs": [
    {
     "data": {
      "text/plain": [
       "Index(['AAPL', 'MSFT', 'CSCO', 'PG', 'SBUX', 'QCOM', 'NEE', 'DIS', 'MDLZ',\n",
       "       'TJX', 'SO', 'PEP', 'AES', 'LLY', 'CSX', 'MCD', 'TGT', 'AFL', 'FAST',\n",
       "       'XEL', 'HON', 'NRG', 'PGR', 'PEG', 'SYY', 'AEP', 'EW', 'CMS', 'DHR',\n",
       "       'BLL', 'PLD', 'WM', 'HLT', 'COST', 'ZTS', 'CCI', 'MMC', 'PAYX', 'DG',\n",
       "       'ADP', 'AMT', 'WEC', 'XLNX', 'KMB', 'ES', 'MKC', 'TT', 'SRE'],\n",
       "      dtype='object')"
      ]
     },
     "execution_count": 223,
     "metadata": {},
     "output_type": "execute_result"
    }
   ],
   "source": [
    "list_outperforming"
   ]
  },
  {
   "cell_type": "code",
   "execution_count": 224,
   "metadata": {},
   "outputs": [],
   "source": [
    "list_underporforming=Underperforming_stocks.index"
   ]
  },
  {
   "cell_type": "markdown",
   "metadata": {},
   "source": [
    "# UnderPerforming"
   ]
  },
  {
   "cell_type": "code",
   "execution_count": 225,
   "metadata": {},
   "outputs": [
    {
     "data": {
      "text/plain": [
       "Index(['AMCR', 'CMCSA', 'EBAY', 'MO', 'LUMN', 'NVDA', 'HAL', 'KHC', 'IBM',\n",
       "       'PM', 'WBA', 'SYF', 'CL', 'GIS', 'CAG', 'NWL', 'NXPI', 'EMR', 'LVS',\n",
       "       'VTRS', 'MAS', 'HWM', 'MOS', 'WDC', 'MMM', 'HIG', 'ALL', 'BBY', 'TSN',\n",
       "       'DFS', 'STT'],\n",
       "      dtype='object')"
      ]
     },
     "execution_count": 225,
     "metadata": {},
     "output_type": "execute_result"
    }
   ],
   "source": [
    "list_underporforming"
   ]
  },
  {
   "cell_type": "markdown",
   "metadata": {},
   "source": [
    "# Part-3: Now, taking the Postions"
   ]
  },
  {
   "cell_type": "markdown",
   "metadata": {},
   "source": [
    "#### Taking weighing Method to be Equally Weighted but GMV or MSR can also be used"
   ]
  },
  {
   "cell_type": "code",
   "execution_count": 234,
   "metadata": {},
   "outputs": [],
   "source": [
    "n=len(list_outperforming)\n",
    "weight=np.repeat(1/n,n)"
   ]
  },
  {
   "cell_type": "markdown",
   "metadata": {},
   "source": [
    "#### Using the List of the Outperforming Stocks to take Long Positions"
   ]
  },
  {
   "cell_type": "code",
   "execution_count": 252,
   "metadata": {},
   "outputs": [],
   "source": [
    "Rets=Returns_analysis['Close'][list_outperforming].pct_change().dropna()"
   ]
  },
  {
   "cell_type": "code",
   "execution_count": 288,
   "metadata": {},
   "outputs": [],
   "source": [
    "Returns_series=pd.DataFrame({\"Strategy\":(Rets*weight).sum(axis=1)})"
   ]
  },
  {
   "cell_type": "code",
   "execution_count": 289,
   "metadata": {},
   "outputs": [],
   "source": [
    "index=sp_data_returns[split:]\n",
    "index.columns=['Benchmark']"
   ]
  },
  {
   "cell_type": "code",
   "execution_count": 290,
   "metadata": {},
   "outputs": [],
   "source": [
    "frame=pd.concat([Returns_series,index],axis=1).dropna()\n"
   ]
  },
  {
   "cell_type": "markdown",
   "metadata": {},
   "source": [
    "# Comparing the Wealth Index of both the Series"
   ]
  },
  {
   "cell_type": "code",
   "execution_count": 310,
   "metadata": {},
   "outputs": [
    {
     "data": {
      "text/plain": [
       "<matplotlib.axes._subplots.AxesSubplot at 0x24acba32700>"
      ]
     },
     "execution_count": 310,
     "metadata": {},
     "output_type": "execute_result"
    },
    {
     "data": {
      "image/png": "[encoded data removed]",
      "text/plain": [
       "<Figure size 1296x648 with 1 Axes>"
      ]
     },
     "metadata": {
      "needs_background": "light"
     },
     "output_type": "display_data"
    }
   ],
   "source": [
    "(1+frame).cumprod().plot(figsize=(18,9))"
   ]
  },
  {
   "cell_type": "code",
   "execution_count": null,
   "metadata": {},
   "outputs": [],
   "source": []
  }
 ],
 "metadata": {
  "kernelspec": {
   "display_name": "Python 3",
   "language": "python",
   "name": "python3"
  },
  "language_info": {
   "codemirror_mode": {
    "name": "ipython",
    "version": 3
   },
   "file_extension": ".py",
   "mimetype": "text/x-python",
   "name": "python",
   "nbconvert_exporter": "python",
   "pygments_lexer": "ipython3",
   "version": "3.8.3"
  }
 },
 "nbformat": 4,
 "nbformat_minor": 2
}
