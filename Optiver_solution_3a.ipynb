{
 "cells": [
  {
   "cell_type": "code",
   "execution_count": 1,
   "id": "b14c03d4",
   "metadata": {
    "ExecuteTime": {
     "end_time": "2022-01-22T15:48:57.720071Z",
     "start_time": "2022-01-22T15:48:54.714950Z"
    }
   },
   "outputs": [],
   "source": [
    "import pandas as pd\n",
    "import numpy as np\n",
    "%matplotlib inline\n",
    "import matplotlib.pyplot as plt\n",
    "import seaborn as ss\n",
    "import random\n",
    "\n",
    "def direction(a):\n",
    "    if a == 1:  # North\n",
    "        cord = pd.DataFrame([[0, 10, 10]], columns=list('XYD'))\n",
    "    elif a == 2:  # South\n",
    "        cord = pd.DataFrame([[0, -10, 10]], columns=list('XYD'))\n",
    "    elif a == 3:  # East\n",
    "        cord = pd.DataFrame([[10, 0, 10]], columns=list('XYD'))\n",
    "    elif a == 4:  # West\n",
    "        cord = pd.DataFrame([[-10, 0, 10]], columns=list('XYD'))\n",
    "    else:\n",
    "        raise ValueError(\"Enter Number between 1-4\")\n",
    "    return cord\n",
    "\n",
    "def function(x,y):  # Need co-ordinates that gives value less than 400 as food is in closed boundary #circle at centre 20cm r\n",
    "    return (x**2)+(y**2)\n",
    "\n",
    "initial_cordinate = pd.DataFrame([[0, 0, 0]], columns=list('XYD'))"
   ]
  },
  {
   "cell_type": "code",
   "execution_count": 2,
   "id": "b2bfa6bb",
   "metadata": {
    "ExecuteTime": {
     "end_time": "2022-01-22T15:48:57.825761Z",
     "start_time": "2022-01-22T15:48:57.807592Z"
    }
   },
   "outputs": [],
   "source": [
    "def time():\n",
    "    ap = pd.DataFrame()\n",
    "    cordinate = initial_cordinate\n",
    "    for i in range(1, 100):\n",
    "        number = random.randint(1, 4)\n",
    "        cordinate = cordinate+direction(number)\n",
    "        data = cordinate\n",
    "        k = data.iloc[:, :2]\n",
    "        x=k.iloc[:,0][0]\n",
    "        y=k.iloc[:,1][0]\n",
    "        j = function(x,y) \n",
    "        if j < 400: #Checing the condition if the fuction returns value less than 400, then i am at my food\n",
    "            cordinate = initial_cordinate\n",
    "            ap = ap.append(data)\n",
    "        else:\n",
    "            pass\n",
    "    return ap"
   ]
  },
  {
   "cell_type": "code",
   "execution_count": 3,
   "id": "79832370",
   "metadata": {
    "ExecuteTime": {
     "end_time": "2022-01-22T15:48:59.018805Z",
     "start_time": "2022-01-22T15:48:59.014086Z"
    }
   },
   "outputs": [],
   "source": [
    "t = pd.DataFrame()"
   ]
  },
  {
   "cell_type": "code",
   "execution_count": 4,
   "id": "ac6ca788",
   "metadata": {
    "ExecuteTime": {
     "end_time": "2022-01-22T15:49:18.902677Z",
     "start_time": "2022-01-22T15:48:59.766921Z"
    }
   },
   "outputs": [],
   "source": [
    "for a in range(0, 100):\n",
    "    y = time()\n",
    "    if y.empty:\n",
    "        pass\n",
    "    else:\n",
    "        y = y.iloc[:, 2]\n",
    "        y = pd.Series(y.mean())\n",
    "        t = t.append(y/10, ignore_index=True)\n",
    "        a = a+1"
   ]
  },
  {
   "cell_type": "code",
   "execution_count": 5,
   "id": "aaa387a9",
   "metadata": {
    "ExecuteTime": {
     "end_time": "2022-01-22T15:50:29.437884Z",
     "start_time": "2022-01-22T15:50:29.424916Z"
    }
   },
   "outputs": [],
   "source": [
    "t.columns = ['Time'] "
   ]
  },
  {
   "cell_type": "code",
   "execution_count": 6,
   "id": "a3e4076e",
   "metadata": {
    "ExecuteTime": {
     "end_time": "2022-01-22T15:50:30.107101Z",
     "start_time": "2022-01-22T15:50:29.907118Z"
    }
   },
   "outputs": [
    {
     "data": {
      "text/plain": [
       "<matplotlib.axes._subplots.AxesSubplot at 0x214bbb1cdc0>"
      ]
     },
     "execution_count": 6,
     "metadata": {},
     "output_type": "execute_result"
    },
    {
     "data": {
      "image/png": "[encoded data removed]",
      "text/plain": [
       "<Figure size 432x288 with 1 Axes>"
      ]
     },
     "metadata": {
      "needs_background": "light"
     },
     "output_type": "display_data"
    }
   ],
   "source": [
    "t.plot.hist() # Distribution As we can see for the closed bounday one leap will give you food stated boundary starts at 10cm\n",
    "# As I am not consisdering the real number in decimal place as one leap is of 10cm minimum. Half leap is not allowed"
   ]
  },
  {
   "cell_type": "code",
   "execution_count": 7,
   "id": "5f809932",
   "metadata": {
    "ExecuteTime": {
     "end_time": "2022-01-22T15:50:30.774879Z",
     "start_time": "2022-01-22T15:50:30.759108Z"
    }
   },
   "outputs": [
    {
     "data": {
      "text/plain": [
       "Time    1.0\n",
       "dtype: float64"
      ]
     },
     "execution_count": 7,
     "metadata": {},
     "output_type": "execute_result"
    }
   ],
   "source": [
    "t.mean() #Answer Average time "
   ]
  },
  {
   "cell_type": "code",
   "execution_count": 8,
   "id": "53adc30a",
   "metadata": {
    "ExecuteTime": {
     "end_time": "2022-01-22T15:50:31.276195Z",
     "start_time": "2022-01-22T15:50:31.262313Z"
    }
   },
   "outputs": [
    {
     "data": {
      "text/plain": [
       "Time    0.0\n",
       "dtype: float64"
      ]
     },
     "execution_count": 8,
     "metadata": {},
     "output_type": "execute_result"
    }
   ],
   "source": [
    "t.std()"
   ]
  },
  {
   "cell_type": "code",
   "execution_count": 9,
   "id": "1e36dddc",
   "metadata": {
    "ExecuteTime": {
     "end_time": "2022-01-22T15:50:31.596578Z",
     "start_time": "2022-01-22T15:50:31.582261Z"
    }
   },
   "outputs": [],
   "source": [
    "CI_u, CI_l = (t.mean()+1.96*((t.std())/np.sqrt(len(t)))\n",
    "              ), (t.mean()-1.96*((t.std())/np.sqrt(len(t))))"
   ]
  },
  {
   "cell_type": "code",
   "execution_count": 10,
   "id": "a738d5b5",
   "metadata": {
    "ExecuteTime": {
     "end_time": "2022-01-22T15:50:31.870001Z",
     "start_time": "2022-01-22T15:50:31.857347Z"
    }
   },
   "outputs": [
    {
     "data": {
      "text/plain": [
       "(Time    1.0\n",
       " dtype: float64,\n",
       " Time    1.0\n",
       " dtype: float64)"
      ]
     },
     "execution_count": 10,
     "metadata": {},
     "output_type": "execute_result"
    }
   ],
   "source": [
    "CI_u, CI_l"
   ]
  },
  {
   "cell_type": "code",
   "execution_count": 11,
   "id": "d66f3fc8",
   "metadata": {
    "ExecuteTime": {
     "end_time": "2022-01-22T15:50:32.287969Z",
     "start_time": "2022-01-22T15:50:32.277757Z"
    }
   },
   "outputs": [
    {
     "data": {
      "text/plain": [
       "Time    1.0\n",
       "dtype: float64"
      ]
     },
     "execution_count": 11,
     "metadata": {},
     "output_type": "execute_result"
    }
   ],
   "source": [
    "t.median()"
   ]
  }
 ],
 "metadata": {
  "kernelspec": {
   "display_name": "Python 3",
   "language": "python",
   "name": "python3"
  },
  "language_info": {
   "codemirror_mode": {
    "name": "ipython",
    "version": 3
   },
   "file_extension": ".py",
   "mimetype": "text/x-python",
   "name": "python",
   "nbconvert_exporter": "python",
   "pygments_lexer": "ipython3",
   "version": "3.8.3"
  },
  "toc": {
   "base_numbering": 1,
   "nav_menu": {},
   "number_sections": true,
   "sideBar": true,
   "skip_h1_title": false,
   "title_cell": "Table of Contents",
   "title_sidebar": "Contents",
   "toc_cell": false,
   "toc_position": {},
   "toc_section_display": true,
   "toc_window_display": false
  },
  "varInspector": {
   "cols": {
    "lenName": 16,
    "lenType": 16,
    "lenVar": 40
   },
   "kernels_config": {
    "python": {
     "delete_cmd_postfix": "",
     "delete_cmd_prefix": "del ",
     "library": "var_list.py",
     "varRefreshCmd": "print(var_dic_list())"
    },
    "r": {
     "delete_cmd_postfix": ") ",
     "delete_cmd_prefix": "rm(",
     "library": "var_list.r",
     "varRefreshCmd": "cat(var_dic_list()) "
    }
   },
   "types_to_exclude": [
    "module",
    "function",
    "builtin_function_or_method",
    "instance",
    "_Feature"
   ],
   "window_display": false
  }
 },
 "nbformat": 4,
 "nbformat_minor": 5
}
