{
 "cells": [
  {
   "cell_type": "code",
   "execution_count": 1,
   "id": "29f53813",
   "metadata": {
    "ExecuteTime": {
     "end_time": "2022-01-22T15:35:51.222147Z",
     "start_time": "2022-01-22T15:35:48.311286Z"
    }
   },
   "outputs": [],
   "source": [
    "import pandas as pd\n",
    "import numpy as np\n",
    "import random\n",
    "%matplotlib inline\n",
    "import matplotlib.pyplot as plt"
   ]
  },
  {
   "cell_type": "code",
   "execution_count": 2,
   "id": "579fd5c4",
   "metadata": {
    "ExecuteTime": {
     "end_time": "2022-01-22T15:35:51.280230Z",
     "start_time": "2022-01-22T15:35:51.262763Z"
    }
   },
   "outputs": [],
   "source": [
    "testing=([0,20],[10,20],[20,10],[20,0],[20,-10],[10,-20],[0,-20],[-10,20],[-20,-10],[-20,0],[-20,10],[-10,20])\n",
    "# these are the testing co-ordinates where I will find the food"
   ]
  },
  {
   "cell_type": "code",
   "execution_count": 3,
   "id": "7d7a00f3",
   "metadata": {
    "ExecuteTime": {
     "end_time": "2022-01-22T15:35:52.065058Z",
     "start_time": "2022-01-22T15:35:52.058027Z"
    }
   },
   "outputs": [],
   "source": [
    "def direction(a): # function determing the direction of the movement and then adding the distance also.\n",
    "    if a==1: #North\n",
    "        cord=pd.DataFrame([[0,10,10]],columns=list('XYD'))\n",
    "    elif a==2: #South\n",
    "        cord=pd.DataFrame([[0,-10,10]],columns=list('XYD'))\n",
    "    elif a==3: #East\n",
    "        cord=pd.DataFrame([[10,0,10]],columns=list('XYD'))\n",
    "    elif a==4: #West\n",
    "        cord=pd.DataFrame([[-10,0,10]],columns=list('XYD'))\n",
    "    else:\n",
    "        raise ValueError(\"Enter Number between 1-4\")\n",
    "    return cord\n",
    "        "
   ]
  },
  {
   "cell_type": "code",
   "execution_count": 4,
   "id": "26a9dd70",
   "metadata": {
    "ExecuteTime": {
     "end_time": "2022-01-22T15:35:52.533493Z",
     "start_time": "2022-01-22T15:35:52.514626Z"
    }
   },
   "outputs": [],
   "source": [
    "initial_cordinate=pd.DataFrame([[0,0,0]],columns=list('XYD')) # initially at (0,0,0)"
   ]
  },
  {
   "cell_type": "code",
   "execution_count": 5,
   "id": "ddd628e0",
   "metadata": {
    "ExecuteTime": {
     "end_time": "2022-01-22T15:35:53.231889Z",
     "start_time": "2022-01-22T15:35:53.218953Z"
    }
   },
   "outputs": [],
   "source": [
    "def time():\n",
    "    ap=pd.DataFrame()\n",
    "    cordinate=initial_cordinate\n",
    "    for i in range(1,500):\n",
    "        number=random.randint(1,4)\n",
    "        cordinate=cordinate+direction(number) # Now, i am moving in random direction\n",
    "        data=cordinate\n",
    "        k=data.iloc[:,:2]\n",
    "        k_1=data.iloc[:,:3]\n",
    "        j=list(k.iloc[0])  # Testing the new cor-ordinate, if it satisfy the condition of being at food point save the point else start again\n",
    "        if j in testing:\n",
    "            ap=ap.append(k_1)\n",
    "            cordinate=initial_cordinate\n",
    "        else:\n",
    "            pass\n",
    "    return ap\n",
    "    "
   ]
  },
  {
   "cell_type": "code",
   "execution_count": 6,
   "id": "37f5fb00",
   "metadata": {
    "ExecuteTime": {
     "end_time": "2022-01-22T15:35:54.345059Z",
     "start_time": "2022-01-22T15:35:54.334314Z"
    }
   },
   "outputs": [],
   "source": [
    "t=pd.DataFrame()"
   ]
  },
  {
   "cell_type": "code",
   "execution_count": 7,
   "id": "14958446",
   "metadata": {
    "ExecuteTime": {
     "end_time": "2022-01-22T15:44:15.221942Z",
     "start_time": "2022-01-22T15:35:56.197548Z"
    }
   },
   "outputs": [],
   "source": [
    "for a in range(0,500):  # Doing the iteration of calculating the time again to increase the accuracy\n",
    "    y=time()\n",
    "    if y.empty:\n",
    "        pass\n",
    "    else:\n",
    "        y=y.iloc[:,2]\n",
    "        y=pd.Series(y.mean())\n",
    "        t=t.append(y/10,ignore_index=True)\n",
    "        a=a+1\n",
    "    "
   ]
  },
  {
   "cell_type": "code",
   "execution_count": 8,
   "id": "9e50443b",
   "metadata": {
    "ExecuteTime": {
     "end_time": "2022-01-22T15:44:44.413884Z",
     "start_time": "2022-01-22T15:44:44.394148Z"
    }
   },
   "outputs": [],
   "source": [
    "t.columns=['Time']"
   ]
  },
  {
   "cell_type": "code",
   "execution_count": 9,
   "id": "8dbba58b",
   "metadata": {
    "ExecuteTime": {
     "end_time": "2022-01-22T15:44:45.235370Z",
     "start_time": "2022-01-22T15:44:44.946190Z"
    }
   },
   "outputs": [
    {
     "data": {
      "text/plain": [
       "<matplotlib.axes._subplots.AxesSubplot at 0x1bf7d65c160>"
      ]
     },
     "execution_count": 9,
     "metadata": {},
     "output_type": "execute_result"
    },
    {
     "data": {
      "image/png": "[encoded data removed]",
      "text/plain": [
       "<Figure size 432x288 with 1 Axes>"
      ]
     },
     "metadata": {
      "needs_background": "light"
     },
     "output_type": "display_data"
    }
   ],
   "source": [
    "t.plot.hist() # Distribution of the Time variable"
   ]
  },
  {
   "cell_type": "code",
   "execution_count": 19,
   "id": "f8e23ae8",
   "metadata": {
    "ExecuteTime": {
     "end_time": "2022-01-22T15:57:08.898148Z",
     "start_time": "2022-01-22T15:57:08.884111Z"
    }
   },
   "outputs": [
    {
     "data": {
      "text/plain": [
       "Time    6.834863\n",
       "dtype: float64"
      ]
     },
     "execution_count": 19,
     "metadata": {},
     "output_type": "execute_result"
    }
   ],
   "source": [
    "t.mean()  #Answer: Average time"
   ]
  },
  {
   "cell_type": "code",
   "execution_count": 20,
   "id": "fcf26f49",
   "metadata": {
    "ExecuteTime": {
     "end_time": "2022-01-22T15:57:09.519158Z",
     "start_time": "2022-01-22T15:57:09.510153Z"
    }
   },
   "outputs": [
    {
     "data": {
      "text/plain": [
       "Time    23.358135\n",
       "dtype: float64"
      ]
     },
     "execution_count": 20,
     "metadata": {},
     "output_type": "execute_result"
    }
   ],
   "source": [
    "t.std() #Standard Deviation"
   ]
  },
  {
   "cell_type": "code",
   "execution_count": 21,
   "id": "c6bf75a7",
   "metadata": {
    "ExecuteTime": {
     "end_time": "2022-01-22T15:57:10.094023Z",
     "start_time": "2022-01-22T15:57:10.081026Z"
    }
   },
   "outputs": [],
   "source": [
    "CI_u,CI_l=(t.mean()+1.96*((t.std())/np.sqrt(len(t)))),(t.mean()-1.96*((t.std())/np.sqrt(len(t))))"
   ]
  },
  {
   "cell_type": "code",
   "execution_count": 22,
   "id": "7ee0e76e",
   "metadata": {
    "ExecuteTime": {
     "end_time": "2022-01-22T15:57:10.853228Z",
     "start_time": "2022-01-22T15:57:10.841192Z"
    }
   },
   "outputs": [
    {
     "data": {
      "text/plain": [
       "(Time    8.890533\n",
       " dtype: float64,\n",
       " Time    4.779193\n",
       " dtype: float64)"
      ]
     },
     "execution_count": 22,
     "metadata": {},
     "output_type": "execute_result"
    }
   ],
   "source": [
    "CI_u,CI_l #confidence Interval Upper and Lower at 95% "
   ]
  },
  {
   "cell_type": "code",
   "execution_count": 23,
   "id": "046f5f86",
   "metadata": {
    "ExecuteTime": {
     "end_time": "2022-01-22T15:57:11.400060Z",
     "start_time": "2022-01-22T15:57:11.384066Z"
    }
   },
   "outputs": [
    {
     "data": {
      "text/plain": [
       "Time    2.0\n",
       "dtype: float64"
      ]
     },
     "execution_count": 23,
     "metadata": {},
     "output_type": "execute_result"
    }
   ],
   "source": [
    "t.min()  # Minimum time "
   ]
  },
  {
   "cell_type": "code",
   "execution_count": 24,
   "id": "3526018f",
   "metadata": {
    "ExecuteTime": {
     "end_time": "2022-01-22T15:57:12.043180Z",
     "start_time": "2022-01-22T15:57:12.033184Z"
    }
   },
   "outputs": [
    {
     "data": {
      "text/plain": [
       "Time    496.0\n",
       "dtype: float64"
      ]
     },
     "execution_count": 24,
     "metadata": {},
     "output_type": "execute_result"
    }
   ],
   "source": [
    "t.max() # Maximum time"
   ]
  },
  {
   "cell_type": "code",
   "execution_count": null,
   "id": "181674bc",
   "metadata": {},
   "outputs": [],
   "source": []
  }
 ],
 "metadata": {
  "kernelspec": {
   "display_name": "Python 3",
   "language": "python",
   "name": "python3"
  },
  "language_info": {
   "codemirror_mode": {
    "name": "ipython",
    "version": 3
   },
   "file_extension": ".py",
   "mimetype": "text/x-python",
   "name": "python",
   "nbconvert_exporter": "python",
   "pygments_lexer": "ipython3",
   "version": "3.8.3"
  },
  "toc": {
   "base_numbering": 1,
   "nav_menu": {},
   "number_sections": true,
   "sideBar": true,
   "skip_h1_title": false,
   "title_cell": "Table of Contents",
   "title_sidebar": "Contents",
   "toc_cell": false,
   "toc_position": {},
   "toc_section_display": true,
   "toc_window_display": false
  },
  "varInspector": {
   "cols": {
    "lenName": 16,
    "lenType": 16,
    "lenVar": 40
   },
   "kernels_config": {
    "python": {
     "delete_cmd_postfix": "",
     "delete_cmd_prefix": "del ",
     "library": "var_list.py",
     "varRefreshCmd": "print(var_dic_list())"
    },
    "r": {
     "delete_cmd_postfix": ") ",
     "delete_cmd_prefix": "rm(",
     "library": "var_list.r",
     "varRefreshCmd": "cat(var_dic_list()) "
    }
   },
   "types_to_exclude": [
    "module",
    "function",
    "builtin_function_or_method",
    "instance",
    "_Feature"
   ],
   "window_display": false
  }
 },
 "nbformat": 4,
 "nbformat_minor": 5
}
