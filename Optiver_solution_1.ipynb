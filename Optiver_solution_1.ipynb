{
  "nbformat": 4,
  "nbformat_minor": 0,
  "metadata": {
    "colab": {
      "name": "Optiver_solution_1.ipynb",
      "provenance": []
    },
    "kernelspec": {
      "name": "python3",
      "display_name": "Python 3"
    },
    "language_info": {
      "name": "python"
    }
  },
  "cells": [
    {
      "cell_type": "code",
      "execution_count": 5,
      "metadata": {
        "id": "aNGflJT8_Vjm"
      },
      "outputs": [],
      "source": [
        "import pandas as pd \n",
        "import numpy as np\n",
        "import random\n",
        "import matplotlib.pyplot as plt"
      ]
    },
    {
      "cell_type": "code",
      "source": [
        "testing = ([0,20],[10,20],[20,10],[20,0],[20,-10],[10,-20],[0,-20],[-10,-20],[-20,-10],[-20,0],[-20,10],[-10,20])"
      ],
      "metadata": {
        "id": "cV4xH4XrAANC"
      },
      "execution_count": 369,
      "outputs": []
    },
    {
      "cell_type": "code",
      "source": [
        "def direction(a):\n",
        "  \"\"\"\n",
        "  \n",
        "    Calculates the direction of the movement as well as the traveled distance\n",
        "  \n",
        "    Parameters:\n",
        "    a (int): Direction of movement\n",
        "  \n",
        "    Returns:\n",
        "    DataFrame: Coordinate increments in the direction of the moment (X,Y) and distance (D)\n",
        "  \n",
        "    \"\"\"\n",
        "  if a == 1: #North\n",
        "    cord = pd.DataFrame([[0,10,10]], columns = list('XYD'))\n",
        "  elif a == 2: #South\n",
        "    cord = pd.DataFrame([[0,-10,10]], columns = list('XYD'))\n",
        "  elif a == 3: #East\n",
        "    cord = pd.DataFrame([[0,10,10]], columns = list('XYD'))\n",
        "  elif a == 4: #West\n",
        "    cord = pd.DataFrame([[10,0,10]], columns = list('XYD'))\n",
        "  else:\n",
        "    raise ValueError(\"Enter Number between 1-4\")\n",
        "  return cord"
      ],
      "metadata": {
        "id": "tx9HiWmJBULy"
      },
      "execution_count": 370,
      "outputs": []
    },
    {
      "cell_type": "code",
      "source": [
        "initial_cordinate = pd.DataFrame([[0,0,0]], columns = list('XYD')) #initially at (0,0,0)"
      ],
      "metadata": {
        "id": "fqP56iduCIi5"
      },
      "execution_count": 371,
      "outputs": []
    },
    {
      "cell_type": "code",
      "source": [
        "def time():\n",
        "  \"\"\"\n",
        "    From the starting point (0,0) calculates random paths until a testing point is reached\n",
        "  \n",
        "    Returns:\n",
        "    DataFrame: All trias conducted repoted as final cordinates (X,Y) and distance (D)\n",
        "  \n",
        "    \"\"\"\n",
        "  ap = pd.DataFrame()\n",
        "  #ap = pd.DataFrame(columns=['cordinates','distance'])\n",
        "  cordinate = initial_cordinate\n",
        "  for i in range (1,500):\n",
        "    number = random.randint(1,4)\n",
        "    cordinate = cordinate + direction(number)\n",
        "    k=cordinate.iloc[:,:2]\n",
        "    k = list(k.iloc[0])\n",
        "    k_1=cordinate.iloc[:,:3]\n",
        "    #k_1 = list(k_1.iloc[0])\n",
        "    if k in testing:\n",
        "      cordinate = initial_cordinate\n",
        "      #print(\"reached \",k,\" traveling \",k_1[2], \"cm\")\n",
        "      #ap = ap.append({'cordinates':k,'distance':k_1[2]},ignore_index=True)\n",
        "      ap = ap.append(k_1)\n",
        "  return(ap)"
      ],
      "metadata": {
        "id": "mUHyl2eCCh1s"
      },
      "execution_count": 409,
      "outputs": []
    },
    {
      "cell_type": "code",
      "source": [
        "t=pd.DataFrame()\n",
        "for a in range(1,200):\n",
        "  x = time()\n",
        "  y=x.iloc[:,2]\n",
        "  y=pd.Series(y.mean())\n",
        "  t=t.append(y/10,ignore_index=True)"
      ],
      "metadata": {
        "id": "cIEQ4bcBg-YC"
      },
      "execution_count": 410,
      "outputs": []
    },
    {
      "cell_type": "code",
      "source": [
        "print(\"For 198 iterations of 'time()' with around 140 succesful trials each time, the mean time until a barrier is reached is\", round(t.mean().values[0],3), \"seconds\")"
      ],
      "metadata": {
        "colab": {
          "base_uri": "https://localhost:8080/"
        },
        "id": "m-9nCnlEosCW",
        "outputId": "7eee56ae-e7dc-4011-885e-ee9b895800a4"
      },
      "execution_count": 431,
      "outputs": [
        {
          "output_type": "stream",
          "name": "stdout",
          "text": [
            "For 198 iterations of 'time()' with around 140 succesful trials each time, the mean time until a barrier is reached is 3.556 seconds\n"
          ]
        }
      ]
    },
    {
      "cell_type": "code",
      "source": [
        "t.plot.hist() # Distribution of the Time variable"
      ],
      "metadata": {
        "colab": {
          "base_uri": "https://localhost:8080/",
          "height": 280
        },
        "id": "IFY5zWeot4pX",
        "outputId": "b05df0a1-efec-4ee4-ab9d-1fa1ebd91be2"
      },
      "execution_count": 432,
      "outputs": [
        {
          "output_type": "execute_result",
          "data": {
            "text/plain": [
              "<matplotlib.axes._subplots.AxesSubplot at 0x7f92daac5350>"
            ]
          },
          "metadata": {},
          "execution_count": 432
        },
        {
          "output_type": "display_data",
          "data": {
            "image/png": "[encoded data removed]",
            "text/plain": [
              "<Figure size 432x288 with 1 Axes>"
            ]
          },
          "metadata": {
            "needs_background": "light"
          }
        }
      ]
    },
    {
      "cell_type": "code",
      "source": [
        "t.std() #Standard Deviation"
      ],
      "metadata": {
        "colab": {
          "base_uri": "https://localhost:8080/"
        },
        "id": "jAed6GoGuCze",
        "outputId": "995fdb32-4142-4d78-ea24-b52a28085fa4"
      },
      "execution_count": 433,
      "outputs": [
        {
          "output_type": "execute_result",
          "data": {
            "text/plain": [
              "0    0.151585\n",
              "dtype: float64"
            ]
          },
          "metadata": {},
          "execution_count": 433
        }
      ]
    },
    {
      "cell_type": "code",
      "source": [
        "CI_u,CI_l=(t.mean()+1.96*((t.std())/np.sqrt(len(t)))),(t.mean()-1.96*((t.std())/np.sqrt(len(t))))\n",
        "print(\"with a 95% of condicente the result is between\", CI_u[0],\"seconds and\",CI_l[0],\"seconds\")"
      ],
      "metadata": {
        "colab": {
          "base_uri": "https://localhost:8080/"
        },
        "id": "a637q94muQC8",
        "outputId": "0e260d8a-f449-4a90-de4f-ef886a255438"
      },
      "execution_count": 440,
      "outputs": [
        {
          "output_type": "stream",
          "name": "stdout",
          "text": [
            "with a 95% of condicente the result is between 3.577162682254582 seconds and 3.535040075279679 seconds\n"
          ]
        }
      ]
    },
    {
      "cell_type": "code",
      "source": [
        "t.min()[0]"
      ],
      "metadata": {
        "colab": {
          "base_uri": "https://localhost:8080/"
        },
        "id": "V1LKdXcQuqH_",
        "outputId": "3967dc9a-2547-4953-b5ec-0f7089f0de0c"
      },
      "execution_count": 443,
      "outputs": [
        {
          "output_type": "execute_result",
          "data": {
            "text/plain": [
              "3.138364779874214"
            ]
          },
          "metadata": {},
          "execution_count": 443
        }
      ]
    },
    {
      "cell_type": "code",
      "source": [
        "t.max()[0]"
      ],
      "metadata": {
        "colab": {
          "base_uri": "https://localhost:8080/"
        },
        "id": "zCcBkc8wuq1Q",
        "outputId": "771949f9-cb32-4395-ac93-996ce7f152f2"
      },
      "execution_count": 444,
      "outputs": [
        {
          "output_type": "execute_result",
          "data": {
            "text/plain": [
              "4.016129032258065"
            ]
          },
          "metadata": {},
          "execution_count": 444
        }
      ]
    }
  ]
}