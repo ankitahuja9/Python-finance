{
 "cells": [
  {
   "cell_type": "code",
   "execution_count": 1,
   "id": "8747be0b",
   "metadata": {
    "ExecuteTime": {
     "end_time": "2022-02-13T11:21:36.233769Z",
     "start_time": "2022-02-13T11:21:29.127007Z"
    }
   },
   "outputs": [],
   "source": [
    "from datetime import date\n",
    "import tearsheet as ts\n",
    "import ankitfinance as af\n",
    "import fundamental_health_topis as tp\n",
    "import talib\n",
    "import pandas as pd\n",
    "import numpy as np\n",
    "import yfinance as yf\n",
    "import matplotlib.pyplot as plt\n",
    "import warnings\n",
    "import scipy.stats as ss\n",
    "import statsmodels.api as sm\n",
    "import statsmodels\n",
    "warnings.filterwarnings('ignore')\n",
    "%matplotlib inline"
   ]
  },
  {
   "cell_type": "markdown",
   "id": "6848c163",
   "metadata": {},
   "source": [
    "# Europe Analysis"
   ]
  },
  {
   "cell_type": "markdown",
   "id": "9a1f1bdf",
   "metadata": {},
   "source": [
    "## Factors Data"
   ]
  },
  {
   "cell_type": "code",
   "execution_count": 11,
   "id": "5d474da3",
   "metadata": {
    "ExecuteTime": {
     "end_time": "2022-02-13T11:28:06.979857Z",
     "start_time": "2022-02-13T11:28:05.064315Z"
    }
   },
   "outputs": [
    {
     "data": {
      "text/html": [
       "<div>\n",
       "<style scoped>\n",
       "    .dataframe tbody tr th:only-of-type {\n",
       "        vertical-align: middle;\n",
       "    }\n",
       "\n",
       "    .dataframe tbody tr th {\n",
       "        vertical-align: top;\n",
       "    }\n",
       "\n",
       "    .dataframe thead th {\n",
       "        text-align: right;\n",
       "    }\n",
       "</style>\n",
       "<table border=\"1\" class=\"dataframe\">\n",
       "  <thead>\n",
       "    <tr style=\"text-align: right;\">\n",
       "      <th></th>\n",
       "      <th>Mkt-RF</th>\n",
       "      <th>SMB</th>\n",
       "      <th>HML</th>\n",
       "      <th>RF</th>\n",
       "    </tr>\n",
       "    <tr>\n",
       "      <th>Date</th>\n",
       "      <th></th>\n",
       "      <th></th>\n",
       "      <th></th>\n",
       "      <th></th>\n",
       "    </tr>\n",
       "  </thead>\n",
       "  <tbody>\n",
       "    <tr>\n",
       "      <th>1990-07-01</th>\n",
       "      <td>0.0446</td>\n",
       "      <td>0.0029</td>\n",
       "      <td>-0.0152</td>\n",
       "      <td>0.0068</td>\n",
       "    </tr>\n",
       "    <tr>\n",
       "      <th>1990-08-01</th>\n",
       "      <td>-0.1088</td>\n",
       "      <td>0.0018</td>\n",
       "      <td>-0.0030</td>\n",
       "      <td>0.0066</td>\n",
       "    </tr>\n",
       "  </tbody>\n",
       "</table>\n",
       "</div>"
      ],
      "text/plain": [
       "            Mkt-RF     SMB     HML      RF\n",
       "Date                                      \n",
       "1990-07-01  0.0446  0.0029 -0.0152  0.0068\n",
       "1990-08-01 -0.1088  0.0018 -0.0030  0.0066"
      ]
     },
     "execution_count": 11,
     "metadata": {},
     "output_type": "execute_result"
    }
   ],
   "source": [
    "data_europe=pd.read_csv(\"D:Msc-Finance/SEM-2/Asset_management/Asset_Report/Europe_3_Factors.csv\",index_col=0,header=0,parse_dates=True)\n",
    "data_europe.index=pd.to_datetime(data_europe.index)\n",
    "data_europe=data_europe/100\n",
    "data_europe.head(2)\n"
   ]
  },
  {
   "cell_type": "markdown",
   "id": "fca0eefb",
   "metadata": {},
   "source": [
    "## Germany Returns"
   ]
  },
  {
   "cell_type": "code",
   "execution_count": 12,
   "id": "fa38225c",
   "metadata": {
    "ExecuteTime": {
     "end_time": "2022-02-13T11:28:10.171757Z",
     "start_time": "2022-02-13T11:28:08.241403Z"
    }
   },
   "outputs": [
    {
     "name": "stdout",
     "output_type": "stream",
     "text": [
      "[*********************100%***********************]  1 of 1 completed\n"
     ]
    }
   ],
   "source": [
    "stock_data_germany=yf.download(tickers=\"BAS.DE\",start='1990-07-01',period='1mo')[['Adj Close']]\n",
    "stock_data_germany_returns=stock_data_germany.pct_change()\n",
    "monthly_germany=stock_data_germany_returns.resample(rule='M').apply(af.compound)\n",
    "monthly_germany=monthly_germany[0:-3]\n",
    "data_europe=data_europe[monthly_germany.index[0]:]\n",
    "data_europe=data_europe.drop(labels='RF',axis=1)\n",
    "data_europe['Alpha']=1\n",
    "data_europe.index=monthly_germany.index\n",
    "model=sm.OLS(monthly_germany,data_europe)\n",
    "fit=model.fit()"
   ]
  },
  {
   "cell_type": "markdown",
   "id": "b512d1dd",
   "metadata": {},
   "source": [
    "### Factors Model for Germany"
   ]
  },
  {
   "cell_type": "code",
   "execution_count": 13,
   "id": "7bf486df",
   "metadata": {
    "ExecuteTime": {
     "end_time": "2022-02-13T11:28:11.054730Z",
     "start_time": "2022-02-13T11:28:10.996373Z"
    }
   },
   "outputs": [
    {
     "data": {
      "text/html": [
       "<table class=\"simpletable\">\n",
       "<caption>OLS Regression Results</caption>\n",
       "<tr>\n",
       "  <th>Dep. Variable:</th>        <td>Adj Close</td>    <th>  R-squared:         </th> <td>   0.115</td>\n",
       "</tr>\n",
       "<tr>\n",
       "  <th>Model:</th>                   <td>OLS</td>       <th>  Adj. R-squared:    </th> <td>   0.106</td>\n",
       "</tr>\n",
       "<tr>\n",
       "  <th>Method:</th>             <td>Least Squares</td>  <th>  F-statistic:       </th> <td>   12.81</td>\n",
       "</tr>\n",
       "<tr>\n",
       "  <th>Date:</th>             <td>Sun, 13 Feb 2022</td> <th>  Prob (F-statistic):</th> <td>6.85e-08</td>\n",
       "</tr>\n",
       "<tr>\n",
       "  <th>Time:</th>                 <td>12:28:11</td>     <th>  Log-Likelihood:    </th> <td>  364.61</td>\n",
       "</tr>\n",
       "<tr>\n",
       "  <th>No. Observations:</th>      <td>   300</td>      <th>  AIC:               </th> <td>  -721.2</td>\n",
       "</tr>\n",
       "<tr>\n",
       "  <th>Df Residuals:</th>          <td>   296</td>      <th>  BIC:               </th> <td>  -706.4</td>\n",
       "</tr>\n",
       "<tr>\n",
       "  <th>Df Model:</th>              <td>     3</td>      <th>                     </th>     <td> </td>   \n",
       "</tr>\n",
       "<tr>\n",
       "  <th>Covariance Type:</th>      <td>nonrobust</td>    <th>                     </th>     <td> </td>   \n",
       "</tr>\n",
       "</table>\n",
       "<table class=\"simpletable\">\n",
       "<tr>\n",
       "     <td></td>       <th>coef</th>     <th>std err</th>      <th>t</th>      <th>P>|t|</th>  <th>[0.025</th>    <th>0.975]</th>  \n",
       "</tr>\n",
       "<tr>\n",
       "  <th>Mkt-RF</th> <td>    0.1465</td> <td>    0.083</td> <td>    1.759</td> <td> 0.080</td> <td>   -0.017</td> <td>    0.311</td>\n",
       "</tr>\n",
       "<tr>\n",
       "  <th>SMB</th>    <td>    1.1091</td> <td>    0.190</td> <td>    5.843</td> <td> 0.000</td> <td>    0.736</td> <td>    1.483</td>\n",
       "</tr>\n",
       "<tr>\n",
       "  <th>HML</th>    <td>    0.2733</td> <td>    0.156</td> <td>    1.753</td> <td> 0.081</td> <td>   -0.034</td> <td>    0.580</td>\n",
       "</tr>\n",
       "<tr>\n",
       "  <th>Alpha</th>  <td>    0.0076</td> <td>    0.004</td> <td>    1.804</td> <td> 0.072</td> <td>   -0.001</td> <td>    0.016</td>\n",
       "</tr>\n",
       "</table>\n",
       "<table class=\"simpletable\">\n",
       "<tr>\n",
       "  <th>Omnibus:</th>       <td> 9.210</td> <th>  Durbin-Watson:     </th> <td>   2.127</td>\n",
       "</tr>\n",
       "<tr>\n",
       "  <th>Prob(Omnibus):</th> <td> 0.010</td> <th>  Jarque-Bera (JB):  </th> <td>  17.086</td>\n",
       "</tr>\n",
       "<tr>\n",
       "  <th>Skew:</th>          <td> 0.027</td> <th>  Prob(JB):          </th> <td>0.000195</td>\n",
       "</tr>\n",
       "<tr>\n",
       "  <th>Kurtosis:</th>      <td> 4.168</td> <th>  Cond. No.          </th> <td>    45.9</td>\n",
       "</tr>\n",
       "</table><br/><br/>Notes:<br/>[1] Standard Errors assume that the covariance matrix of the errors is correctly specified."
      ],
      "text/plain": [
       "<class 'statsmodels.iolib.summary.Summary'>\n",
       "\"\"\"\n",
       "                            OLS Regression Results                            \n",
       "==============================================================================\n",
       "Dep. Variable:              Adj Close   R-squared:                       0.115\n",
       "Model:                            OLS   Adj. R-squared:                  0.106\n",
       "Method:                 Least Squares   F-statistic:                     12.81\n",
       "Date:                Sun, 13 Feb 2022   Prob (F-statistic):           6.85e-08\n",
       "Time:                        12:28:11   Log-Likelihood:                 364.61\n",
       "No. Observations:                 300   AIC:                            -721.2\n",
       "Df Residuals:                     296   BIC:                            -706.4\n",
       "Df Model:                           3                                         \n",
       "Covariance Type:            nonrobust                                         \n",
       "==============================================================================\n",
       "                 coef    std err          t      P>|t|      [0.025      0.975]\n",
       "------------------------------------------------------------------------------\n",
       "Mkt-RF         0.1465      0.083      1.759      0.080      -0.017       0.311\n",
       "SMB            1.1091      0.190      5.843      0.000       0.736       1.483\n",
       "HML            0.2733      0.156      1.753      0.081      -0.034       0.580\n",
       "Alpha          0.0076      0.004      1.804      0.072      -0.001       0.016\n",
       "==============================================================================\n",
       "Omnibus:                        9.210   Durbin-Watson:                   2.127\n",
       "Prob(Omnibus):                  0.010   Jarque-Bera (JB):               17.086\n",
       "Skew:                           0.027   Prob(JB):                     0.000195\n",
       "Kurtosis:                       4.168   Cond. No.                         45.9\n",
       "==============================================================================\n",
       "\n",
       "Notes:\n",
       "[1] Standard Errors assume that the covariance matrix of the errors is correctly specified.\n",
       "\"\"\""
      ]
     },
     "execution_count": 13,
     "metadata": {},
     "output_type": "execute_result"
    }
   ],
   "source": [
    "fit.summary()"
   ]
  },
  {
   "cell_type": "code",
   "execution_count": 14,
   "id": "3a09af05",
   "metadata": {
    "ExecuteTime": {
     "end_time": "2022-02-13T11:28:11.746863Z",
     "start_time": "2022-02-13T11:28:11.738701Z"
    }
   },
   "outputs": [],
   "source": [
    "Germany_Factors=fit.params"
   ]
  },
  {
   "cell_type": "code",
   "execution_count": 15,
   "id": "b3dce659",
   "metadata": {
    "ExecuteTime": {
     "end_time": "2022-02-13T11:28:12.244642Z",
     "start_time": "2022-02-13T11:28:12.228517Z"
    }
   },
   "outputs": [
    {
     "data": {
      "text/plain": [
       "Mkt-RF    0.146548\n",
       "SMB       1.109059\n",
       "HML       0.273290\n",
       "Alpha     0.007601\n",
       "dtype: float64"
      ]
     },
     "execution_count": 15,
     "metadata": {},
     "output_type": "execute_result"
    }
   ],
   "source": [
    "Germany_Factors"
   ]
  },
  {
   "cell_type": "markdown",
   "id": "0418c5d4",
   "metadata": {},
   "source": [
    "# America's Analysis"
   ]
  },
  {
   "cell_type": "markdown",
   "id": "362ad8ce",
   "metadata": {},
   "source": [
    "## Factor Data"
   ]
  },
  {
   "cell_type": "code",
   "execution_count": 16,
   "id": "ac65a2f1",
   "metadata": {
    "ExecuteTime": {
     "end_time": "2022-02-13T11:28:14.767607Z",
     "start_time": "2022-02-13T11:28:14.615157Z"
    }
   },
   "outputs": [],
   "source": [
    "data_america=pd.read_csv(\"D:Msc-Finance/SEM-2/Asset_management/Asset_Report/North_America_3_Factors.csv\",index_col=0,header=0,parse_dates=True)"
   ]
  },
  {
   "cell_type": "code",
   "execution_count": 17,
   "id": "ac4c7075",
   "metadata": {
    "ExecuteTime": {
     "end_time": "2022-02-13T11:28:15.208099Z",
     "start_time": "2022-02-13T11:28:15.200991Z"
    }
   },
   "outputs": [],
   "source": [
    "data_america=(data_america/100)"
   ]
  },
  {
   "cell_type": "markdown",
   "id": "c537b58f",
   "metadata": {
    "ExecuteTime": {
     "end_time": "2022-02-09T17:57:27.296601Z",
     "start_time": "2022-02-09T17:57:27.282394Z"
    }
   },
   "source": [
    "## American Returns"
   ]
  },
  {
   "cell_type": "code",
   "execution_count": 18,
   "id": "b55dae19",
   "metadata": {
    "ExecuteTime": {
     "end_time": "2022-02-13T11:28:16.606272Z",
     "start_time": "2022-02-13T11:28:16.244939Z"
    }
   },
   "outputs": [
    {
     "name": "stdout",
     "output_type": "stream",
     "text": [
      "[*********************100%***********************]  1 of 1 completed\n"
     ]
    }
   ],
   "source": [
    "stock_america=yf.download(tickers='BASFY',start='1990-07-01',interval='1mo')[['Adj Close']]\n",
    "stock_america.head(2)\n",
    "stock_america_returns=stock_america.pct_change()\n",
    "stock_america_returns\n",
    "data_america=data_america[stock_america_returns.index[0]:]\n",
    "stock_america_returns=stock_america_returns[0:-3]\n",
    "k=pd.concat([stock_america_returns,data_america],axis=1)\n",
    "k=k.dropna()\n",
    "k['Alpha']=1"
   ]
  },
  {
   "cell_type": "code",
   "execution_count": 19,
   "id": "ca516e1d",
   "metadata": {
    "ExecuteTime": {
     "end_time": "2022-02-13T11:28:17.192170Z",
     "start_time": "2022-02-13T11:28:17.174040Z"
    }
   },
   "outputs": [],
   "source": [
    "k=k.drop(labels='RF',axis=1)"
   ]
  },
  {
   "cell_type": "code",
   "execution_count": 20,
   "id": "8be5c195",
   "metadata": {
    "ExecuteTime": {
     "end_time": "2022-02-13T11:28:17.686137Z",
     "start_time": "2022-02-13T11:28:17.657108Z"
    }
   },
   "outputs": [
    {
     "data": {
      "text/html": [
       "<div>\n",
       "<style scoped>\n",
       "    .dataframe tbody tr th:only-of-type {\n",
       "        vertical-align: middle;\n",
       "    }\n",
       "\n",
       "    .dataframe tbody tr th {\n",
       "        vertical-align: top;\n",
       "    }\n",
       "\n",
       "    .dataframe thead th {\n",
       "        text-align: right;\n",
       "    }\n",
       "</style>\n",
       "<table border=\"1\" class=\"dataframe\">\n",
       "  <thead>\n",
       "    <tr style=\"text-align: right;\">\n",
       "      <th></th>\n",
       "      <th>Adj Close</th>\n",
       "      <th>Mkt-RF</th>\n",
       "      <th>SMB</th>\n",
       "      <th>HML</th>\n",
       "      <th>Alpha</th>\n",
       "    </tr>\n",
       "    <tr>\n",
       "      <th>Date</th>\n",
       "      <th></th>\n",
       "      <th></th>\n",
       "      <th></th>\n",
       "      <th></th>\n",
       "      <th></th>\n",
       "    </tr>\n",
       "  </thead>\n",
       "  <tbody>\n",
       "    <tr>\n",
       "      <th>1997-01-01</th>\n",
       "      <td>-0.052287</td>\n",
       "      <td>0.0497</td>\n",
       "      <td>-0.0145</td>\n",
       "      <td>-0.0154</td>\n",
       "      <td>1</td>\n",
       "    </tr>\n",
       "    <tr>\n",
       "      <th>1997-02-01</th>\n",
       "      <td>0.017241</td>\n",
       "      <td>-0.0036</td>\n",
       "      <td>-0.0346</td>\n",
       "      <td>0.0503</td>\n",
       "      <td>1</td>\n",
       "    </tr>\n",
       "    <tr>\n",
       "      <th>1997-03-01</th>\n",
       "      <td>0.003390</td>\n",
       "      <td>-0.0490</td>\n",
       "      <td>-0.0123</td>\n",
       "      <td>0.0387</td>\n",
       "      <td>1</td>\n",
       "    </tr>\n",
       "  </tbody>\n",
       "</table>\n",
       "</div>"
      ],
      "text/plain": [
       "            Adj Close  Mkt-RF     SMB     HML  Alpha\n",
       "Date                                                \n",
       "1997-01-01  -0.052287  0.0497 -0.0145 -0.0154      1\n",
       "1997-02-01   0.017241 -0.0036 -0.0346  0.0503      1\n",
       "1997-03-01   0.003390 -0.0490 -0.0123  0.0387      1"
      ]
     },
     "execution_count": 20,
     "metadata": {},
     "output_type": "execute_result"
    }
   ],
   "source": [
    "k.head(3)"
   ]
  },
  {
   "cell_type": "markdown",
   "id": "d929aa91",
   "metadata": {},
   "source": [
    "### Factor Analysis"
   ]
  },
  {
   "cell_type": "code",
   "execution_count": 21,
   "id": "28cc9788",
   "metadata": {
    "ExecuteTime": {
     "end_time": "2022-02-13T11:28:18.862511Z",
     "start_time": "2022-02-13T11:28:18.845897Z"
    }
   },
   "outputs": [],
   "source": [
    "model_america=sm.OLS(k.iloc[:,0],k.iloc[:,1:])"
   ]
  },
  {
   "cell_type": "code",
   "execution_count": 22,
   "id": "108781e0",
   "metadata": {
    "ExecuteTime": {
     "end_time": "2022-02-13T11:28:19.279818Z",
     "start_time": "2022-02-13T11:28:19.274582Z"
    }
   },
   "outputs": [],
   "source": [
    "fit_america=model.fit()"
   ]
  },
  {
   "cell_type": "code",
   "execution_count": 23,
   "id": "31ce4169",
   "metadata": {
    "ExecuteTime": {
     "end_time": "2022-02-13T11:28:19.702940Z",
     "start_time": "2022-02-13T11:28:19.667987Z"
    }
   },
   "outputs": [
    {
     "data": {
      "text/html": [
       "<table class=\"simpletable\">\n",
       "<caption>OLS Regression Results</caption>\n",
       "<tr>\n",
       "  <th>Dep. Variable:</th>        <td>Adj Close</td>    <th>  R-squared:         </th> <td>   0.115</td>\n",
       "</tr>\n",
       "<tr>\n",
       "  <th>Model:</th>                   <td>OLS</td>       <th>  Adj. R-squared:    </th> <td>   0.106</td>\n",
       "</tr>\n",
       "<tr>\n",
       "  <th>Method:</th>             <td>Least Squares</td>  <th>  F-statistic:       </th> <td>   12.81</td>\n",
       "</tr>\n",
       "<tr>\n",
       "  <th>Date:</th>             <td>Sun, 13 Feb 2022</td> <th>  Prob (F-statistic):</th> <td>6.85e-08</td>\n",
       "</tr>\n",
       "<tr>\n",
       "  <th>Time:</th>                 <td>12:28:19</td>     <th>  Log-Likelihood:    </th> <td>  364.61</td>\n",
       "</tr>\n",
       "<tr>\n",
       "  <th>No. Observations:</th>      <td>   300</td>      <th>  AIC:               </th> <td>  -721.2</td>\n",
       "</tr>\n",
       "<tr>\n",
       "  <th>Df Residuals:</th>          <td>   296</td>      <th>  BIC:               </th> <td>  -706.4</td>\n",
       "</tr>\n",
       "<tr>\n",
       "  <th>Df Model:</th>              <td>     3</td>      <th>                     </th>     <td> </td>   \n",
       "</tr>\n",
       "<tr>\n",
       "  <th>Covariance Type:</th>      <td>nonrobust</td>    <th>                     </th>     <td> </td>   \n",
       "</tr>\n",
       "</table>\n",
       "<table class=\"simpletable\">\n",
       "<tr>\n",
       "     <td></td>       <th>coef</th>     <th>std err</th>      <th>t</th>      <th>P>|t|</th>  <th>[0.025</th>    <th>0.975]</th>  \n",
       "</tr>\n",
       "<tr>\n",
       "  <th>Mkt-RF</th> <td>    0.1465</td> <td>    0.083</td> <td>    1.759</td> <td> 0.080</td> <td>   -0.017</td> <td>    0.311</td>\n",
       "</tr>\n",
       "<tr>\n",
       "  <th>SMB</th>    <td>    1.1091</td> <td>    0.190</td> <td>    5.843</td> <td> 0.000</td> <td>    0.736</td> <td>    1.483</td>\n",
       "</tr>\n",
       "<tr>\n",
       "  <th>HML</th>    <td>    0.2733</td> <td>    0.156</td> <td>    1.753</td> <td> 0.081</td> <td>   -0.034</td> <td>    0.580</td>\n",
       "</tr>\n",
       "<tr>\n",
       "  <th>Alpha</th>  <td>    0.0076</td> <td>    0.004</td> <td>    1.804</td> <td> 0.072</td> <td>   -0.001</td> <td>    0.016</td>\n",
       "</tr>\n",
       "</table>\n",
       "<table class=\"simpletable\">\n",
       "<tr>\n",
       "  <th>Omnibus:</th>       <td> 9.210</td> <th>  Durbin-Watson:     </th> <td>   2.127</td>\n",
       "</tr>\n",
       "<tr>\n",
       "  <th>Prob(Omnibus):</th> <td> 0.010</td> <th>  Jarque-Bera (JB):  </th> <td>  17.086</td>\n",
       "</tr>\n",
       "<tr>\n",
       "  <th>Skew:</th>          <td> 0.027</td> <th>  Prob(JB):          </th> <td>0.000195</td>\n",
       "</tr>\n",
       "<tr>\n",
       "  <th>Kurtosis:</th>      <td> 4.168</td> <th>  Cond. No.          </th> <td>    45.9</td>\n",
       "</tr>\n",
       "</table><br/><br/>Notes:<br/>[1] Standard Errors assume that the covariance matrix of the errors is correctly specified."
      ],
      "text/plain": [
       "<class 'statsmodels.iolib.summary.Summary'>\n",
       "\"\"\"\n",
       "                            OLS Regression Results                            \n",
       "==============================================================================\n",
       "Dep. Variable:              Adj Close   R-squared:                       0.115\n",
       "Model:                            OLS   Adj. R-squared:                  0.106\n",
       "Method:                 Least Squares   F-statistic:                     12.81\n",
       "Date:                Sun, 13 Feb 2022   Prob (F-statistic):           6.85e-08\n",
       "Time:                        12:28:19   Log-Likelihood:                 364.61\n",
       "No. Observations:                 300   AIC:                            -721.2\n",
       "Df Residuals:                     296   BIC:                            -706.4\n",
       "Df Model:                           3                                         \n",
       "Covariance Type:            nonrobust                                         \n",
       "==============================================================================\n",
       "                 coef    std err          t      P>|t|      [0.025      0.975]\n",
       "------------------------------------------------------------------------------\n",
       "Mkt-RF         0.1465      0.083      1.759      0.080      -0.017       0.311\n",
       "SMB            1.1091      0.190      5.843      0.000       0.736       1.483\n",
       "HML            0.2733      0.156      1.753      0.081      -0.034       0.580\n",
       "Alpha          0.0076      0.004      1.804      0.072      -0.001       0.016\n",
       "==============================================================================\n",
       "Omnibus:                        9.210   Durbin-Watson:                   2.127\n",
       "Prob(Omnibus):                  0.010   Jarque-Bera (JB):               17.086\n",
       "Skew:                           0.027   Prob(JB):                     0.000195\n",
       "Kurtosis:                       4.168   Cond. No.                         45.9\n",
       "==============================================================================\n",
       "\n",
       "Notes:\n",
       "[1] Standard Errors assume that the covariance matrix of the errors is correctly specified.\n",
       "\"\"\""
      ]
     },
     "execution_count": 23,
     "metadata": {},
     "output_type": "execute_result"
    }
   ],
   "source": [
    "fit_america.summary()"
   ]
  },
  {
   "cell_type": "code",
   "execution_count": 24,
   "id": "70ae17e3",
   "metadata": {
    "ExecuteTime": {
     "end_time": "2022-02-13T11:28:20.412021Z",
     "start_time": "2022-02-13T11:28:20.383834Z"
    }
   },
   "outputs": [],
   "source": [
    "america_factors=fit_america.params"
   ]
  },
  {
   "cell_type": "markdown",
   "id": "146383d4",
   "metadata": {},
   "source": [
    "# Asia Pacific "
   ]
  },
  {
   "cell_type": "markdown",
   "id": "2b859305",
   "metadata": {},
   "source": [
    "## Factor Data"
   ]
  },
  {
   "cell_type": "code",
   "execution_count": 25,
   "id": "94096c02",
   "metadata": {
    "ExecuteTime": {
     "end_time": "2022-02-13T11:28:22.144212Z",
     "start_time": "2022-02-13T11:28:21.999505Z"
    }
   },
   "outputs": [],
   "source": [
    "data_asia=pd.read_csv(\"D:Msc-Finance/SEM-2/Asset_management/Asset_Report/Asia_Pacific_ex_Japan_3_Factors.csv\",index_col=0,header=0,parse_dates=True)\n",
    "data_asia=data_asia/100"
   ]
  },
  {
   "cell_type": "code",
   "execution_count": 26,
   "id": "1d48139b",
   "metadata": {
    "ExecuteTime": {
     "end_time": "2022-02-13T11:28:22.926676Z",
     "start_time": "2022-02-13T11:28:22.914262Z"
    }
   },
   "outputs": [
    {
     "data": {
      "text/html": [
       "<div>\n",
       "<style scoped>\n",
       "    .dataframe tbody tr th:only-of-type {\n",
       "        vertical-align: middle;\n",
       "    }\n",
       "\n",
       "    .dataframe tbody tr th {\n",
       "        vertical-align: top;\n",
       "    }\n",
       "\n",
       "    .dataframe thead th {\n",
       "        text-align: right;\n",
       "    }\n",
       "</style>\n",
       "<table border=\"1\" class=\"dataframe\">\n",
       "  <thead>\n",
       "    <tr style=\"text-align: right;\">\n",
       "      <th></th>\n",
       "      <th>Mkt-RF</th>\n",
       "      <th>SMB</th>\n",
       "      <th>HML</th>\n",
       "      <th>RF</th>\n",
       "    </tr>\n",
       "    <tr>\n",
       "      <th>Date</th>\n",
       "      <th></th>\n",
       "      <th></th>\n",
       "      <th></th>\n",
       "      <th></th>\n",
       "    </tr>\n",
       "  </thead>\n",
       "  <tbody>\n",
       "    <tr>\n",
       "      <th>1990-07-01</th>\n",
       "      <td>0.0420</td>\n",
       "      <td>-0.0302</td>\n",
       "      <td>-0.0146</td>\n",
       "      <td>0.0068</td>\n",
       "    </tr>\n",
       "    <tr>\n",
       "      <th>1990-08-01</th>\n",
       "      <td>-0.0868</td>\n",
       "      <td>0.0317</td>\n",
       "      <td>0.0173</td>\n",
       "      <td>0.0066</td>\n",
       "    </tr>\n",
       "    <tr>\n",
       "      <th>1990-09-01</th>\n",
       "      <td>-0.0880</td>\n",
       "      <td>0.0403</td>\n",
       "      <td>-0.0006</td>\n",
       "      <td>0.0060</td>\n",
       "    </tr>\n",
       "    <tr>\n",
       "      <th>1990-10-01</th>\n",
       "      <td>-0.0195</td>\n",
       "      <td>-0.0518</td>\n",
       "      <td>-0.0148</td>\n",
       "      <td>0.0068</td>\n",
       "    </tr>\n",
       "  </tbody>\n",
       "</table>\n",
       "</div>"
      ],
      "text/plain": [
       "            Mkt-RF     SMB     HML      RF\n",
       "Date                                      \n",
       "1990-07-01  0.0420 -0.0302 -0.0146  0.0068\n",
       "1990-08-01 -0.0868  0.0317  0.0173  0.0066\n",
       "1990-09-01 -0.0880  0.0403 -0.0006  0.0060\n",
       "1990-10-01 -0.0195 -0.0518 -0.0148  0.0068"
      ]
     },
     "execution_count": 26,
     "metadata": {},
     "output_type": "execute_result"
    }
   ],
   "source": [
    "data_asia.head(4)"
   ]
  },
  {
   "cell_type": "markdown",
   "id": "b32b7ce3",
   "metadata": {},
   "source": [
    "## Indian Returns"
   ]
  },
  {
   "cell_type": "code",
   "execution_count": 27,
   "id": "762c531f",
   "metadata": {
    "ExecuteTime": {
     "end_time": "2022-02-13T11:28:24.848226Z",
     "start_time": "2022-02-13T11:28:24.514819Z"
    }
   },
   "outputs": [
    {
     "name": "stdout",
     "output_type": "stream",
     "text": [
      "[*********************100%***********************]  1 of 1 completed\n"
     ]
    }
   ],
   "source": [
    "stock_india=yf.download(tickers='BASF.NS',start='1990-07-01',end='2021-12-01',interval='1mo')[['Adj Close']]\n",
    "stock_india_returns=stock_india.pct_change()\n",
    "frame=pd.concat([stock_india_returns,data_asia],axis=1).dropna()\n",
    "frame['Alpha']=1\n",
    "frame=frame.drop(labels='RF',axis=1)"
   ]
  },
  {
   "cell_type": "code",
   "execution_count": 28,
   "id": "65ee67ff",
   "metadata": {
    "ExecuteTime": {
     "end_time": "2022-02-13T11:28:25.271391Z",
     "start_time": "2022-02-13T11:28:25.241976Z"
    }
   },
   "outputs": [
    {
     "data": {
      "text/html": [
       "<div>\n",
       "<style scoped>\n",
       "    .dataframe tbody tr th:only-of-type {\n",
       "        vertical-align: middle;\n",
       "    }\n",
       "\n",
       "    .dataframe tbody tr th {\n",
       "        vertical-align: top;\n",
       "    }\n",
       "\n",
       "    .dataframe thead th {\n",
       "        text-align: right;\n",
       "    }\n",
       "</style>\n",
       "<table border=\"1\" class=\"dataframe\">\n",
       "  <thead>\n",
       "    <tr style=\"text-align: right;\">\n",
       "      <th></th>\n",
       "      <th>Adj Close</th>\n",
       "      <th>Mkt-RF</th>\n",
       "      <th>SMB</th>\n",
       "      <th>HML</th>\n",
       "      <th>Alpha</th>\n",
       "    </tr>\n",
       "    <tr>\n",
       "      <th>Date</th>\n",
       "      <th></th>\n",
       "      <th></th>\n",
       "      <th></th>\n",
       "      <th></th>\n",
       "      <th></th>\n",
       "    </tr>\n",
       "  </thead>\n",
       "  <tbody>\n",
       "    <tr>\n",
       "      <th>2002-08-01</th>\n",
       "      <td>0.069742</td>\n",
       "      <td>0.0003</td>\n",
       "      <td>0.0172</td>\n",
       "      <td>-0.0262</td>\n",
       "      <td>1</td>\n",
       "    </tr>\n",
       "    <tr>\n",
       "      <th>2002-09-01</th>\n",
       "      <td>-0.120346</td>\n",
       "      <td>-0.0740</td>\n",
       "      <td>-0.0072</td>\n",
       "      <td>-0.0084</td>\n",
       "      <td>1</td>\n",
       "    </tr>\n",
       "    <tr>\n",
       "      <th>2002-10-01</th>\n",
       "      <td>-0.072343</td>\n",
       "      <td>0.0455</td>\n",
       "      <td>-0.0308</td>\n",
       "      <td>0.0065</td>\n",
       "      <td>1</td>\n",
       "    </tr>\n",
       "  </tbody>\n",
       "</table>\n",
       "</div>"
      ],
      "text/plain": [
       "            Adj Close  Mkt-RF     SMB     HML  Alpha\n",
       "Date                                                \n",
       "2002-08-01   0.069742  0.0003  0.0172 -0.0262      1\n",
       "2002-09-01  -0.120346 -0.0740 -0.0072 -0.0084      1\n",
       "2002-10-01  -0.072343  0.0455 -0.0308  0.0065      1"
      ]
     },
     "execution_count": 28,
     "metadata": {},
     "output_type": "execute_result"
    }
   ],
   "source": [
    "frame.head(3)"
   ]
  },
  {
   "cell_type": "markdown",
   "id": "818ded2b",
   "metadata": {},
   "source": [
    "### Factor Analysis"
   ]
  },
  {
   "cell_type": "code",
   "execution_count": 29,
   "id": "dbd0f387",
   "metadata": {
    "ExecuteTime": {
     "end_time": "2022-02-13T11:28:26.399454Z",
     "start_time": "2022-02-13T11:28:26.383606Z"
    }
   },
   "outputs": [],
   "source": [
    "model_india=sm.OLS(frame.iloc[:,0],frame.iloc[:,1:])"
   ]
  },
  {
   "cell_type": "code",
   "execution_count": 30,
   "id": "5a30ca5e",
   "metadata": {
    "ExecuteTime": {
     "end_time": "2022-02-13T11:28:26.793124Z",
     "start_time": "2022-02-13T11:28:26.773133Z"
    }
   },
   "outputs": [],
   "source": [
    "fit_india=model_india.fit()"
   ]
  },
  {
   "cell_type": "code",
   "execution_count": 31,
   "id": "6bd27a48",
   "metadata": {
    "ExecuteTime": {
     "end_time": "2022-02-13T11:28:27.218401Z",
     "start_time": "2022-02-13T11:28:27.193194Z"
    }
   },
   "outputs": [
    {
     "data": {
      "text/html": [
       "<table class=\"simpletable\">\n",
       "<caption>OLS Regression Results</caption>\n",
       "<tr>\n",
       "  <th>Dep. Variable:</th>        <td>Adj Close</td>    <th>  R-squared:         </th> <td>   0.100</td>\n",
       "</tr>\n",
       "<tr>\n",
       "  <th>Model:</th>                   <td>OLS</td>       <th>  Adj. R-squared:    </th> <td>   0.088</td>\n",
       "</tr>\n",
       "<tr>\n",
       "  <th>Method:</th>             <td>Least Squares</td>  <th>  F-statistic:       </th> <td>   8.470</td>\n",
       "</tr>\n",
       "<tr>\n",
       "  <th>Date:</th>             <td>Sun, 13 Feb 2022</td> <th>  Prob (F-statistic):</th> <td>2.33e-05</td>\n",
       "</tr>\n",
       "<tr>\n",
       "  <th>Time:</th>                 <td>12:28:27</td>     <th>  Log-Likelihood:    </th> <td>  204.24</td>\n",
       "</tr>\n",
       "<tr>\n",
       "  <th>No. Observations:</th>      <td>   233</td>      <th>  AIC:               </th> <td>  -400.5</td>\n",
       "</tr>\n",
       "<tr>\n",
       "  <th>Df Residuals:</th>          <td>   229</td>      <th>  BIC:               </th> <td>  -386.7</td>\n",
       "</tr>\n",
       "<tr>\n",
       "  <th>Df Model:</th>              <td>     3</td>      <th>                     </th>     <td> </td>   \n",
       "</tr>\n",
       "<tr>\n",
       "  <th>Covariance Type:</th>      <td>nonrobust</td>    <th>                     </th>     <td> </td>   \n",
       "</tr>\n",
       "</table>\n",
       "<table class=\"simpletable\">\n",
       "<tr>\n",
       "     <td></td>       <th>coef</th>     <th>std err</th>      <th>t</th>      <th>P>|t|</th>  <th>[0.025</th>    <th>0.975]</th>  \n",
       "</tr>\n",
       "<tr>\n",
       "  <th>Mkt-RF</th> <td>    0.5571</td> <td>    0.122</td> <td>    4.585</td> <td> 0.000</td> <td>    0.318</td> <td>    0.797</td>\n",
       "</tr>\n",
       "<tr>\n",
       "  <th>SMB</th>    <td>    0.3728</td> <td>    0.258</td> <td>    1.443</td> <td> 0.150</td> <td>   -0.136</td> <td>    0.882</td>\n",
       "</tr>\n",
       "<tr>\n",
       "  <th>HML</th>    <td>    0.2497</td> <td>    0.271</td> <td>    0.923</td> <td> 0.357</td> <td>   -0.283</td> <td>    0.783</td>\n",
       "</tr>\n",
       "<tr>\n",
       "  <th>Alpha</th>  <td>    0.0160</td> <td>    0.007</td> <td>    2.362</td> <td> 0.019</td> <td>    0.003</td> <td>    0.029</td>\n",
       "</tr>\n",
       "</table>\n",
       "<table class=\"simpletable\">\n",
       "<tr>\n",
       "  <th>Omnibus:</th>       <td> 9.718</td> <th>  Durbin-Watson:     </th> <td>   2.069</td>\n",
       "</tr>\n",
       "<tr>\n",
       "  <th>Prob(Omnibus):</th> <td> 0.008</td> <th>  Jarque-Bera (JB):  </th> <td>  10.269</td>\n",
       "</tr>\n",
       "<tr>\n",
       "  <th>Skew:</th>          <td> 0.411</td> <th>  Prob(JB):          </th> <td> 0.00589</td>\n",
       "</tr>\n",
       "<tr>\n",
       "  <th>Kurtosis:</th>      <td> 3.619</td> <th>  Cond. No.          </th> <td>    42.5</td>\n",
       "</tr>\n",
       "</table><br/><br/>Notes:<br/>[1] Standard Errors assume that the covariance matrix of the errors is correctly specified."
      ],
      "text/plain": [
       "<class 'statsmodels.iolib.summary.Summary'>\n",
       "\"\"\"\n",
       "                            OLS Regression Results                            \n",
       "==============================================================================\n",
       "Dep. Variable:              Adj Close   R-squared:                       0.100\n",
       "Model:                            OLS   Adj. R-squared:                  0.088\n",
       "Method:                 Least Squares   F-statistic:                     8.470\n",
       "Date:                Sun, 13 Feb 2022   Prob (F-statistic):           2.33e-05\n",
       "Time:                        12:28:27   Log-Likelihood:                 204.24\n",
       "No. Observations:                 233   AIC:                            -400.5\n",
       "Df Residuals:                     229   BIC:                            -386.7\n",
       "Df Model:                           3                                         \n",
       "Covariance Type:            nonrobust                                         \n",
       "==============================================================================\n",
       "                 coef    std err          t      P>|t|      [0.025      0.975]\n",
       "------------------------------------------------------------------------------\n",
       "Mkt-RF         0.5571      0.122      4.585      0.000       0.318       0.797\n",
       "SMB            0.3728      0.258      1.443      0.150      -0.136       0.882\n",
       "HML            0.2497      0.271      0.923      0.357      -0.283       0.783\n",
       "Alpha          0.0160      0.007      2.362      0.019       0.003       0.029\n",
       "==============================================================================\n",
       "Omnibus:                        9.718   Durbin-Watson:                   2.069\n",
       "Prob(Omnibus):                  0.008   Jarque-Bera (JB):               10.269\n",
       "Skew:                           0.411   Prob(JB):                      0.00589\n",
       "Kurtosis:                       3.619   Cond. No.                         42.5\n",
       "==============================================================================\n",
       "\n",
       "Notes:\n",
       "[1] Standard Errors assume that the covariance matrix of the errors is correctly specified.\n",
       "\"\"\""
      ]
     },
     "execution_count": 31,
     "metadata": {},
     "output_type": "execute_result"
    }
   ],
   "source": [
    "fit_india.summary()"
   ]
  },
  {
   "cell_type": "code",
   "execution_count": 32,
   "id": "26f62c50",
   "metadata": {
    "ExecuteTime": {
     "end_time": "2022-02-13T11:28:27.743099Z",
     "start_time": "2022-02-13T11:28:27.730979Z"
    }
   },
   "outputs": [],
   "source": [
    "india_factors=fit_india.params"
   ]
  },
  {
   "cell_type": "code",
   "execution_count": 33,
   "id": "b8e61959",
   "metadata": {
    "ExecuteTime": {
     "end_time": "2022-02-13T11:28:28.415962Z",
     "start_time": "2022-02-13T11:28:28.402829Z"
    }
   },
   "outputs": [
    {
     "data": {
      "text/plain": [
       "Mkt-RF    0.557141\n",
       "SMB       0.372752\n",
       "HML       0.249653\n",
       "Alpha     0.016043\n",
       "dtype: float64"
      ]
     },
     "execution_count": 33,
     "metadata": {},
     "output_type": "execute_result"
    }
   ],
   "source": [
    "india_factors"
   ]
  },
  {
   "cell_type": "markdown",
   "id": "084997e4",
   "metadata": {
    "ExecuteTime": {
     "end_time": "2022-02-09T19:13:48.862458Z",
     "start_time": "2022-02-09T19:13:48.856436Z"
    }
   },
   "source": [
    "# Cumulative "
   ]
  },
  {
   "cell_type": "code",
   "execution_count": 79,
   "id": "c6a6cfd5",
   "metadata": {
    "ExecuteTime": {
     "end_time": "2022-02-13T11:57:38.480791Z",
     "start_time": "2022-02-13T11:57:38.464675Z"
    }
   },
   "outputs": [
    {
     "data": {
      "text/plain": [
       "Mkt-RF    0.557141\n",
       "SMB       0.372752\n",
       "HML       0.249653\n",
       "Alpha     0.016043\n",
       "dtype: float64"
      ]
     },
     "execution_count": 79,
     "metadata": {},
     "output_type": "execute_result"
    }
   ],
   "source": [
    "india_factors"
   ]
  },
  {
   "cell_type": "code",
   "execution_count": 80,
   "id": "db44f1dd",
   "metadata": {
    "ExecuteTime": {
     "end_time": "2022-02-13T11:57:39.004520Z",
     "start_time": "2022-02-13T11:57:38.990967Z"
    }
   },
   "outputs": [
    {
     "data": {
      "text/plain": [
       "Mkt-RF    0.146548\n",
       "SMB       1.109059\n",
       "HML       0.273290\n",
       "Alpha     0.007601\n",
       "dtype: float64"
      ]
     },
     "execution_count": 80,
     "metadata": {},
     "output_type": "execute_result"
    }
   ],
   "source": [
    "Germany_Factors"
   ]
  },
  {
   "cell_type": "code",
   "execution_count": 81,
   "id": "45a073e4",
   "metadata": {
    "ExecuteTime": {
     "end_time": "2022-02-13T11:57:39.466351Z",
     "start_time": "2022-02-13T11:57:39.458284Z"
    }
   },
   "outputs": [
    {
     "data": {
      "text/plain": [
       "Mkt-RF    0.146548\n",
       "SMB       1.109059\n",
       "HML       0.273290\n",
       "Alpha     0.007601\n",
       "dtype: float64"
      ]
     },
     "execution_count": 81,
     "metadata": {},
     "output_type": "execute_result"
    }
   ],
   "source": [
    "america_factors"
   ]
  },
  {
   "cell_type": "code",
   "execution_count": 82,
   "id": "1b5204f3",
   "metadata": {
    "ExecuteTime": {
     "end_time": "2022-02-13T11:57:39.977433Z",
     "start_time": "2022-02-13T11:57:39.961232Z"
    }
   },
   "outputs": [],
   "source": [
    "cumulative=pd.DataFrame(data=(india_factors,Germany_Factors,america_factors),index=['Asia-Pacific','Europe','America'])"
   ]
  },
  {
   "cell_type": "markdown",
   "id": "b5cb1eae",
   "metadata": {
    "ExecuteTime": {
     "end_time": "2022-02-09T19:24:43.304933Z",
     "start_time": "2022-02-09T19:24:43.286936Z"
    }
   },
   "source": [
    "# Cumulative Factor Based on Regions"
   ]
  },
  {
   "cell_type": "code",
   "execution_count": 85,
   "id": "69a07e8b",
   "metadata": {
    "ExecuteTime": {
     "end_time": "2022-02-13T12:01:34.252023Z",
     "start_time": "2022-02-13T12:01:34.245801Z"
    }
   },
   "outputs": [],
   "source": [
    "cumulative=cumulative.T\n",
    "weights=[0.20,0.60,0.20]\n",
    "cumulative=cumulative*weights"
   ]
  },
  {
   "cell_type": "code",
   "execution_count": 86,
   "id": "b9da365d",
   "metadata": {
    "ExecuteTime": {
     "end_time": "2022-02-13T12:01:34.568780Z",
     "start_time": "2022-02-13T12:01:34.561146Z"
    }
   },
   "outputs": [],
   "source": [
    "Final=pd.DataFrame(cumulative.sum(axis=1),columns=['Factors'])"
   ]
  },
  {
   "cell_type": "code",
   "execution_count": 87,
   "id": "253ecfd0",
   "metadata": {
    "ExecuteTime": {
     "end_time": "2022-02-13T12:01:34.905370Z",
     "start_time": "2022-02-13T12:01:34.882813Z"
    }
   },
   "outputs": [
    {
     "data": {
      "text/html": [
       "<div>\n",
       "<style scoped>\n",
       "    .dataframe tbody tr th:only-of-type {\n",
       "        vertical-align: middle;\n",
       "    }\n",
       "\n",
       "    .dataframe tbody tr th {\n",
       "        vertical-align: top;\n",
       "    }\n",
       "\n",
       "    .dataframe thead th {\n",
       "        text-align: right;\n",
       "    }\n",
       "</style>\n",
       "<table border=\"1\" class=\"dataframe\">\n",
       "  <thead>\n",
       "    <tr style=\"text-align: right;\">\n",
       "      <th></th>\n",
       "      <th>Factors</th>\n",
       "    </tr>\n",
       "  </thead>\n",
       "  <tbody>\n",
       "    <tr>\n",
       "      <th>Mkt-RF</th>\n",
       "      <td>0.228667</td>\n",
       "    </tr>\n",
       "    <tr>\n",
       "      <th>SMB</th>\n",
       "      <td>0.961798</td>\n",
       "    </tr>\n",
       "    <tr>\n",
       "      <th>HML</th>\n",
       "      <td>0.268563</td>\n",
       "    </tr>\n",
       "    <tr>\n",
       "      <th>Alpha</th>\n",
       "      <td>0.009290</td>\n",
       "    </tr>\n",
       "  </tbody>\n",
       "</table>\n",
       "</div>"
      ],
      "text/plain": [
       "         Factors\n",
       "Mkt-RF  0.228667\n",
       "SMB     0.961798\n",
       "HML     0.268563\n",
       "Alpha   0.009290"
      ]
     },
     "execution_count": 87,
     "metadata": {},
     "output_type": "execute_result"
    }
   ],
   "source": [
    "Final"
   ]
  },
  {
   "cell_type": "code",
   "execution_count": 43,
   "id": "09a15ffb",
   "metadata": {
    "ExecuteTime": {
     "end_time": "2022-02-13T11:30:33.840789Z",
     "start_time": "2022-02-13T11:30:33.825849Z"
    }
   },
   "outputs": [],
   "source": [
    "Final.index=['Market Factor','Size- Factor','Value Factor',\"Alpha\"]"
   ]
  },
  {
   "cell_type": "code",
   "execution_count": 44,
   "id": "7f2fb833",
   "metadata": {
    "ExecuteTime": {
     "end_time": "2022-02-13T11:30:34.328227Z",
     "start_time": "2022-02-13T11:30:34.305219Z"
    }
   },
   "outputs": [
    {
     "data": {
      "text/html": [
       "<div>\n",
       "<style scoped>\n",
       "    .dataframe tbody tr th:only-of-type {\n",
       "        vertical-align: middle;\n",
       "    }\n",
       "\n",
       "    .dataframe tbody tr th {\n",
       "        vertical-align: top;\n",
       "    }\n",
       "\n",
       "    .dataframe thead th {\n",
       "        text-align: right;\n",
       "    }\n",
       "</style>\n",
       "<table border=\"1\" class=\"dataframe\">\n",
       "  <thead>\n",
       "    <tr style=\"text-align: right;\">\n",
       "      <th></th>\n",
       "      <th>Factors</th>\n",
       "    </tr>\n",
       "  </thead>\n",
       "  <tbody>\n",
       "    <tr>\n",
       "      <th>Market Factor</th>\n",
       "      <td>0.228667</td>\n",
       "    </tr>\n",
       "    <tr>\n",
       "      <th>Size- Factor</th>\n",
       "      <td>0.961798</td>\n",
       "    </tr>\n",
       "    <tr>\n",
       "      <th>Value Factor</th>\n",
       "      <td>0.268563</td>\n",
       "    </tr>\n",
       "    <tr>\n",
       "      <th>Alpha</th>\n",
       "      <td>0.009290</td>\n",
       "    </tr>\n",
       "  </tbody>\n",
       "</table>\n",
       "</div>"
      ],
      "text/plain": [
       "                Factors\n",
       "Market Factor  0.228667\n",
       "Size- Factor   0.961798\n",
       "Value Factor   0.268563\n",
       "Alpha          0.009290"
      ]
     },
     "execution_count": 44,
     "metadata": {},
     "output_type": "execute_result"
    }
   ],
   "source": [
    "Final"
   ]
  },
  {
   "cell_type": "code",
   "execution_count": 136,
   "id": "57a6e296",
   "metadata": {
    "ExecuteTime": {
     "end_time": "2022-02-13T14:13:05.216657Z",
     "start_time": "2022-02-13T14:13:05.203093Z"
    }
   },
   "outputs": [],
   "source": [
    "kj=Final.drop(labels=['Alpha'],axis=0)"
   ]
  },
  {
   "cell_type": "code",
   "execution_count": 171,
   "id": "1e91be58",
   "metadata": {
    "ExecuteTime": {
     "end_time": "2022-02-13T14:29:24.926293Z",
     "start_time": "2022-02-13T14:29:24.914359Z"
    }
   },
   "outputs": [],
   "source": [
    "x=Final.iloc[0]\n",
    "y=Final.iloc[1]\n",
    "z=Final.iloc[2]"
   ]
  },
  {
   "cell_type": "code",
   "execution_count": 187,
   "id": "f90c390f",
   "metadata": {
    "ExecuteTime": {
     "end_time": "2022-02-13T14:34:35.394526Z",
     "start_time": "2022-02-13T14:34:35.268667Z"
    }
   },
   "outputs": [
    {
     "data": {
      "image/png": "[encoded data removed]",
      "text/plain": [
       "<Figure size 504x288 with 1 Axes>"
      ]
     },
     "metadata": {
      "needs_background": "light"
     },
     "output_type": "display_data"
    }
   ],
   "source": [
    "fig = plt.figure(figsize=(7,4))\n",
    "\n",
    "ax = fig.add_subplot(111, projection='3d')\n",
    "\n",
    "ax.scatter(x,y,z,) # plot the point (2,3,4) on the figure\n",
    "ax.set_title(\"3D Visualization of Factors\")\n",
    "ax.set_xlabel(\"Market Factor\")\n",
    "\n",
    "ax.set_ylabel(\"Size Factor\")\n",
    "\n",
    "ax.set_zlabel(\"Value Factor\")\n",
    "\n",
    "\n",
    "\n",
    "plt.show()"
   ]
  },
  {
   "cell_type": "markdown",
   "id": "7952ee79",
   "metadata": {},
   "source": [
    "# GDP Forecasting Model : Germany"
   ]
  },
  {
   "cell_type": "markdown",
   "id": "21d6cc12",
   "metadata": {},
   "source": [
    "### Model:  Support Vector Regression Model"
   ]
  },
  {
   "cell_type": "code",
   "execution_count": 111,
   "id": "3535a171",
   "metadata": {
    "ExecuteTime": {
     "end_time": "2022-02-13T12:37:44.233810Z",
     "start_time": "2022-02-13T12:37:42.285079Z"
    }
   },
   "outputs": [],
   "source": [
    "from sklearn import svm"
   ]
  },
  {
   "cell_type": "code",
   "execution_count": 112,
   "id": "23215743",
   "metadata": {
    "ExecuteTime": {
     "end_time": "2022-02-13T12:37:45.180094Z",
     "start_time": "2022-02-13T12:37:44.449234Z"
    }
   },
   "outputs": [],
   "source": [
    "data_gdp=pd.read_csv(\"D:Msc-Finance/SEM-2/Asset_management/Asset_Report/gdp/Germany_gdp_quarterly.csv\")\n",
    "data_cpi=pd.read_csv(\"D:Msc-Finance/SEM-2/Asset_management/Asset_Report/gdp/Germany_cpi_quarterly.csv\")\n",
    "data_mnu=pd.read_csv(\"D:Msc-Finance/SEM-2/Asset_management/Asset_Report/gdp/manufacturing_capacity_germany_quarterly.csv\")\n",
    "data_interest=pd.read_csv(\"D:Msc-Finance/SEM-2/Asset_management/Asset_Report/gdp/Interest_rates_germany_quarterly.csv\")\n",
    "data_unemp=pd.read_csv(\"D:Msc-Finance/SEM-2/Asset_management/Asset_Report/gdp/unemployement_rate_germany_quarterly.csv\")\n",
    "data_mnu=data_mnu[data_mnu['LOCATION']=='DEU']\n",
    "data_cpi=data_cpi[data_cpi['LOCATION']=='DEU']\n",
    "data_gdp=data_gdp[data_gdp['LOCATION']=='DEU']\n",
    "data_interest=data_interest[data_interest['LOCATION']=='DEU']\n",
    "data_unemp=data_unemp[data_unemp['LOCATION']=='DEU']\n",
    "data_cpi=data_cpi[['TIME','Value']]\n",
    "data_gdp=data_gdp[['TIME','Value']]\n",
    "data_interest=data_interest[['TIME','Value']]\n",
    "data_unemp=data_unemp[['TIME','Value']]\n",
    "data_mnu=data_mnu[['TIME','Value']]\n",
    "data_cpi.index=(data_cpi['TIME'])\n",
    "data_cpi=data_cpi.drop(labels=['TIME'],axis=1)\n",
    "\n",
    "data_unemp.index=(data_unemp['TIME'])\n",
    "data_unemp=data_unemp.drop(labels=['TIME'],axis=1)\n",
    "\n",
    "data_mnu.index=(data_mnu['TIME'])\n",
    "data_mnu=data_mnu.drop(labels=['TIME'],axis=1)\n",
    "\n",
    "data_interest.index=(data_interest['TIME'])\n",
    "data_interest=data_interest.drop(labels=['TIME'],axis=1)\n",
    "\n",
    "data_gdp.index=(data_gdp['TIME'])\n",
    "data_gdp=data_gdp.drop(labels=['TIME'],axis=1)"
   ]
  },
  {
   "cell_type": "code",
   "execution_count": 113,
   "id": "7caf9a8e",
   "metadata": {
    "ExecuteTime": {
     "end_time": "2022-02-13T12:37:45.594088Z",
     "start_time": "2022-02-13T12:37:45.567271Z"
    }
   },
   "outputs": [],
   "source": [
    "frame_x=pd.concat([data_cpi,data_interest,data_mnu,data_unemp],axis=1)\n",
    "frame_x=round(frame_x/100,3)\n",
    "frame_x=frame_x.replace(to_replace=np.nan,value=0)\n",
    "frame_y=round(data_gdp,4)"
   ]
  },
  {
   "cell_type": "code",
   "execution_count": 114,
   "id": "e99cd1de",
   "metadata": {
    "ExecuteTime": {
     "end_time": "2022-02-13T12:37:46.080276Z",
     "start_time": "2022-02-13T12:37:46.068190Z"
    }
   },
   "outputs": [],
   "source": [
    "frame_x.columns=['CPI','Interest Rates','Manufacturing Capacity','Unemployement Rate']"
   ]
  },
  {
   "cell_type": "markdown",
   "id": "7f0b5327",
   "metadata": {},
   "source": [
    "#### Training Set : Independent Variable"
   ]
  },
  {
   "cell_type": "code",
   "execution_count": 115,
   "id": "4e29c4b0",
   "metadata": {
    "ExecuteTime": {
     "end_time": "2022-02-13T12:37:46.552531Z",
     "start_time": "2022-02-13T12:37:46.521992Z"
    }
   },
   "outputs": [
    {
     "data": {
      "text/html": [
       "<div>\n",
       "<style scoped>\n",
       "    .dataframe tbody tr th:only-of-type {\n",
       "        vertical-align: middle;\n",
       "    }\n",
       "\n",
       "    .dataframe tbody tr th {\n",
       "        vertical-align: top;\n",
       "    }\n",
       "\n",
       "    .dataframe thead th {\n",
       "        text-align: right;\n",
       "    }\n",
       "</style>\n",
       "<table border=\"1\" class=\"dataframe\">\n",
       "  <thead>\n",
       "    <tr style=\"text-align: right;\">\n",
       "      <th></th>\n",
       "      <th>CPI</th>\n",
       "      <th>Interest Rates</th>\n",
       "      <th>Manufacturing Capacity</th>\n",
       "      <th>Unemployement Rate</th>\n",
       "    </tr>\n",
       "  </thead>\n",
       "  <tbody>\n",
       "    <tr>\n",
       "      <th>2012-Q1</th>\n",
       "      <td>0.021</td>\n",
       "      <td>0.018</td>\n",
       "      <td>0.983</td>\n",
       "      <td>0.054</td>\n",
       "    </tr>\n",
       "    <tr>\n",
       "      <th>2012-Q2</th>\n",
       "      <td>0.019</td>\n",
       "      <td>0.014</td>\n",
       "      <td>0.980</td>\n",
       "      <td>0.054</td>\n",
       "    </tr>\n",
       "    <tr>\n",
       "      <th>2012-Q3</th>\n",
       "      <td>0.020</td>\n",
       "      <td>0.014</td>\n",
       "      <td>0.984</td>\n",
       "      <td>0.053</td>\n",
       "    </tr>\n",
       "    <tr>\n",
       "      <th>2012-Q4</th>\n",
       "      <td>0.020</td>\n",
       "      <td>0.014</td>\n",
       "      <td>0.961</td>\n",
       "      <td>0.053</td>\n",
       "    </tr>\n",
       "    <tr>\n",
       "      <th>2013-Q1</th>\n",
       "      <td>0.015</td>\n",
       "      <td>0.015</td>\n",
       "      <td>0.961</td>\n",
       "      <td>0.054</td>\n",
       "    </tr>\n",
       "  </tbody>\n",
       "</table>\n",
       "</div>"
      ],
      "text/plain": [
       "           CPI  Interest Rates  Manufacturing Capacity  Unemployement Rate\n",
       "2012-Q1  0.021           0.018                   0.983               0.054\n",
       "2012-Q2  0.019           0.014                   0.980               0.054\n",
       "2012-Q3  0.020           0.014                   0.984               0.053\n",
       "2012-Q4  0.020           0.014                   0.961               0.053\n",
       "2013-Q1  0.015           0.015                   0.961               0.054"
      ]
     },
     "execution_count": 115,
     "metadata": {},
     "output_type": "execute_result"
    }
   ],
   "source": [
    "frame_x.head(5)"
   ]
  },
  {
   "cell_type": "code",
   "execution_count": 116,
   "id": "f61e1215",
   "metadata": {
    "ExecuteTime": {
     "end_time": "2022-02-13T12:37:48.117251Z",
     "start_time": "2022-02-13T12:37:48.110713Z"
    }
   },
   "outputs": [],
   "source": [
    "frame_y.columns=['GDP Rate']"
   ]
  },
  {
   "cell_type": "markdown",
   "id": "02f781c1",
   "metadata": {},
   "source": [
    "#### Training Set : dependent Variable"
   ]
  },
  {
   "cell_type": "code",
   "execution_count": 117,
   "id": "d81407ba",
   "metadata": {
    "ExecuteTime": {
     "end_time": "2022-02-13T12:37:49.549455Z",
     "start_time": "2022-02-13T12:37:49.531441Z"
    }
   },
   "outputs": [
    {
     "data": {
      "text/html": [
       "<div>\n",
       "<style scoped>\n",
       "    .dataframe tbody tr th:only-of-type {\n",
       "        vertical-align: middle;\n",
       "    }\n",
       "\n",
       "    .dataframe tbody tr th {\n",
       "        vertical-align: top;\n",
       "    }\n",
       "\n",
       "    .dataframe thead th {\n",
       "        text-align: right;\n",
       "    }\n",
       "</style>\n",
       "<table border=\"1\" class=\"dataframe\">\n",
       "  <thead>\n",
       "    <tr style=\"text-align: right;\">\n",
       "      <th></th>\n",
       "      <th>GDP Rate</th>\n",
       "    </tr>\n",
       "    <tr>\n",
       "      <th>TIME</th>\n",
       "      <th></th>\n",
       "    </tr>\n",
       "  </thead>\n",
       "  <tbody>\n",
       "    <tr>\n",
       "      <th>2012-Q1</th>\n",
       "      <td>0.8745</td>\n",
       "    </tr>\n",
       "    <tr>\n",
       "      <th>2012-Q2</th>\n",
       "      <td>1.7568</td>\n",
       "    </tr>\n",
       "    <tr>\n",
       "      <th>2012-Q3</th>\n",
       "      <td>4.0100</td>\n",
       "    </tr>\n",
       "    <tr>\n",
       "      <th>2012-Q4</th>\n",
       "      <td>0.6901</td>\n",
       "    </tr>\n",
       "    <tr>\n",
       "      <th>2013-Q1</th>\n",
       "      <td>0.4061</td>\n",
       "    </tr>\n",
       "  </tbody>\n",
       "</table>\n",
       "</div>"
      ],
      "text/plain": [
       "         GDP Rate\n",
       "TIME             \n",
       "2012-Q1    0.8745\n",
       "2012-Q2    1.7568\n",
       "2012-Q3    4.0100\n",
       "2012-Q4    0.6901\n",
       "2013-Q1    0.4061"
      ]
     },
     "execution_count": 117,
     "metadata": {},
     "output_type": "execute_result"
    }
   ],
   "source": [
    "frame_y.head(5)"
   ]
  },
  {
   "cell_type": "code",
   "execution_count": 118,
   "id": "a11bad1e",
   "metadata": {
    "ExecuteTime": {
     "end_time": "2022-02-13T12:37:50.130011Z",
     "start_time": "2022-02-13T12:37:50.102878Z"
    }
   },
   "outputs": [],
   "source": [
    "x=frame_x.pct_change().dropna()\n",
    "y=frame_y.pct_change().dropna()\n",
    "model_kk=svm.SVR()\n",
    "fit=model_kk.fit(x,(frame_y/100)[:-2])"
   ]
  },
  {
   "cell_type": "code",
   "execution_count": 119,
   "id": "de131dc4",
   "metadata": {
    "ExecuteTime": {
     "end_time": "2022-02-13T12:37:50.841216Z",
     "start_time": "2022-02-13T12:37:50.795754Z"
    }
   },
   "outputs": [],
   "source": [
    "data_cpi_f=pd.read_csv(\"D:Msc-Finance/SEM-2/Asset_management/Asset_Report/gdp/germany_inflation_forecast.csv\")\n",
    "data_mnu_f=pd.read_csv(\"D:Msc-Finance/SEM-2/Asset_management/Asset_Report/gdp/germany_manufacturing_forecast.csv\")\n",
    "data_interest_f=pd.read_csv(\"D:Msc-Finance/SEM-2/Asset_management/Asset_Report/gdp/germany_interest_forecast.csv\")\n",
    "data_unemp_f=pd.read_csv(\"D:Msc-Finance/SEM-2/Asset_management/Asset_Report/gdp/germany_unemployement_forecast.csv\")\n",
    "data_mnu_f=data_mnu_f[data_mnu_f['LOCATION']=='DEU']\n",
    "data_cpi_f=data_cpi_f[data_cpi_f['LOCATION']=='DEU']\n",
    "data_interest_f=data_interest_f[data_interest_f['LOCATION']=='DEU']\n",
    "data_unemp_f=data_unemp_f[data_unemp_f['LOCATION']=='DEU']\n",
    "data_cpi_f=data_cpi_f[['TIME','Value']]\n",
    "data_interest_f=data_interest_f[['TIME','Value']]\n",
    "data_unemp_f=data_unemp_f[['TIME','Value']]\n",
    "data_mnu_f=data_mnu_f[['TIME','Value']]\n",
    "\n",
    "data_cpi_f.index=(data_cpi_f['TIME'])\n",
    "data_cpi_f=data_cpi_f.drop(labels=['TIME'],axis=1)\n",
    "\n",
    "data_unemp_f.index=(data_unemp_f['TIME'])\n",
    "data_unemp_f=data_unemp_f.drop(labels=['TIME'],axis=1)\n",
    "\n",
    "data_mnu_f.index=(data_mnu_f['TIME'])\n",
    "data_mnu_f=data_mnu_f.drop(labels=['TIME'],axis=1)\n",
    "\n",
    "data_interest_f.index=(data_interest_f['TIME'])\n",
    "data_interest_f=data_interest_f.drop(labels=['TIME'],axis=1)\n",
    "\n"
   ]
  },
  {
   "cell_type": "code",
   "execution_count": 120,
   "id": "b037db1b",
   "metadata": {
    "ExecuteTime": {
     "end_time": "2022-02-13T12:37:51.343487Z",
     "start_time": "2022-02-13T12:37:51.324050Z"
    }
   },
   "outputs": [],
   "source": [
    "forecast_fame=pd.concat([data_cpi_f,data_interest_f,data_mnu_f,data_unemp_f],axis=1)\n",
    "b=forecast_fame.pct_change().dropna()\n",
    "gdp_change=pd.DataFrame(abs(fit.predict(b)))\n",
    "gdp_change.columns=['Change']\n",
    "gdp_change.index=b.index"
   ]
  },
  {
   "cell_type": "markdown",
   "id": "3ee11317",
   "metadata": {},
   "source": [
    "### GDP Change in next 4 Quarters"
   ]
  },
  {
   "cell_type": "code",
   "execution_count": 122,
   "id": "ed790b2d",
   "metadata": {
    "ExecuteTime": {
     "end_time": "2022-02-13T12:38:22.343701Z",
     "start_time": "2022-02-13T12:38:22.329440Z"
    }
   },
   "outputs": [],
   "source": [
    "forecast_fame.columns=['CPI','Interest Rates','Manufacturing Capacity','Unemployement Rate']"
   ]
  },
  {
   "cell_type": "code",
   "execution_count": 123,
   "id": "ff0a53ff",
   "metadata": {
    "ExecuteTime": {
     "end_time": "2022-02-13T12:38:27.526455Z",
     "start_time": "2022-02-13T12:38:27.494648Z"
    }
   },
   "outputs": [
    {
     "data": {
      "text/html": [
       "<div>\n",
       "<style scoped>\n",
       "    .dataframe tbody tr th:only-of-type {\n",
       "        vertical-align: middle;\n",
       "    }\n",
       "\n",
       "    .dataframe tbody tr th {\n",
       "        vertical-align: top;\n",
       "    }\n",
       "\n",
       "    .dataframe thead th {\n",
       "        text-align: right;\n",
       "    }\n",
       "</style>\n",
       "<table border=\"1\" class=\"dataframe\">\n",
       "  <thead>\n",
       "    <tr style=\"text-align: right;\">\n",
       "      <th></th>\n",
       "      <th>CPI</th>\n",
       "      <th>Interest Rates</th>\n",
       "      <th>Manufacturing Capacity</th>\n",
       "      <th>Unemployement Rate</th>\n",
       "    </tr>\n",
       "    <tr>\n",
       "      <th>TIME</th>\n",
       "      <th></th>\n",
       "      <th></th>\n",
       "      <th></th>\n",
       "      <th></th>\n",
       "    </tr>\n",
       "  </thead>\n",
       "  <tbody>\n",
       "    <tr>\n",
       "      <th>2022-Q2</th>\n",
       "      <td>3.268061</td>\n",
       "      <td>-0.450909</td>\n",
       "      <td>5.320557</td>\n",
       "      <td>3.263605</td>\n",
       "    </tr>\n",
       "    <tr>\n",
       "      <th>2022-Q3</th>\n",
       "      <td>2.889810</td>\n",
       "      <td>-0.450909</td>\n",
       "      <td>4.786810</td>\n",
       "      <td>3.215386</td>\n",
       "    </tr>\n",
       "    <tr>\n",
       "      <th>2022-Q4</th>\n",
       "      <td>2.330073</td>\n",
       "      <td>-0.450909</td>\n",
       "      <td>3.662115</td>\n",
       "      <td>3.176781</td>\n",
       "    </tr>\n",
       "    <tr>\n",
       "      <th>2023-Q1</th>\n",
       "      <td>2.258883</td>\n",
       "      <td>-0.450909</td>\n",
       "      <td>3.070181</td>\n",
       "      <td>3.147803</td>\n",
       "    </tr>\n",
       "    <tr>\n",
       "      <th>2023-Q2</th>\n",
       "      <td>2.218216</td>\n",
       "      <td>-0.450909</td>\n",
       "      <td>2.866266</td>\n",
       "      <td>3.118811</td>\n",
       "    </tr>\n",
       "  </tbody>\n",
       "</table>\n",
       "</div>"
      ],
      "text/plain": [
       "              CPI  Interest Rates  Manufacturing Capacity  Unemployement Rate\n",
       "TIME                                                                         \n",
       "2022-Q2  3.268061       -0.450909                5.320557            3.263605\n",
       "2022-Q3  2.889810       -0.450909                4.786810            3.215386\n",
       "2022-Q4  2.330073       -0.450909                3.662115            3.176781\n",
       "2023-Q1  2.258883       -0.450909                3.070181            3.147803\n",
       "2023-Q2  2.218216       -0.450909                2.866266            3.118811"
      ]
     },
     "execution_count": 123,
     "metadata": {},
     "output_type": "execute_result"
    }
   ],
   "source": [
    "forecast_fame"
   ]
  },
  {
   "cell_type": "code",
   "execution_count": 232,
   "id": "d676b6dd",
   "metadata": {
    "ExecuteTime": {
     "end_time": "2022-02-12T19:47:23.880050Z",
     "start_time": "2022-02-12T19:47:23.857703Z"
    }
   },
   "outputs": [
    {
     "data": {
      "text/html": [
       "<div>\n",
       "<style scoped>\n",
       "    .dataframe tbody tr th:only-of-type {\n",
       "        vertical-align: middle;\n",
       "    }\n",
       "\n",
       "    .dataframe tbody tr th {\n",
       "        vertical-align: top;\n",
       "    }\n",
       "\n",
       "    .dataframe thead th {\n",
       "        text-align: right;\n",
       "    }\n",
       "</style>\n",
       "<table border=\"1\" class=\"dataframe\">\n",
       "  <thead>\n",
       "    <tr style=\"text-align: right;\">\n",
       "      <th></th>\n",
       "      <th>Change</th>\n",
       "    </tr>\n",
       "    <tr>\n",
       "      <th>TIME</th>\n",
       "      <th></th>\n",
       "    </tr>\n",
       "  </thead>\n",
       "  <tbody>\n",
       "    <tr>\n",
       "      <th>2022-Q3</th>\n",
       "      <td>0.018459</td>\n",
       "    </tr>\n",
       "    <tr>\n",
       "      <th>2022-Q4</th>\n",
       "      <td>0.021624</td>\n",
       "    </tr>\n",
       "    <tr>\n",
       "      <th>2023-Q1</th>\n",
       "      <td>0.004187</td>\n",
       "    </tr>\n",
       "    <tr>\n",
       "      <th>2023-Q2</th>\n",
       "      <td>0.006836</td>\n",
       "    </tr>\n",
       "  </tbody>\n",
       "</table>\n",
       "</div>"
      ],
      "text/plain": [
       "           Change\n",
       "TIME             \n",
       "2022-Q3  0.018459\n",
       "2022-Q4  0.021624\n",
       "2023-Q1  0.004187\n",
       "2023-Q2  0.006836"
      ]
     },
     "execution_count": 232,
     "metadata": {},
     "output_type": "execute_result"
    }
   ],
   "source": [
    "gdp_change"
   ]
  },
  {
   "cell_type": "code",
   "execution_count": 234,
   "id": "be8031b6",
   "metadata": {
    "ExecuteTime": {
     "end_time": "2022-02-12T19:47:32.790524Z",
     "start_time": "2022-02-12T19:47:32.618686Z"
    }
   },
   "outputs": [
    {
     "data": {
      "text/plain": [
       "<matplotlib.axes._subplots.AxesSubplot at 0x2767122f880>"
      ]
     },
     "execution_count": 234,
     "metadata": {},
     "output_type": "execute_result"
    },
    {
     "data": {
      "image/png": "[encoded data removed]",
      "text/plain": [
       "<Figure size 1080x504 with 1 Axes>"
      ]
     },
     "metadata": {
      "needs_background": "light"
     },
     "output_type": "display_data"
    }
   ],
   "source": [
    "gdp_change.plot(figsize=(15,7))"
   ]
  },
  {
   "cell_type": "markdown",
   "id": "e87ed324",
   "metadata": {},
   "source": [
    "### Forecasted GDP by 2023"
   ]
  },
  {
   "cell_type": "code",
   "execution_count": 235,
   "id": "310f6de4",
   "metadata": {
    "ExecuteTime": {
     "end_time": "2022-02-12T19:47:37.243015Z",
     "start_time": "2022-02-12T19:47:37.229124Z"
    }
   },
   "outputs": [],
   "source": [
    "GDP=3.80*(1+gdp_change).cumprod()\n",
    "GDP.columns=['GDP']"
   ]
  },
  {
   "cell_type": "markdown",
   "id": "f387c005",
   "metadata": {},
   "source": [
    "### GDP"
   ]
  },
  {
   "cell_type": "code",
   "execution_count": 237,
   "id": "30967f2a",
   "metadata": {
    "ExecuteTime": {
     "end_time": "2022-02-12T19:47:47.376349Z",
     "start_time": "2022-02-12T19:47:47.066740Z"
    }
   },
   "outputs": [
    {
     "data": {
      "text/plain": [
       "<matplotlib.axes._subplots.AxesSubplot at 0x276712e8a00>"
      ]
     },
     "execution_count": 237,
     "metadata": {},
     "output_type": "execute_result"
    },
    {
     "data": {
      "image/png": "[encoded data removed]",
      "text/plain": [
       "<Figure size 1080x504 with 1 Axes>"
      ]
     },
     "metadata": {
      "needs_background": "light"
     },
     "output_type": "display_data"
    }
   ],
   "source": [
    "GDP.plot(figsize=(15,7))"
   ]
  },
  {
   "cell_type": "code",
   "execution_count": 374,
   "id": "009d4ffc",
   "metadata": {
    "ExecuteTime": {
     "end_time": "2022-02-10T14:12:43.973441Z",
     "start_time": "2022-02-10T14:12:43.961038Z"
    }
   },
   "outputs": [
    {
     "data": {
      "text/html": [
       "<div>\n",
       "<style scoped>\n",
       "    .dataframe tbody tr th:only-of-type {\n",
       "        vertical-align: middle;\n",
       "    }\n",
       "\n",
       "    .dataframe tbody tr th {\n",
       "        vertical-align: top;\n",
       "    }\n",
       "\n",
       "    .dataframe thead th {\n",
       "        text-align: right;\n",
       "    }\n",
       "</style>\n",
       "<table border=\"1\" class=\"dataframe\">\n",
       "  <thead>\n",
       "    <tr style=\"text-align: right;\">\n",
       "      <th></th>\n",
       "      <th>GDP</th>\n",
       "    </tr>\n",
       "    <tr>\n",
       "      <th>TIME</th>\n",
       "      <th></th>\n",
       "    </tr>\n",
       "  </thead>\n",
       "  <tbody>\n",
       "    <tr>\n",
       "      <th>2022-Q3</th>\n",
       "      <td>3.870143</td>\n",
       "    </tr>\n",
       "    <tr>\n",
       "      <th>2022-Q4</th>\n",
       "      <td>3.953829</td>\n",
       "    </tr>\n",
       "    <tr>\n",
       "      <th>2023-Q1</th>\n",
       "      <td>3.970384</td>\n",
       "    </tr>\n",
       "    <tr>\n",
       "      <th>2023-Q2</th>\n",
       "      <td>3.997525</td>\n",
       "    </tr>\n",
       "  </tbody>\n",
       "</table>\n",
       "</div>"
      ],
      "text/plain": [
       "              GDP\n",
       "TIME             \n",
       "2022-Q3  3.870143\n",
       "2022-Q4  3.953829\n",
       "2023-Q1  3.970384\n",
       "2023-Q2  3.997525"
      ]
     },
     "execution_count": 374,
     "metadata": {},
     "output_type": "execute_result"
    }
   ],
   "source": [
    "GDP"
   ]
  },
  {
   "cell_type": "markdown",
   "id": "5a31cfa9",
   "metadata": {},
   "source": [
    "# MSCI Europe Index Forecasting Model "
   ]
  },
  {
   "cell_type": "raw",
   "id": "e2e3ff8a",
   "metadata": {},
   "source": [
    "Approach: Forecasting using Linear Autoregressive Model\n",
    "Model ARIMA"
   ]
  },
  {
   "cell_type": "code",
   "execution_count": 53,
   "id": "002f0ef9",
   "metadata": {
    "ExecuteTime": {
     "end_time": "2022-02-13T11:41:20.489704Z",
     "start_time": "2022-02-13T11:41:20.484760Z"
    }
   },
   "outputs": [],
   "source": [
    "from statsmodels.tsa.arima.model import ARIMA\n",
    "import datetime\n",
    "index=pd.date_range(start=date.today(),end=\"2023-02-12\",freq='m')"
   ]
  },
  {
   "cell_type": "code",
   "execution_count": 54,
   "id": "0ff9fb76",
   "metadata": {
    "ExecuteTime": {
     "end_time": "2022-02-13T11:41:39.967704Z",
     "start_time": "2022-02-13T11:41:20.893116Z"
    }
   },
   "outputs": [
    {
     "data": {
      "text/html": [
       "<table class=\"simpletable\">\n",
       "<caption>SARIMAX Results</caption>\n",
       "<tr>\n",
       "  <th>Dep. Variable:</th>         <td>Price</td>      <th>  No. Observations:  </th>    <td>2504</td>   \n",
       "</tr>\n",
       "<tr>\n",
       "  <th>Model:</th>            <td>ARIMA(8, 3, 6)</td>  <th>  Log Likelihood     </th> <td>-10570.453</td>\n",
       "</tr>\n",
       "<tr>\n",
       "  <th>Date:</th>            <td>Sun, 13 Feb 2022</td> <th>  AIC                </th>  <td>21170.907</td>\n",
       "</tr>\n",
       "<tr>\n",
       "  <th>Time:</th>                <td>12:41:39</td>     <th>  BIC                </th>  <td>21258.274</td>\n",
       "</tr>\n",
       "<tr>\n",
       "  <th>Sample:</th>             <td>07-09-2012</td>    <th>  HQIC               </th>  <td>21202.625</td>\n",
       "</tr>\n",
       "<tr>\n",
       "  <th></th>                   <td>- 02-10-2022</td>   <th>                     </th>      <td> </td>    \n",
       "</tr>\n",
       "<tr>\n",
       "  <th>Covariance Type:</th>        <td>opg</td>       <th>                     </th>      <td> </td>    \n",
       "</tr>\n",
       "</table>\n",
       "<table class=\"simpletable\">\n",
       "<tr>\n",
       "     <td></td>       <th>coef</th>     <th>std err</th>      <th>z</th>      <th>P>|z|</th>  <th>[0.025</th>    <th>0.975]</th>  \n",
       "</tr>\n",
       "<tr>\n",
       "  <th>ar.L1</th>  <td>   -3.4709</td> <td>    0.064</td> <td>  -54.241</td> <td> 0.000</td> <td>   -3.596</td> <td>   -3.345</td>\n",
       "</tr>\n",
       "<tr>\n",
       "  <th>ar.L2</th>  <td>   -4.8289</td> <td>    0.165</td> <td>  -29.210</td> <td> 0.000</td> <td>   -5.153</td> <td>   -4.505</td>\n",
       "</tr>\n",
       "<tr>\n",
       "  <th>ar.L3</th>  <td>   -3.1199</td> <td>    0.170</td> <td>  -18.348</td> <td> 0.000</td> <td>   -3.453</td> <td>   -2.787</td>\n",
       "</tr>\n",
       "<tr>\n",
       "  <th>ar.L4</th>  <td>   -0.7162</td> <td>    0.102</td> <td>   -7.035</td> <td> 0.000</td> <td>   -0.916</td> <td>   -0.517</td>\n",
       "</tr>\n",
       "<tr>\n",
       "  <th>ar.L5</th>  <td>    0.0582</td> <td>    0.085</td> <td>    0.683</td> <td> 0.494</td> <td>   -0.109</td> <td>    0.225</td>\n",
       "</tr>\n",
       "<tr>\n",
       "  <th>ar.L6</th>  <td>   -0.0332</td> <td>    0.075</td> <td>   -0.445</td> <td> 0.656</td> <td>   -0.179</td> <td>    0.113</td>\n",
       "</tr>\n",
       "<tr>\n",
       "  <th>ar.L7</th>  <td>   -0.0368</td> <td>    0.049</td> <td>   -0.752</td> <td> 0.452</td> <td>   -0.133</td> <td>    0.059</td>\n",
       "</tr>\n",
       "<tr>\n",
       "  <th>ar.L8</th>  <td>   -0.0116</td> <td>    0.015</td> <td>   -0.757</td> <td> 0.449</td> <td>   -0.042</td> <td>    0.018</td>\n",
       "</tr>\n",
       "<tr>\n",
       "  <th>ma.L1</th>  <td>    1.5007</td> <td>    0.062</td> <td>   24.084</td> <td> 0.000</td> <td>    1.379</td> <td>    1.623</td>\n",
       "</tr>\n",
       "<tr>\n",
       "  <th>ma.L2</th>  <td>   -1.0350</td> <td>    0.037</td> <td>  -28.276</td> <td> 0.000</td> <td>   -1.107</td> <td>   -0.963</td>\n",
       "</tr>\n",
       "<tr>\n",
       "  <th>ma.L3</th>  <td>   -3.0486</td> <td>    0.100</td> <td>  -30.356</td> <td> 0.000</td> <td>   -3.245</td> <td>   -2.852</td>\n",
       "</tr>\n",
       "<tr>\n",
       "  <th>ma.L4</th>  <td>   -0.8251</td> <td>    0.094</td> <td>   -8.754</td> <td> 0.000</td> <td>   -1.010</td> <td>   -0.640</td>\n",
       "</tr>\n",
       "<tr>\n",
       "  <th>ma.L5</th>  <td>    1.5111</td> <td>    0.043</td> <td>   34.953</td> <td> 0.000</td> <td>    1.426</td> <td>    1.596</td>\n",
       "</tr>\n",
       "<tr>\n",
       "  <th>ma.L6</th>  <td>    0.8973</td> <td>    0.056</td> <td>   16.109</td> <td> 0.000</td> <td>    0.788</td> <td>    1.006</td>\n",
       "</tr>\n",
       "<tr>\n",
       "  <th>sigma2</th> <td>  268.1442</td> <td>    3.771</td> <td>   71.108</td> <td> 0.000</td> <td>  260.753</td> <td>  275.535</td>\n",
       "</tr>\n",
       "</table>\n",
       "<table class=\"simpletable\">\n",
       "<tr>\n",
       "  <th>Ljung-Box (L1) (Q):</th>     <td>0.06</td> <th>  Jarque-Bera (JB):  </th> <td>11471.85</td>\n",
       "</tr>\n",
       "<tr>\n",
       "  <th>Prob(Q):</th>                <td>0.81</td> <th>  Prob(JB):          </th>   <td>0.00</td>  \n",
       "</tr>\n",
       "<tr>\n",
       "  <th>Heteroskedasticity (H):</th> <td>1.72</td> <th>  Skew:              </th>   <td>-1.01</td> \n",
       "</tr>\n",
       "<tr>\n",
       "  <th>Prob(H) (two-sided):</th>    <td>0.00</td> <th>  Kurtosis:          </th>   <td>13.30</td> \n",
       "</tr>\n",
       "</table><br/><br/>Warnings:<br/>[1] Covariance matrix calculated using the outer product of gradients (complex-step)."
      ],
      "text/plain": [
       "<class 'statsmodels.iolib.summary.Summary'>\n",
       "\"\"\"\n",
       "                               SARIMAX Results                                \n",
       "==============================================================================\n",
       "Dep. Variable:                  Price   No. Observations:                 2504\n",
       "Model:                 ARIMA(8, 3, 6)   Log Likelihood              -10570.453\n",
       "Date:                Sun, 13 Feb 2022   AIC                          21170.907\n",
       "Time:                        12:41:39   BIC                          21258.274\n",
       "Sample:                    07-09-2012   HQIC                         21202.625\n",
       "                         - 02-10-2022                                         \n",
       "Covariance Type:                  opg                                         \n",
       "==============================================================================\n",
       "                 coef    std err          z      P>|z|      [0.025      0.975]\n",
       "------------------------------------------------------------------------------\n",
       "ar.L1         -3.4709      0.064    -54.241      0.000      -3.596      -3.345\n",
       "ar.L2         -4.8289      0.165    -29.210      0.000      -5.153      -4.505\n",
       "ar.L3         -3.1199      0.170    -18.348      0.000      -3.453      -2.787\n",
       "ar.L4         -0.7162      0.102     -7.035      0.000      -0.916      -0.517\n",
       "ar.L5          0.0582      0.085      0.683      0.494      -0.109       0.225\n",
       "ar.L6         -0.0332      0.075     -0.445      0.656      -0.179       0.113\n",
       "ar.L7         -0.0368      0.049     -0.752      0.452      -0.133       0.059\n",
       "ar.L8         -0.0116      0.015     -0.757      0.449      -0.042       0.018\n",
       "ma.L1          1.5007      0.062     24.084      0.000       1.379       1.623\n",
       "ma.L2         -1.0350      0.037    -28.276      0.000      -1.107      -0.963\n",
       "ma.L3         -3.0486      0.100    -30.356      0.000      -3.245      -2.852\n",
       "ma.L4         -0.8251      0.094     -8.754      0.000      -1.010      -0.640\n",
       "ma.L5          1.5111      0.043     34.953      0.000       1.426       1.596\n",
       "ma.L6          0.8973      0.056     16.109      0.000       0.788       1.006\n",
       "sigma2       268.1442      3.771     71.108      0.000     260.753     275.535\n",
       "===================================================================================\n",
       "Ljung-Box (L1) (Q):                   0.06   Jarque-Bera (JB):             11471.85\n",
       "Prob(Q):                              0.81   Prob(JB):                         0.00\n",
       "Heteroskedasticity (H):               1.72   Skew:                            -1.01\n",
       "Prob(H) (two-sided):                  0.00   Kurtosis:                        13.30\n",
       "===================================================================================\n",
       "\n",
       "Warnings:\n",
       "[1] Covariance matrix calculated using the outer product of gradients (complex-step).\n",
       "\"\"\""
      ]
     },
     "execution_count": 54,
     "metadata": {},
     "output_type": "execute_result"
    }
   ],
   "source": [
    "data_msci=pd.read_csv(\"D:Msc-Finance/SEM-2/Asset_management/Asset_Report/MSCI Europe Historical Data.csv\",index_col=0,header=0,parse_dates=True)[['Price']]\n",
    "data_msci=data_msci.iloc[::-1]\n",
    "model_arima=ARIMA(data_msci,order=(8,3,6))\n",
    "fit_arima=model_arima.fit()\n",
    "fit_arima.summary()"
   ]
  },
  {
   "cell_type": "code",
   "execution_count": 133,
   "id": "2804ffec",
   "metadata": {
    "ExecuteTime": {
     "end_time": "2022-02-13T12:54:41.975302Z",
     "start_time": "2022-02-13T12:54:41.449913Z"
    }
   },
   "outputs": [
    {
     "data": {
      "text/plain": [
       "<matplotlib.axes._subplots.AxesSubplot at 0x243337f8a60>"
      ]
     },
     "execution_count": 133,
     "metadata": {},
     "output_type": "execute_result"
    },
    {
     "data": {
      "image/png": "[encoded data removed]",
      "text/plain": [
       "<Figure size 1080x504 with 1 Axes>"
      ]
     },
     "metadata": {
      "needs_background": "light"
     },
     "output_type": "display_data"
    }
   ],
   "source": [
    "data_msci.plot(figsize=(15,7),title='Historical Value')\n"
   ]
  },
  {
   "cell_type": "code",
   "execution_count": 59,
   "id": "47b4a234",
   "metadata": {
    "ExecuteTime": {
     "end_time": "2022-02-13T11:42:46.759957Z",
     "start_time": "2022-02-13T11:42:46.598266Z"
    }
   },
   "outputs": [],
   "source": [
    "forecast=pd.DataFrame(data=fit_arima.forecast(steps=12))"
   ]
  },
  {
   "cell_type": "code",
   "execution_count": 102,
   "id": "34cedffd",
   "metadata": {
    "ExecuteTime": {
     "end_time": "2022-02-13T12:21:03.230667Z",
     "start_time": "2022-02-13T12:21:03.225949Z"
    }
   },
   "outputs": [],
   "source": [
    "forecast.index=index\n",
    "forecast.columns=['Forecasted Price Value']"
   ]
  },
  {
   "cell_type": "code",
   "execution_count": 124,
   "id": "1ddad182",
   "metadata": {
    "ExecuteTime": {
     "end_time": "2022-02-13T12:50:08.314097Z",
     "start_time": "2022-02-13T12:50:08.290759Z"
    }
   },
   "outputs": [
    {
     "data": {
      "text/html": [
       "<div>\n",
       "<style scoped>\n",
       "    .dataframe tbody tr th:only-of-type {\n",
       "        vertical-align: middle;\n",
       "    }\n",
       "\n",
       "    .dataframe tbody tr th {\n",
       "        vertical-align: top;\n",
       "    }\n",
       "\n",
       "    .dataframe thead th {\n",
       "        text-align: right;\n",
       "    }\n",
       "</style>\n",
       "<table border=\"1\" class=\"dataframe\">\n",
       "  <thead>\n",
       "    <tr style=\"text-align: right;\">\n",
       "      <th></th>\n",
       "      <th>Forecasted Price Value</th>\n",
       "    </tr>\n",
       "  </thead>\n",
       "  <tbody>\n",
       "    <tr>\n",
       "      <th>2022-02-28</th>\n",
       "      <td>2061.081328</td>\n",
       "    </tr>\n",
       "    <tr>\n",
       "      <th>2022-03-31</th>\n",
       "      <td>2062.265026</td>\n",
       "    </tr>\n",
       "    <tr>\n",
       "      <th>2022-04-30</th>\n",
       "      <td>2062.345097</td>\n",
       "    </tr>\n",
       "    <tr>\n",
       "      <th>2022-05-31</th>\n",
       "      <td>2064.928758</td>\n",
       "    </tr>\n",
       "    <tr>\n",
       "      <th>2022-06-30</th>\n",
       "      <td>2063.781678</td>\n",
       "    </tr>\n",
       "    <tr>\n",
       "      <th>2022-07-31</th>\n",
       "      <td>2067.515446</td>\n",
       "    </tr>\n",
       "    <tr>\n",
       "      <th>2022-08-31</th>\n",
       "      <td>2065.994848</td>\n",
       "    </tr>\n",
       "    <tr>\n",
       "      <th>2022-09-30</th>\n",
       "      <td>2069.327759</td>\n",
       "    </tr>\n",
       "    <tr>\n",
       "      <th>2022-10-31</th>\n",
       "      <td>2068.834916</td>\n",
       "    </tr>\n",
       "    <tr>\n",
       "      <th>2022-11-30</th>\n",
       "      <td>2070.819680</td>\n",
       "    </tr>\n",
       "    <tr>\n",
       "      <th>2022-12-31</th>\n",
       "      <td>2071.615181</td>\n",
       "    </tr>\n",
       "    <tr>\n",
       "      <th>2023-01-31</th>\n",
       "      <td>2072.661022</td>\n",
       "    </tr>\n",
       "  </tbody>\n",
       "</table>\n",
       "</div>"
      ],
      "text/plain": [
       "            Forecasted Price Value\n",
       "2022-02-28             2061.081328\n",
       "2022-03-31             2062.265026\n",
       "2022-04-30             2062.345097\n",
       "2022-05-31             2064.928758\n",
       "2022-06-30             2063.781678\n",
       "2022-07-31             2067.515446\n",
       "2022-08-31             2065.994848\n",
       "2022-09-30             2069.327759\n",
       "2022-10-31             2068.834916\n",
       "2022-11-30             2070.819680\n",
       "2022-12-31             2071.615181\n",
       "2023-01-31             2072.661022"
      ]
     },
     "execution_count": 124,
     "metadata": {},
     "output_type": "execute_result"
    }
   ],
   "source": [
    "forecast"
   ]
  },
  {
   "cell_type": "markdown",
   "id": "a0f8d8a2",
   "metadata": {},
   "source": [
    "###  Forecasted Value"
   ]
  },
  {
   "cell_type": "code",
   "execution_count": 103,
   "id": "299a12e0",
   "metadata": {
    "ExecuteTime": {
     "end_time": "2022-02-13T12:21:03.766217Z",
     "start_time": "2022-02-13T12:21:03.742507Z"
    }
   },
   "outputs": [
    {
     "data": {
      "text/plain": [
       "Forecasted Price Value    0.561826\n",
       "dtype: float64"
      ]
     },
     "execution_count": 103,
     "metadata": {},
     "output_type": "execute_result"
    }
   ],
   "source": [
    "((1+forecast.pct_change()).prod()-1)*100"
   ]
  },
  {
   "cell_type": "code",
   "execution_count": 104,
   "id": "0187bd5d",
   "metadata": {
    "ExecuteTime": {
     "end_time": "2022-02-13T12:21:04.627577Z",
     "start_time": "2022-02-13T12:21:04.246663Z"
    }
   },
   "outputs": [
    {
     "data": {
      "text/plain": [
       "<matplotlib.axes._subplots.AxesSubplot at 0x24328dced30>"
      ]
     },
     "execution_count": 104,
     "metadata": {},
     "output_type": "execute_result"
    },
    {
     "data": {
      "image/png": "[encoded data removed]",
      "text/plain": [
       "<Figure size 1080x504 with 1 Axes>"
      ]
     },
     "metadata": {
      "needs_background": "light"
     },
     "output_type": "display_data"
    }
   ],
   "source": [
    "forecast.plot(figsize=(15,7))"
   ]
  },
  {
   "cell_type": "markdown",
   "id": "42aedef5",
   "metadata": {},
   "source": [
    "# Euribor Forecastng"
   ]
  },
  {
   "cell_type": "code",
   "execution_count": 46,
   "id": "7df9c895",
   "metadata": {
    "ExecuteTime": {
     "end_time": "2022-02-13T11:40:25.198910Z",
     "start_time": "2022-02-13T11:40:23.608924Z"
    }
   },
   "outputs": [],
   "source": [
    "data_euribor=pd.read_csv(\"D:Msc-Finance/SEM-2/Asset_management/Asset_Report/euribor.csv.\",index_col=0,header=0,parse_dates=True)\n"
   ]
  },
  {
   "cell_type": "markdown",
   "id": "75112520",
   "metadata": {},
   "source": [
    "#### Smoothing the Time Series using Dynamic Exponential Moving Avergae"
   ]
  },
  {
   "cell_type": "code",
   "execution_count": 47,
   "id": "e9b7500f",
   "metadata": {
    "ExecuteTime": {
     "end_time": "2022-02-13T11:40:26.430546Z",
     "start_time": "2022-02-13T11:40:26.417468Z"
    }
   },
   "outputs": [],
   "source": [
    "smooth=pd.DataFrame(talib.DEMA(data_euribor['Value']))\n",
    "smooth.columns=['Smoothen Time Series']"
   ]
  },
  {
   "cell_type": "code",
   "execution_count": 48,
   "id": "75b17b86",
   "metadata": {
    "ExecuteTime": {
     "end_time": "2022-02-13T11:40:27.799908Z",
     "start_time": "2022-02-13T11:40:27.191575Z"
    }
   },
   "outputs": [
    {
     "data": {
      "text/plain": [
       "<matplotlib.axes._subplots.AxesSubplot at 0x2432dd76790>"
      ]
     },
     "execution_count": 48,
     "metadata": {},
     "output_type": "execute_result"
    },
    {
     "data": {
      "image/png": "[encoded data removed]",
      "text/plain": [
       "<Figure size 1080x504 with 1 Axes>"
      ]
     },
     "metadata": {
      "needs_background": "light"
     },
     "output_type": "display_data"
    }
   ],
   "source": [
    "smooth.dropna().plot(figsize=(15,7))"
   ]
  },
  {
   "cell_type": "markdown",
   "id": "82f51c6e",
   "metadata": {},
   "source": [
    "### ARIMA Model (p,d,q)"
   ]
  },
  {
   "cell_type": "code",
   "execution_count": 49,
   "id": "e4666be8",
   "metadata": {
    "ExecuteTime": {
     "end_time": "2022-02-13T11:40:29.164380Z",
     "start_time": "2022-02-13T11:40:29.123900Z"
    }
   },
   "outputs": [],
   "source": [
    "model_euri=ARIMA(smooth,order=(2,1,3))"
   ]
  },
  {
   "cell_type": "code",
   "execution_count": 50,
   "id": "dc9da3d6",
   "metadata": {
    "ExecuteTime": {
     "end_time": "2022-02-13T11:40:30.628527Z",
     "start_time": "2022-02-13T11:40:29.929650Z"
    }
   },
   "outputs": [],
   "source": [
    "fit_euribor=model_euri.fit()"
   ]
  },
  {
   "cell_type": "code",
   "execution_count": 105,
   "id": "bdc3f722",
   "metadata": {
    "ExecuteTime": {
     "end_time": "2022-02-13T12:30:56.429061Z",
     "start_time": "2022-02-13T12:30:56.389362Z"
    }
   },
   "outputs": [
    {
     "data": {
      "text/html": [
       "<table class=\"simpletable\">\n",
       "<caption>SARIMAX Results</caption>\n",
       "<tr>\n",
       "  <th>Dep. Variable:</th>   <td>Smoothen Time Series</td> <th>  No. Observations:  </th>    <td>181</td>  \n",
       "</tr>\n",
       "<tr>\n",
       "  <th>Model:</th>              <td>ARIMA(2, 1, 3)</td>    <th>  Log Likelihood     </th>  <td>334.734</td>\n",
       "</tr>\n",
       "<tr>\n",
       "  <th>Date:</th>              <td>Sun, 13 Feb 2022</td>   <th>  AIC                </th> <td>-657.469</td>\n",
       "</tr>\n",
       "<tr>\n",
       "  <th>Time:</th>                  <td>13:30:56</td>       <th>  BIC                </th> <td>-638.311</td>\n",
       "</tr>\n",
       "<tr>\n",
       "  <th>Sample:</th>               <td>01-01-2007</td>      <th>  HQIC               </th> <td>-649.701</td>\n",
       "</tr>\n",
       "<tr>\n",
       "  <th></th>                     <td>- 01-01-2022</td>     <th>                     </th>     <td> </td>   \n",
       "</tr>\n",
       "<tr>\n",
       "  <th>Covariance Type:</th>          <td>opg</td>         <th>                     </th>     <td> </td>   \n",
       "</tr>\n",
       "</table>\n",
       "<table class=\"simpletable\">\n",
       "<tr>\n",
       "     <td></td>       <th>coef</th>     <th>std err</th>      <th>z</th>      <th>P>|z|</th>  <th>[0.025</th>    <th>0.975]</th>  \n",
       "</tr>\n",
       "<tr>\n",
       "  <th>ar.L1</th>  <td>    0.3917</td> <td>    0.379</td> <td>    1.034</td> <td> 0.301</td> <td>   -0.351</td> <td>    1.134</td>\n",
       "</tr>\n",
       "<tr>\n",
       "  <th>ar.L2</th>  <td>    0.5017</td> <td>    0.337</td> <td>    1.489</td> <td> 0.136</td> <td>   -0.158</td> <td>    1.162</td>\n",
       "</tr>\n",
       "<tr>\n",
       "  <th>ma.L1</th>  <td>    0.8834</td> <td>    0.388</td> <td>    2.275</td> <td> 0.023</td> <td>    0.122</td> <td>    1.644</td>\n",
       "</tr>\n",
       "<tr>\n",
       "  <th>ma.L2</th>  <td>    0.0885</td> <td>    0.256</td> <td>    0.346</td> <td> 0.729</td> <td>   -0.413</td> <td>    0.589</td>\n",
       "</tr>\n",
       "<tr>\n",
       "  <th>ma.L3</th>  <td>   -0.1935</td> <td>    0.130</td> <td>   -1.494</td> <td> 0.135</td> <td>   -0.447</td> <td>    0.060</td>\n",
       "</tr>\n",
       "<tr>\n",
       "  <th>sigma2</th> <td>    0.0002</td> <td>  2.5e-05</td> <td>    8.344</td> <td> 0.000</td> <td>    0.000</td> <td>    0.000</td>\n",
       "</tr>\n",
       "</table>\n",
       "<table class=\"simpletable\">\n",
       "<tr>\n",
       "  <th>Ljung-Box (L1) (Q):</th>     <td>0.08</td>  <th>  Jarque-Bera (JB):  </th> <td>106.50</td>\n",
       "</tr>\n",
       "<tr>\n",
       "  <th>Prob(Q):</th>                <td>0.78</td>  <th>  Prob(JB):          </th>  <td>0.00</td> \n",
       "</tr>\n",
       "<tr>\n",
       "  <th>Heteroskedasticity (H):</th> <td>15.72</td> <th>  Skew:              </th>  <td>0.82</td> \n",
       "</tr>\n",
       "<tr>\n",
       "  <th>Prob(H) (two-sided):</th>    <td>0.00</td>  <th>  Kurtosis:          </th>  <td>6.39</td> \n",
       "</tr>\n",
       "</table><br/><br/>Warnings:<br/>[1] Covariance matrix calculated using the outer product of gradients (complex-step)."
      ],
      "text/plain": [
       "<class 'statsmodels.iolib.summary.Summary'>\n",
       "\"\"\"\n",
       "                                SARIMAX Results                                 \n",
       "================================================================================\n",
       "Dep. Variable:     Smoothen Time Series   No. Observations:                  181\n",
       "Model:                   ARIMA(2, 1, 3)   Log Likelihood                 334.734\n",
       "Date:                  Sun, 13 Feb 2022   AIC                           -657.469\n",
       "Time:                          13:30:56   BIC                           -638.311\n",
       "Sample:                      01-01-2007   HQIC                          -649.701\n",
       "                           - 01-01-2022                                         \n",
       "Covariance Type:                    opg                                         \n",
       "==============================================================================\n",
       "                 coef    std err          z      P>|z|      [0.025      0.975]\n",
       "------------------------------------------------------------------------------\n",
       "ar.L1          0.3917      0.379      1.034      0.301      -0.351       1.134\n",
       "ar.L2          0.5017      0.337      1.489      0.136      -0.158       1.162\n",
       "ma.L1          0.8834      0.388      2.275      0.023       0.122       1.644\n",
       "ma.L2          0.0885      0.256      0.346      0.729      -0.413       0.589\n",
       "ma.L3         -0.1935      0.130     -1.494      0.135      -0.447       0.060\n",
       "sigma2         0.0002    2.5e-05      8.344      0.000       0.000       0.000\n",
       "===================================================================================\n",
       "Ljung-Box (L1) (Q):                   0.08   Jarque-Bera (JB):               106.50\n",
       "Prob(Q):                              0.78   Prob(JB):                         0.00\n",
       "Heteroskedasticity (H):              15.72   Skew:                             0.82\n",
       "Prob(H) (two-sided):                  0.00   Kurtosis:                         6.39\n",
       "===================================================================================\n",
       "\n",
       "Warnings:\n",
       "[1] Covariance matrix calculated using the outer product of gradients (complex-step).\n",
       "\"\"\""
      ]
     },
     "execution_count": 105,
     "metadata": {},
     "output_type": "execute_result"
    }
   ],
   "source": [
    "fit_euribor.summary()"
   ]
  },
  {
   "cell_type": "code",
   "execution_count": 51,
   "id": "ecd9e20a",
   "metadata": {
    "ExecuteTime": {
     "end_time": "2022-02-13T11:40:31.592027Z",
     "start_time": "2022-02-13T11:40:31.564841Z"
    }
   },
   "outputs": [],
   "source": [
    "k=pd.DataFrame(fit_euribor.forecast(steps=12))\n",
    "k.columns=['Forecasted Interest Rates']"
   ]
  },
  {
   "cell_type": "code",
   "execution_count": 52,
   "id": "d9f50410",
   "metadata": {
    "ExecuteTime": {
     "end_time": "2022-02-13T11:40:32.789499Z",
     "start_time": "2022-02-13T11:40:32.773901Z"
    }
   },
   "outputs": [
    {
     "data": {
      "text/html": [
       "<div>\n",
       "<style scoped>\n",
       "    .dataframe tbody tr th:only-of-type {\n",
       "        vertical-align: middle;\n",
       "    }\n",
       "\n",
       "    .dataframe tbody tr th {\n",
       "        vertical-align: top;\n",
       "    }\n",
       "\n",
       "    .dataframe thead th {\n",
       "        text-align: right;\n",
       "    }\n",
       "</style>\n",
       "<table border=\"1\" class=\"dataframe\">\n",
       "  <thead>\n",
       "    <tr style=\"text-align: right;\">\n",
       "      <th></th>\n",
       "      <th>Forecasted Interest Rates</th>\n",
       "    </tr>\n",
       "  </thead>\n",
       "  <tbody>\n",
       "    <tr>\n",
       "      <th>2022-02-01</th>\n",
       "      <td>-0.418397</td>\n",
       "    </tr>\n",
       "    <tr>\n",
       "      <th>2022-03-01</th>\n",
       "      <td>-0.377658</td>\n",
       "    </tr>\n",
       "    <tr>\n",
       "      <th>2022-04-01</th>\n",
       "      <td>-0.343463</td>\n",
       "    </tr>\n",
       "    <tr>\n",
       "      <th>2022-05-01</th>\n",
       "      <td>-0.309628</td>\n",
       "    </tr>\n",
       "    <tr>\n",
       "      <th>2022-06-01</th>\n",
       "      <td>-0.279216</td>\n",
       "    </tr>\n",
       "    <tr>\n",
       "      <th>2022-07-01</th>\n",
       "      <td>-0.250326</td>\n",
       "    </tr>\n",
       "    <tr>\n",
       "      <th>2022-08-01</th>\n",
       "      <td>-0.223750</td>\n",
       "    </tr>\n",
       "    <tr>\n",
       "      <th>2022-09-01</th>\n",
       "      <td>-0.198843</td>\n",
       "    </tr>\n",
       "    <tr>\n",
       "      <th>2022-10-01</th>\n",
       "      <td>-0.175752</td>\n",
       "    </tr>\n",
       "    <tr>\n",
       "      <th>2022-11-01</th>\n",
       "      <td>-0.154210</td>\n",
       "    </tr>\n",
       "    <tr>\n",
       "      <th>2022-12-01</th>\n",
       "      <td>-0.134186</td>\n",
       "    </tr>\n",
       "    <tr>\n",
       "      <th>2023-01-01</th>\n",
       "      <td>-0.115533</td>\n",
       "    </tr>\n",
       "  </tbody>\n",
       "</table>\n",
       "</div>"
      ],
      "text/plain": [
       "            Forecasted Interest Rates\n",
       "2022-02-01                  -0.418397\n",
       "2022-03-01                  -0.377658\n",
       "2022-04-01                  -0.343463\n",
       "2022-05-01                  -0.309628\n",
       "2022-06-01                  -0.279216\n",
       "2022-07-01                  -0.250326\n",
       "2022-08-01                  -0.223750\n",
       "2022-09-01                  -0.198843\n",
       "2022-10-01                  -0.175752\n",
       "2022-11-01                  -0.154210\n",
       "2022-12-01                  -0.134186\n",
       "2023-01-01                  -0.115533"
      ]
     },
     "execution_count": 52,
     "metadata": {},
     "output_type": "execute_result"
    }
   ],
   "source": [
    "k"
   ]
  },
  {
   "cell_type": "code",
   "execution_count": 96,
   "id": "aef95115",
   "metadata": {
    "ExecuteTime": {
     "end_time": "2022-02-13T12:05:27.451480Z",
     "start_time": "2022-02-13T12:05:27.218021Z"
    }
   },
   "outputs": [
    {
     "data": {
      "text/plain": [
       "<matplotlib.axes._subplots.AxesSubplot at 0x2432e2acb50>"
      ]
     },
     "execution_count": 96,
     "metadata": {},
     "output_type": "execute_result"
    },
    {
     "data": {
      "image/png": "[encoded data removed]",
      "text/plain": [
       "<Figure size 1080x504 with 1 Axes>"
      ]
     },
     "metadata": {
      "needs_background": "light"
     },
     "output_type": "display_data"
    }
   ],
   "source": [
    "k.plot(figsize=(15,7))"
   ]
  },
  {
   "cell_type": "markdown",
   "id": "bf8873af",
   "metadata": {
    "ExecuteTime": {
     "end_time": "2022-02-13T12:05:35.906911Z",
     "start_time": "2022-02-13T12:05:35.896440Z"
    }
   },
   "source": [
    "## Subjective Returns"
   ]
  },
  {
   "cell_type": "code",
   "execution_count": 99,
   "id": "9101a943",
   "metadata": {
    "ExecuteTime": {
     "end_time": "2022-02-13T12:06:37.074805Z",
     "start_time": "2022-02-13T12:06:36.934944Z"
    }
   },
   "outputs": [],
   "source": [
    "monthly=stock_data_germany_returns.resample(rule='M').apply(af.compound)"
   ]
  },
  {
   "cell_type": "code",
   "execution_count": 101,
   "id": "fb730bcb",
   "metadata": {
    "ExecuteTime": {
     "end_time": "2022-02-13T12:06:54.732774Z",
     "start_time": "2022-02-13T12:06:54.701846Z"
    }
   },
   "outputs": [
    {
     "data": {
      "text/html": [
       "<div>\n",
       "<style scoped>\n",
       "    .dataframe tbody tr th:only-of-type {\n",
       "        vertical-align: middle;\n",
       "    }\n",
       "\n",
       "    .dataframe tbody tr th {\n",
       "        vertical-align: top;\n",
       "    }\n",
       "\n",
       "    .dataframe thead th {\n",
       "        text-align: right;\n",
       "    }\n",
       "</style>\n",
       "<table border=\"1\" class=\"dataframe\">\n",
       "  <thead>\n",
       "    <tr style=\"text-align: right;\">\n",
       "      <th></th>\n",
       "      <th>Monthly Returns</th>\n",
       "      <th>Annual Returns</th>\n",
       "      <th>Annual Volatility</th>\n",
       "      <th>Monthly Volatility</th>\n",
       "      <th>Sharpe Ratio</th>\n",
       "      <th>Sortino Ratio</th>\n",
       "      <th>Doubling Index</th>\n",
       "    </tr>\n",
       "  </thead>\n",
       "  <tbody>\n",
       "    <tr>\n",
       "      <th>Adj Close</th>\n",
       "      <td>0.796876</td>\n",
       "      <td>9.992956</td>\n",
       "      <td>0.264141</td>\n",
       "      <td>0.076251</td>\n",
       "      <td>0.189026</td>\n",
       "      <td>0.303351</td>\n",
       "      <td>7.205075</td>\n",
       "    </tr>\n",
       "  </tbody>\n",
       "</table>\n",
       "</div>"
      ],
      "text/plain": [
       "           Monthly Returns  Annual Returns  Annual Volatility  \\\n",
       "Adj Close         0.796876        9.992956           0.264141   \n",
       "\n",
       "           Monthly Volatility  Sharpe Ratio  Sortino Ratio  Doubling Index  \n",
       "Adj Close            0.076251      0.189026       0.303351        7.205075  "
      ]
     },
     "execution_count": 101,
     "metadata": {},
     "output_type": "execute_result"
    }
   ],
   "source": [
    "af.annualdata(monthly)"
   ]
  }
 ],
 "metadata": {
  "kernelspec": {
   "display_name": "Python 3",
   "language": "python",
   "name": "python3"
  },
  "language_info": {
   "codemirror_mode": {
    "name": "ipython",
    "version": 3
   },
   "file_extension": ".py",
   "mimetype": "text/x-python",
   "name": "python",
   "nbconvert_exporter": "python",
   "pygments_lexer": "ipython3",
   "version": "3.8.3"
  },
  "toc": {
   "base_numbering": 1,
   "nav_menu": {},
   "number_sections": true,
   "sideBar": true,
   "skip_h1_title": false,
   "title_cell": "Table of Contents",
   "title_sidebar": "Contents",
   "toc_cell": false,
   "toc_position": {},
   "toc_section_display": true,
   "toc_window_display": false
  },
  "varInspector": {
   "cols": {
    "lenName": 16,
    "lenType": 16,
    "lenVar": 40
   },
   "kernels_config": {
    "python": {
     "delete_cmd_postfix": "",
     "delete_cmd_prefix": "del ",
     "library": "var_list.py",
     "varRefreshCmd": "print(var_dic_list())"
    },
    "r": {
     "delete_cmd_postfix": ") ",
     "delete_cmd_prefix": "rm(",
     "library": "var_list.r",
     "varRefreshCmd": "cat(var_dic_list()) "
    }
   },
   "types_to_exclude": [
    "module",
    "function",
    "builtin_function_or_method",
    "instance",
    "_Feature"
   ],
   "window_display": false
  }
 },
 "nbformat": 4,
 "nbformat_minor": 5
}
