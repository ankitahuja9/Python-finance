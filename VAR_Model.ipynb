{
 "cells": [
  {
   "cell_type": "code",
   "execution_count": 631,
   "id": "e758ab7b",
   "metadata": {
    "ExecuteTime": {
     "end_time": "2022-03-31T17:10:09.223790Z",
     "start_time": "2022-03-31T17:10:09.212258Z"
    }
   },
   "outputs": [],
   "source": [
    "from datetime import date\n",
    "import tearsheet as ts\n",
    "import ankitfinance as af\n",
    "import fundamental_health_topis as tp\n",
    "import talib\n",
    "import pandas as pd\n",
    "import numpy as np\n",
    "import yfinance as yf\n",
    "import matplotlib.pyplot as plt\n",
    "import warnings\n",
    "import scipy.stats as ss\n",
    "import statsmodels.api as sm\n",
    "import statsmodels\n",
    "warnings.filterwarnings('ignore')\n",
    "%matplotlib inline\n",
    "from statsmodels.tsa.stattools import grangercausalitytests\n",
    "from statsmodels.tsa.vector_ar.vecm import coint_johansen\n",
    "from statsmodels.tsa.stattools import adfuller\n",
    "from statsmodels.tsa.api import VAR\n",
    "\n"
   ]
  },
  {
   "cell_type": "code",
   "execution_count": 1563,
   "id": "fd7cc148",
   "metadata": {
    "ExecuteTime": {
     "end_time": "2022-03-31T21:21:27.860444Z",
     "start_time": "2022-03-31T21:21:27.834500Z"
    }
   },
   "outputs": [],
   "source": [
    "data=pd.read_csv(\"D:Msc-Finance/var_model/data.csv\",parse_dates=True,header=0)\n",
    "r=pd.DataFrame(pd.date_range(start='1959',end='2010',freq='Q')).iloc[:-1]\n",
    "data.index=r.iloc[:,0]\n",
    "data=data.drop(labels=['year','quarter'],axis=1)"
   ]
  },
  {
   "cell_type": "code",
   "execution_count": 1564,
   "id": "f8bbfe58",
   "metadata": {
    "ExecuteTime": {
     "end_time": "2022-03-31T21:21:28.367276Z",
     "start_time": "2022-03-31T21:21:28.359309Z"
    }
   },
   "outputs": [],
   "source": [
    "# Granger Test"
   ]
  },
  {
   "cell_type": "code",
   "execution_count": 1565,
   "id": "7fa0c256",
   "metadata": {
    "ExecuteTime": {
     "end_time": "2022-03-31T21:21:28.381769Z",
     "start_time": "2022-03-31T21:21:28.376343Z"
    }
   },
   "outputs": [],
   "source": [
    "x=len(data.columns)\n",
    "f=len(data.columns)\n",
    "c=pd.DataFrame()\n",
    "d=pd.DataFrame()"
   ]
  },
  {
   "cell_type": "code",
   "execution_count": 1566,
   "id": "a7c02db0",
   "metadata": {
    "ExecuteTime": {
     "end_time": "2022-03-31T21:21:33.486670Z",
     "start_time": "2022-03-31T21:21:28.416122Z"
    }
   },
   "outputs": [],
   "source": [
    "for i in range(x):\n",
    "    ini_x=i\n",
    "    x=data.iloc[:,ini_x]\n",
    "    for y in range(f):\n",
    "        ini_y=y\n",
    "        Y=data.iloc[:,ini_y]\n",
    "        frame=pd.DataFrame(data=[x,Y]).T\n",
    "        test=pd.Series(grangercausalitytests(frame,maxlag=12,verbose=False)[1][0]['ssr_chi2test'][1])\n",
    "        c=c.append(test,ignore_index=True)\n",
    "    c.columns=[x.name+'_X']\n",
    "    c.index=data.columns\n",
    "    d=d.append(c.T)\n",
    "    c=pd.DataFrame()"
   ]
  },
  {
   "cell_type": "code",
   "execution_count": 1567,
   "id": "314da1a1",
   "metadata": {
    "ExecuteTime": {
     "end_time": "2022-03-31T21:21:33.495120Z",
     "start_time": "2022-03-31T21:21:33.488676Z"
    }
   },
   "outputs": [],
   "source": [
    "def color_p_red(val):\n",
    "    color = 'red' if val < 0.05 else 'black'\n",
    "    return 'color: %s' % color"
   ]
  },
  {
   "cell_type": "markdown",
   "id": "139b65c9",
   "metadata": {},
   "source": [
    "## Granger Casuality Test"
   ]
  },
  {
   "cell_type": "code",
   "execution_count": 1568,
   "id": "dff87e98",
   "metadata": {
    "ExecuteTime": {
     "end_time": "2022-03-31T21:21:33.560186Z",
     "start_time": "2022-03-31T21:21:33.497293Z"
    }
   },
   "outputs": [
    {
     "data": {
      "text/html": [
       "<style  type=\"text/css\" >\n",
       "    #T_8a22cd98_b138_11ec_9e5c_7cb27d4a43adrow0_col0 {\n",
       "            color:  black;\n",
       "        }    #T_8a22cd98_b138_11ec_9e5c_7cb27d4a43adrow0_col1 {\n",
       "            color:  black;\n",
       "        }    #T_8a22cd98_b138_11ec_9e5c_7cb27d4a43adrow0_col2 {\n",
       "            color:  black;\n",
       "        }    #T_8a22cd98_b138_11ec_9e5c_7cb27d4a43adrow0_col3 {\n",
       "            color:  red;\n",
       "        }    #T_8a22cd98_b138_11ec_9e5c_7cb27d4a43adrow0_col4 {\n",
       "            color:  black;\n",
       "        }    #T_8a22cd98_b138_11ec_9e5c_7cb27d4a43adrow0_col5 {\n",
       "            color:  black;\n",
       "        }    #T_8a22cd98_b138_11ec_9e5c_7cb27d4a43adrow0_col6 {\n",
       "            color:  black;\n",
       "        }    #T_8a22cd98_b138_11ec_9e5c_7cb27d4a43adrow0_col7 {\n",
       "            color:  black;\n",
       "        }    #T_8a22cd98_b138_11ec_9e5c_7cb27d4a43adrow0_col8 {\n",
       "            color:  black;\n",
       "        }    #T_8a22cd98_b138_11ec_9e5c_7cb27d4a43adrow0_col9 {\n",
       "            color:  red;\n",
       "        }    #T_8a22cd98_b138_11ec_9e5c_7cb27d4a43adrow0_col10 {\n",
       "            color:  black;\n",
       "        }    #T_8a22cd98_b138_11ec_9e5c_7cb27d4a43adrow0_col11 {\n",
       "            color:  black;\n",
       "        }    #T_8a22cd98_b138_11ec_9e5c_7cb27d4a43adrow1_col0 {\n",
       "            color:  red;\n",
       "        }    #T_8a22cd98_b138_11ec_9e5c_7cb27d4a43adrow1_col1 {\n",
       "            color:  black;\n",
       "        }    #T_8a22cd98_b138_11ec_9e5c_7cb27d4a43adrow1_col2 {\n",
       "            color:  red;\n",
       "        }    #T_8a22cd98_b138_11ec_9e5c_7cb27d4a43adrow1_col3 {\n",
       "            color:  red;\n",
       "        }    #T_8a22cd98_b138_11ec_9e5c_7cb27d4a43adrow1_col4 {\n",
       "            color:  black;\n",
       "        }    #T_8a22cd98_b138_11ec_9e5c_7cb27d4a43adrow1_col5 {\n",
       "            color:  black;\n",
       "        }    #T_8a22cd98_b138_11ec_9e5c_7cb27d4a43adrow1_col6 {\n",
       "            color:  black;\n",
       "        }    #T_8a22cd98_b138_11ec_9e5c_7cb27d4a43adrow1_col7 {\n",
       "            color:  black;\n",
       "        }    #T_8a22cd98_b138_11ec_9e5c_7cb27d4a43adrow1_col8 {\n",
       "            color:  black;\n",
       "        }    #T_8a22cd98_b138_11ec_9e5c_7cb27d4a43adrow1_col9 {\n",
       "            color:  red;\n",
       "        }    #T_8a22cd98_b138_11ec_9e5c_7cb27d4a43adrow1_col10 {\n",
       "            color:  red;\n",
       "        }    #T_8a22cd98_b138_11ec_9e5c_7cb27d4a43adrow1_col11 {\n",
       "            color:  red;\n",
       "        }    #T_8a22cd98_b138_11ec_9e5c_7cb27d4a43adrow2_col0 {\n",
       "            color:  black;\n",
       "        }    #T_8a22cd98_b138_11ec_9e5c_7cb27d4a43adrow2_col1 {\n",
       "            color:  black;\n",
       "        }    #T_8a22cd98_b138_11ec_9e5c_7cb27d4a43adrow2_col2 {\n",
       "            color:  black;\n",
       "        }    #T_8a22cd98_b138_11ec_9e5c_7cb27d4a43adrow2_col3 {\n",
       "            color:  red;\n",
       "        }    #T_8a22cd98_b138_11ec_9e5c_7cb27d4a43adrow2_col4 {\n",
       "            color:  black;\n",
       "        }    #T_8a22cd98_b138_11ec_9e5c_7cb27d4a43adrow2_col5 {\n",
       "            color:  black;\n",
       "        }    #T_8a22cd98_b138_11ec_9e5c_7cb27d4a43adrow2_col6 {\n",
       "            color:  black;\n",
       "        }    #T_8a22cd98_b138_11ec_9e5c_7cb27d4a43adrow2_col7 {\n",
       "            color:  black;\n",
       "        }    #T_8a22cd98_b138_11ec_9e5c_7cb27d4a43adrow2_col8 {\n",
       "            color:  black;\n",
       "        }    #T_8a22cd98_b138_11ec_9e5c_7cb27d4a43adrow2_col9 {\n",
       "            color:  black;\n",
       "        }    #T_8a22cd98_b138_11ec_9e5c_7cb27d4a43adrow2_col10 {\n",
       "            color:  black;\n",
       "        }    #T_8a22cd98_b138_11ec_9e5c_7cb27d4a43adrow2_col11 {\n",
       "            color:  black;\n",
       "        }    #T_8a22cd98_b138_11ec_9e5c_7cb27d4a43adrow3_col0 {\n",
       "            color:  black;\n",
       "        }    #T_8a22cd98_b138_11ec_9e5c_7cb27d4a43adrow3_col1 {\n",
       "            color:  black;\n",
       "        }    #T_8a22cd98_b138_11ec_9e5c_7cb27d4a43adrow3_col2 {\n",
       "            color:  black;\n",
       "        }    #T_8a22cd98_b138_11ec_9e5c_7cb27d4a43adrow3_col3 {\n",
       "            color:  black;\n",
       "        }    #T_8a22cd98_b138_11ec_9e5c_7cb27d4a43adrow3_col4 {\n",
       "            color:  black;\n",
       "        }    #T_8a22cd98_b138_11ec_9e5c_7cb27d4a43adrow3_col5 {\n",
       "            color:  black;\n",
       "        }    #T_8a22cd98_b138_11ec_9e5c_7cb27d4a43adrow3_col6 {\n",
       "            color:  black;\n",
       "        }    #T_8a22cd98_b138_11ec_9e5c_7cb27d4a43adrow3_col7 {\n",
       "            color:  black;\n",
       "        }    #T_8a22cd98_b138_11ec_9e5c_7cb27d4a43adrow3_col8 {\n",
       "            color:  black;\n",
       "        }    #T_8a22cd98_b138_11ec_9e5c_7cb27d4a43adrow3_col9 {\n",
       "            color:  black;\n",
       "        }    #T_8a22cd98_b138_11ec_9e5c_7cb27d4a43adrow3_col10 {\n",
       "            color:  black;\n",
       "        }    #T_8a22cd98_b138_11ec_9e5c_7cb27d4a43adrow3_col11 {\n",
       "            color:  black;\n",
       "        }    #T_8a22cd98_b138_11ec_9e5c_7cb27d4a43adrow4_col0 {\n",
       "            color:  red;\n",
       "        }    #T_8a22cd98_b138_11ec_9e5c_7cb27d4a43adrow4_col1 {\n",
       "            color:  red;\n",
       "        }    #T_8a22cd98_b138_11ec_9e5c_7cb27d4a43adrow4_col2 {\n",
       "            color:  black;\n",
       "        }    #T_8a22cd98_b138_11ec_9e5c_7cb27d4a43adrow4_col3 {\n",
       "            color:  black;\n",
       "        }    #T_8a22cd98_b138_11ec_9e5c_7cb27d4a43adrow4_col4 {\n",
       "            color:  black;\n",
       "        }    #T_8a22cd98_b138_11ec_9e5c_7cb27d4a43adrow4_col5 {\n",
       "            color:  black;\n",
       "        }    #T_8a22cd98_b138_11ec_9e5c_7cb27d4a43adrow4_col6 {\n",
       "            color:  black;\n",
       "        }    #T_8a22cd98_b138_11ec_9e5c_7cb27d4a43adrow4_col7 {\n",
       "            color:  black;\n",
       "        }    #T_8a22cd98_b138_11ec_9e5c_7cb27d4a43adrow4_col8 {\n",
       "            color:  black;\n",
       "        }    #T_8a22cd98_b138_11ec_9e5c_7cb27d4a43adrow4_col9 {\n",
       "            color:  red;\n",
       "        }    #T_8a22cd98_b138_11ec_9e5c_7cb27d4a43adrow4_col10 {\n",
       "            color:  red;\n",
       "        }    #T_8a22cd98_b138_11ec_9e5c_7cb27d4a43adrow4_col11 {\n",
       "            color:  red;\n",
       "        }    #T_8a22cd98_b138_11ec_9e5c_7cb27d4a43adrow5_col0 {\n",
       "            color:  black;\n",
       "        }    #T_8a22cd98_b138_11ec_9e5c_7cb27d4a43adrow5_col1 {\n",
       "            color:  black;\n",
       "        }    #T_8a22cd98_b138_11ec_9e5c_7cb27d4a43adrow5_col2 {\n",
       "            color:  black;\n",
       "        }    #T_8a22cd98_b138_11ec_9e5c_7cb27d4a43adrow5_col3 {\n",
       "            color:  black;\n",
       "        }    #T_8a22cd98_b138_11ec_9e5c_7cb27d4a43adrow5_col4 {\n",
       "            color:  black;\n",
       "        }    #T_8a22cd98_b138_11ec_9e5c_7cb27d4a43adrow5_col5 {\n",
       "            color:  black;\n",
       "        }    #T_8a22cd98_b138_11ec_9e5c_7cb27d4a43adrow5_col6 {\n",
       "            color:  red;\n",
       "        }    #T_8a22cd98_b138_11ec_9e5c_7cb27d4a43adrow5_col7 {\n",
       "            color:  red;\n",
       "        }    #T_8a22cd98_b138_11ec_9e5c_7cb27d4a43adrow5_col8 {\n",
       "            color:  black;\n",
       "        }    #T_8a22cd98_b138_11ec_9e5c_7cb27d4a43adrow5_col9 {\n",
       "            color:  red;\n",
       "        }    #T_8a22cd98_b138_11ec_9e5c_7cb27d4a43adrow5_col10 {\n",
       "            color:  red;\n",
       "        }    #T_8a22cd98_b138_11ec_9e5c_7cb27d4a43adrow5_col11 {\n",
       "            color:  black;\n",
       "        }    #T_8a22cd98_b138_11ec_9e5c_7cb27d4a43adrow6_col0 {\n",
       "            color:  black;\n",
       "        }    #T_8a22cd98_b138_11ec_9e5c_7cb27d4a43adrow6_col1 {\n",
       "            color:  black;\n",
       "        }    #T_8a22cd98_b138_11ec_9e5c_7cb27d4a43adrow6_col2 {\n",
       "            color:  red;\n",
       "        }    #T_8a22cd98_b138_11ec_9e5c_7cb27d4a43adrow6_col3 {\n",
       "            color:  red;\n",
       "        }    #T_8a22cd98_b138_11ec_9e5c_7cb27d4a43adrow6_col4 {\n",
       "            color:  black;\n",
       "        }    #T_8a22cd98_b138_11ec_9e5c_7cb27d4a43adrow6_col5 {\n",
       "            color:  red;\n",
       "        }    #T_8a22cd98_b138_11ec_9e5c_7cb27d4a43adrow6_col6 {\n",
       "            color:  black;\n",
       "        }    #T_8a22cd98_b138_11ec_9e5c_7cb27d4a43adrow6_col7 {\n",
       "            color:  black;\n",
       "        }    #T_8a22cd98_b138_11ec_9e5c_7cb27d4a43adrow6_col8 {\n",
       "            color:  red;\n",
       "        }    #T_8a22cd98_b138_11ec_9e5c_7cb27d4a43adrow6_col9 {\n",
       "            color:  black;\n",
       "        }    #T_8a22cd98_b138_11ec_9e5c_7cb27d4a43adrow6_col10 {\n",
       "            color:  black;\n",
       "        }    #T_8a22cd98_b138_11ec_9e5c_7cb27d4a43adrow6_col11 {\n",
       "            color:  black;\n",
       "        }    #T_8a22cd98_b138_11ec_9e5c_7cb27d4a43adrow7_col0 {\n",
       "            color:  black;\n",
       "        }    #T_8a22cd98_b138_11ec_9e5c_7cb27d4a43adrow7_col1 {\n",
       "            color:  black;\n",
       "        }    #T_8a22cd98_b138_11ec_9e5c_7cb27d4a43adrow7_col2 {\n",
       "            color:  black;\n",
       "        }    #T_8a22cd98_b138_11ec_9e5c_7cb27d4a43adrow7_col3 {\n",
       "            color:  black;\n",
       "        }    #T_8a22cd98_b138_11ec_9e5c_7cb27d4a43adrow7_col4 {\n",
       "            color:  black;\n",
       "        }    #T_8a22cd98_b138_11ec_9e5c_7cb27d4a43adrow7_col5 {\n",
       "            color:  black;\n",
       "        }    #T_8a22cd98_b138_11ec_9e5c_7cb27d4a43adrow7_col6 {\n",
       "            color:  black;\n",
       "        }    #T_8a22cd98_b138_11ec_9e5c_7cb27d4a43adrow7_col7 {\n",
       "            color:  black;\n",
       "        }    #T_8a22cd98_b138_11ec_9e5c_7cb27d4a43adrow7_col8 {\n",
       "            color:  black;\n",
       "        }    #T_8a22cd98_b138_11ec_9e5c_7cb27d4a43adrow7_col9 {\n",
       "            color:  black;\n",
       "        }    #T_8a22cd98_b138_11ec_9e5c_7cb27d4a43adrow7_col10 {\n",
       "            color:  black;\n",
       "        }    #T_8a22cd98_b138_11ec_9e5c_7cb27d4a43adrow7_col11 {\n",
       "            color:  black;\n",
       "        }    #T_8a22cd98_b138_11ec_9e5c_7cb27d4a43adrow8_col0 {\n",
       "            color:  black;\n",
       "        }    #T_8a22cd98_b138_11ec_9e5c_7cb27d4a43adrow8_col1 {\n",
       "            color:  black;\n",
       "        }    #T_8a22cd98_b138_11ec_9e5c_7cb27d4a43adrow8_col2 {\n",
       "            color:  black;\n",
       "        }    #T_8a22cd98_b138_11ec_9e5c_7cb27d4a43adrow8_col3 {\n",
       "            color:  black;\n",
       "        }    #T_8a22cd98_b138_11ec_9e5c_7cb27d4a43adrow8_col4 {\n",
       "            color:  black;\n",
       "        }    #T_8a22cd98_b138_11ec_9e5c_7cb27d4a43adrow8_col5 {\n",
       "            color:  black;\n",
       "        }    #T_8a22cd98_b138_11ec_9e5c_7cb27d4a43adrow8_col6 {\n",
       "            color:  black;\n",
       "        }    #T_8a22cd98_b138_11ec_9e5c_7cb27d4a43adrow8_col7 {\n",
       "            color:  black;\n",
       "        }    #T_8a22cd98_b138_11ec_9e5c_7cb27d4a43adrow8_col8 {\n",
       "            color:  black;\n",
       "        }    #T_8a22cd98_b138_11ec_9e5c_7cb27d4a43adrow8_col9 {\n",
       "            color:  black;\n",
       "        }    #T_8a22cd98_b138_11ec_9e5c_7cb27d4a43adrow8_col10 {\n",
       "            color:  black;\n",
       "        }    #T_8a22cd98_b138_11ec_9e5c_7cb27d4a43adrow8_col11 {\n",
       "            color:  black;\n",
       "        }    #T_8a22cd98_b138_11ec_9e5c_7cb27d4a43adrow9_col0 {\n",
       "            color:  black;\n",
       "        }    #T_8a22cd98_b138_11ec_9e5c_7cb27d4a43adrow9_col1 {\n",
       "            color:  black;\n",
       "        }    #T_8a22cd98_b138_11ec_9e5c_7cb27d4a43adrow9_col2 {\n",
       "            color:  black;\n",
       "        }    #T_8a22cd98_b138_11ec_9e5c_7cb27d4a43adrow9_col3 {\n",
       "            color:  black;\n",
       "        }    #T_8a22cd98_b138_11ec_9e5c_7cb27d4a43adrow9_col4 {\n",
       "            color:  black;\n",
       "        }    #T_8a22cd98_b138_11ec_9e5c_7cb27d4a43adrow9_col5 {\n",
       "            color:  red;\n",
       "        }    #T_8a22cd98_b138_11ec_9e5c_7cb27d4a43adrow9_col6 {\n",
       "            color:  red;\n",
       "        }    #T_8a22cd98_b138_11ec_9e5c_7cb27d4a43adrow9_col7 {\n",
       "            color:  red;\n",
       "        }    #T_8a22cd98_b138_11ec_9e5c_7cb27d4a43adrow9_col8 {\n",
       "            color:  black;\n",
       "        }    #T_8a22cd98_b138_11ec_9e5c_7cb27d4a43adrow9_col9 {\n",
       "            color:  black;\n",
       "        }    #T_8a22cd98_b138_11ec_9e5c_7cb27d4a43adrow9_col10 {\n",
       "            color:  red;\n",
       "        }    #T_8a22cd98_b138_11ec_9e5c_7cb27d4a43adrow9_col11 {\n",
       "            color:  black;\n",
       "        }    #T_8a22cd98_b138_11ec_9e5c_7cb27d4a43adrow10_col0 {\n",
       "            color:  black;\n",
       "        }    #T_8a22cd98_b138_11ec_9e5c_7cb27d4a43adrow10_col1 {\n",
       "            color:  black;\n",
       "        }    #T_8a22cd98_b138_11ec_9e5c_7cb27d4a43adrow10_col2 {\n",
       "            color:  black;\n",
       "        }    #T_8a22cd98_b138_11ec_9e5c_7cb27d4a43adrow10_col3 {\n",
       "            color:  red;\n",
       "        }    #T_8a22cd98_b138_11ec_9e5c_7cb27d4a43adrow10_col4 {\n",
       "            color:  black;\n",
       "        }    #T_8a22cd98_b138_11ec_9e5c_7cb27d4a43adrow10_col5 {\n",
       "            color:  black;\n",
       "        }    #T_8a22cd98_b138_11ec_9e5c_7cb27d4a43adrow10_col6 {\n",
       "            color:  black;\n",
       "        }    #T_8a22cd98_b138_11ec_9e5c_7cb27d4a43adrow10_col7 {\n",
       "            color:  red;\n",
       "        }    #T_8a22cd98_b138_11ec_9e5c_7cb27d4a43adrow10_col8 {\n",
       "            color:  black;\n",
       "        }    #T_8a22cd98_b138_11ec_9e5c_7cb27d4a43adrow10_col9 {\n",
       "            color:  black;\n",
       "        }    #T_8a22cd98_b138_11ec_9e5c_7cb27d4a43adrow10_col10 {\n",
       "            color:  black;\n",
       "        }    #T_8a22cd98_b138_11ec_9e5c_7cb27d4a43adrow10_col11 {\n",
       "            color:  red;\n",
       "        }    #T_8a22cd98_b138_11ec_9e5c_7cb27d4a43adrow11_col0 {\n",
       "            color:  black;\n",
       "        }    #T_8a22cd98_b138_11ec_9e5c_7cb27d4a43adrow11_col1 {\n",
       "            color:  black;\n",
       "        }    #T_8a22cd98_b138_11ec_9e5c_7cb27d4a43adrow11_col2 {\n",
       "            color:  black;\n",
       "        }    #T_8a22cd98_b138_11ec_9e5c_7cb27d4a43adrow11_col3 {\n",
       "            color:  black;\n",
       "        }    #T_8a22cd98_b138_11ec_9e5c_7cb27d4a43adrow11_col4 {\n",
       "            color:  black;\n",
       "        }    #T_8a22cd98_b138_11ec_9e5c_7cb27d4a43adrow11_col5 {\n",
       "            color:  black;\n",
       "        }    #T_8a22cd98_b138_11ec_9e5c_7cb27d4a43adrow11_col6 {\n",
       "            color:  black;\n",
       "        }    #T_8a22cd98_b138_11ec_9e5c_7cb27d4a43adrow11_col7 {\n",
       "            color:  red;\n",
       "        }    #T_8a22cd98_b138_11ec_9e5c_7cb27d4a43adrow11_col8 {\n",
       "            color:  black;\n",
       "        }    #T_8a22cd98_b138_11ec_9e5c_7cb27d4a43adrow11_col9 {\n",
       "            color:  black;\n",
       "        }    #T_8a22cd98_b138_11ec_9e5c_7cb27d4a43adrow11_col10 {\n",
       "            color:  red;\n",
       "        }    #T_8a22cd98_b138_11ec_9e5c_7cb27d4a43adrow11_col11 {\n",
       "            color:  black;\n",
       "        }</style><table id=\"T_8a22cd98_b138_11ec_9e5c_7cb27d4a43ad\" ><thead>    <tr>        <th class=\"blank level0\" ></th>        <th class=\"col_heading level0 col0\" >realgdp</th>        <th class=\"col_heading level0 col1\" >realcons</th>        <th class=\"col_heading level0 col2\" >realinv</th>        <th class=\"col_heading level0 col3\" >realgovt</th>        <th class=\"col_heading level0 col4\" >realdpi</th>        <th class=\"col_heading level0 col5\" >cpi</th>        <th class=\"col_heading level0 col6\" >m1</th>        <th class=\"col_heading level0 col7\" >tbilrate</th>        <th class=\"col_heading level0 col8\" >unemp</th>        <th class=\"col_heading level0 col9\" >pop</th>        <th class=\"col_heading level0 col10\" >infl</th>        <th class=\"col_heading level0 col11\" >realint</th>    </tr></thead><tbody>\n",
       "                <tr>\n",
       "                        <th id=\"T_8a22cd98_b138_11ec_9e5c_7cb27d4a43adlevel0_row0\" class=\"row_heading level0 row0\" >realgdp_X</th>\n",
       "                        <td id=\"T_8a22cd98_b138_11ec_9e5c_7cb27d4a43adrow0_col0\" class=\"data row0 col0\" >0.999999</td>\n",
       "                        <td id=\"T_8a22cd98_b138_11ec_9e5c_7cb27d4a43adrow0_col1\" class=\"data row0 col1\" >0.664649</td>\n",
       "                        <td id=\"T_8a22cd98_b138_11ec_9e5c_7cb27d4a43adrow0_col2\" class=\"data row0 col2\" >0.092534</td>\n",
       "                        <td id=\"T_8a22cd98_b138_11ec_9e5c_7cb27d4a43adrow0_col3\" class=\"data row0 col3\" >0.042273</td>\n",
       "                        <td id=\"T_8a22cd98_b138_11ec_9e5c_7cb27d4a43adrow0_col4\" class=\"data row0 col4\" >0.830586</td>\n",
       "                        <td id=\"T_8a22cd98_b138_11ec_9e5c_7cb27d4a43adrow0_col5\" class=\"data row0 col5\" >0.273713</td>\n",
       "                        <td id=\"T_8a22cd98_b138_11ec_9e5c_7cb27d4a43adrow0_col6\" class=\"data row0 col6\" >0.078000</td>\n",
       "                        <td id=\"T_8a22cd98_b138_11ec_9e5c_7cb27d4a43adrow0_col7\" class=\"data row0 col7\" >0.232959</td>\n",
       "                        <td id=\"T_8a22cd98_b138_11ec_9e5c_7cb27d4a43adrow0_col8\" class=\"data row0 col8\" >0.509500</td>\n",
       "                        <td id=\"T_8a22cd98_b138_11ec_9e5c_7cb27d4a43adrow0_col9\" class=\"data row0 col9\" >0.019395</td>\n",
       "                        <td id=\"T_8a22cd98_b138_11ec_9e5c_7cb27d4a43adrow0_col10\" class=\"data row0 col10\" >0.200552</td>\n",
       "                        <td id=\"T_8a22cd98_b138_11ec_9e5c_7cb27d4a43adrow0_col11\" class=\"data row0 col11\" >0.768670</td>\n",
       "            </tr>\n",
       "            <tr>\n",
       "                        <th id=\"T_8a22cd98_b138_11ec_9e5c_7cb27d4a43adlevel0_row1\" class=\"row_heading level0 row1\" >realcons_X</th>\n",
       "                        <td id=\"T_8a22cd98_b138_11ec_9e5c_7cb27d4a43adrow1_col0\" class=\"data row1 col0\" >0.009486</td>\n",
       "                        <td id=\"T_8a22cd98_b138_11ec_9e5c_7cb27d4a43adrow1_col1\" class=\"data row1 col1\" >1.000000</td>\n",
       "                        <td id=\"T_8a22cd98_b138_11ec_9e5c_7cb27d4a43adrow1_col2\" class=\"data row1 col2\" >0.000162</td>\n",
       "                        <td id=\"T_8a22cd98_b138_11ec_9e5c_7cb27d4a43adrow1_col3\" class=\"data row1 col3\" >0.026466</td>\n",
       "                        <td id=\"T_8a22cd98_b138_11ec_9e5c_7cb27d4a43adrow1_col4\" class=\"data row1 col4\" >0.081570</td>\n",
       "                        <td id=\"T_8a22cd98_b138_11ec_9e5c_7cb27d4a43adrow1_col5\" class=\"data row1 col5\" >0.194942</td>\n",
       "                        <td id=\"T_8a22cd98_b138_11ec_9e5c_7cb27d4a43adrow1_col6\" class=\"data row1 col6\" >0.053550</td>\n",
       "                        <td id=\"T_8a22cd98_b138_11ec_9e5c_7cb27d4a43adrow1_col7\" class=\"data row1 col7\" >0.089805</td>\n",
       "                        <td id=\"T_8a22cd98_b138_11ec_9e5c_7cb27d4a43adrow1_col8\" class=\"data row1 col8\" >0.484897</td>\n",
       "                        <td id=\"T_8a22cd98_b138_11ec_9e5c_7cb27d4a43adrow1_col9\" class=\"data row1 col9\" >0.003365</td>\n",
       "                        <td id=\"T_8a22cd98_b138_11ec_9e5c_7cb27d4a43adrow1_col10\" class=\"data row1 col10\" >0.000012</td>\n",
       "                        <td id=\"T_8a22cd98_b138_11ec_9e5c_7cb27d4a43adrow1_col11\" class=\"data row1 col11\" >0.000595</td>\n",
       "            </tr>\n",
       "            <tr>\n",
       "                        <th id=\"T_8a22cd98_b138_11ec_9e5c_7cb27d4a43adlevel0_row2\" class=\"row_heading level0 row2\" >realinv_X</th>\n",
       "                        <td id=\"T_8a22cd98_b138_11ec_9e5c_7cb27d4a43adrow2_col0\" class=\"data row2 col0\" >0.385111</td>\n",
       "                        <td id=\"T_8a22cd98_b138_11ec_9e5c_7cb27d4a43adrow2_col1\" class=\"data row2 col1\" >0.307447</td>\n",
       "                        <td id=\"T_8a22cd98_b138_11ec_9e5c_7cb27d4a43adrow2_col2\" class=\"data row2 col2\" >1.000000</td>\n",
       "                        <td id=\"T_8a22cd98_b138_11ec_9e5c_7cb27d4a43adrow2_col3\" class=\"data row2 col3\" >0.034430</td>\n",
       "                        <td id=\"T_8a22cd98_b138_11ec_9e5c_7cb27d4a43adrow2_col4\" class=\"data row2 col4\" >0.338712</td>\n",
       "                        <td id=\"T_8a22cd98_b138_11ec_9e5c_7cb27d4a43adrow2_col5\" class=\"data row2 col5\" >0.895584</td>\n",
       "                        <td id=\"T_8a22cd98_b138_11ec_9e5c_7cb27d4a43adrow2_col6\" class=\"data row2 col6\" >0.567637</td>\n",
       "                        <td id=\"T_8a22cd98_b138_11ec_9e5c_7cb27d4a43adrow2_col7\" class=\"data row2 col7\" >0.746549</td>\n",
       "                        <td id=\"T_8a22cd98_b138_11ec_9e5c_7cb27d4a43adrow2_col8\" class=\"data row2 col8\" >0.419314</td>\n",
       "                        <td id=\"T_8a22cd98_b138_11ec_9e5c_7cb27d4a43adrow2_col9\" class=\"data row2 col9\" >0.684394</td>\n",
       "                        <td id=\"T_8a22cd98_b138_11ec_9e5c_7cb27d4a43adrow2_col10\" class=\"data row2 col10\" >0.213527</td>\n",
       "                        <td id=\"T_8a22cd98_b138_11ec_9e5c_7cb27d4a43adrow2_col11\" class=\"data row2 col11\" >0.062225</td>\n",
       "            </tr>\n",
       "            <tr>\n",
       "                        <th id=\"T_8a22cd98_b138_11ec_9e5c_7cb27d4a43adlevel0_row3\" class=\"row_heading level0 row3\" >realgovt_X</th>\n",
       "                        <td id=\"T_8a22cd98_b138_11ec_9e5c_7cb27d4a43adrow3_col0\" class=\"data row3 col0\" >0.114945</td>\n",
       "                        <td id=\"T_8a22cd98_b138_11ec_9e5c_7cb27d4a43adrow3_col1\" class=\"data row3 col1\" >0.071108</td>\n",
       "                        <td id=\"T_8a22cd98_b138_11ec_9e5c_7cb27d4a43adrow3_col2\" class=\"data row3 col2\" >0.128299</td>\n",
       "                        <td id=\"T_8a22cd98_b138_11ec_9e5c_7cb27d4a43adrow3_col3\" class=\"data row3 col3\" >1.000000</td>\n",
       "                        <td id=\"T_8a22cd98_b138_11ec_9e5c_7cb27d4a43adrow3_col4\" class=\"data row3 col4\" >0.069489</td>\n",
       "                        <td id=\"T_8a22cd98_b138_11ec_9e5c_7cb27d4a43adrow3_col5\" class=\"data row3 col5\" >0.114428</td>\n",
       "                        <td id=\"T_8a22cd98_b138_11ec_9e5c_7cb27d4a43adrow3_col6\" class=\"data row3 col6\" >0.629148</td>\n",
       "                        <td id=\"T_8a22cd98_b138_11ec_9e5c_7cb27d4a43adrow3_col7\" class=\"data row3 col7\" >0.853003</td>\n",
       "                        <td id=\"T_8a22cd98_b138_11ec_9e5c_7cb27d4a43adrow3_col8\" class=\"data row3 col8\" >0.213576</td>\n",
       "                        <td id=\"T_8a22cd98_b138_11ec_9e5c_7cb27d4a43adrow3_col9\" class=\"data row3 col9\" >0.223582</td>\n",
       "                        <td id=\"T_8a22cd98_b138_11ec_9e5c_7cb27d4a43adrow3_col10\" class=\"data row3 col10\" >0.731229</td>\n",
       "                        <td id=\"T_8a22cd98_b138_11ec_9e5c_7cb27d4a43adrow3_col11\" class=\"data row3 col11\" >0.782338</td>\n",
       "            </tr>\n",
       "            <tr>\n",
       "                        <th id=\"T_8a22cd98_b138_11ec_9e5c_7cb27d4a43adlevel0_row4\" class=\"row_heading level0 row4\" >realdpi_X</th>\n",
       "                        <td id=\"T_8a22cd98_b138_11ec_9e5c_7cb27d4a43adrow4_col0\" class=\"data row4 col0\" >0.000332</td>\n",
       "                        <td id=\"T_8a22cd98_b138_11ec_9e5c_7cb27d4a43adrow4_col1\" class=\"data row4 col1\" >0.006231</td>\n",
       "                        <td id=\"T_8a22cd98_b138_11ec_9e5c_7cb27d4a43adrow4_col2\" class=\"data row4 col2\" >0.053801</td>\n",
       "                        <td id=\"T_8a22cd98_b138_11ec_9e5c_7cb27d4a43adrow4_col3\" class=\"data row4 col3\" >0.303653</td>\n",
       "                        <td id=\"T_8a22cd98_b138_11ec_9e5c_7cb27d4a43adrow4_col4\" class=\"data row4 col4\" >1.000000</td>\n",
       "                        <td id=\"T_8a22cd98_b138_11ec_9e5c_7cb27d4a43adrow4_col5\" class=\"data row4 col5\" >0.310651</td>\n",
       "                        <td id=\"T_8a22cd98_b138_11ec_9e5c_7cb27d4a43adrow4_col6\" class=\"data row4 col6\" >0.280910</td>\n",
       "                        <td id=\"T_8a22cd98_b138_11ec_9e5c_7cb27d4a43adrow4_col7\" class=\"data row4 col7\" >0.451991</td>\n",
       "                        <td id=\"T_8a22cd98_b138_11ec_9e5c_7cb27d4a43adrow4_col8\" class=\"data row4 col8\" >0.922392</td>\n",
       "                        <td id=\"T_8a22cd98_b138_11ec_9e5c_7cb27d4a43adrow4_col9\" class=\"data row4 col9\" >0.009890</td>\n",
       "                        <td id=\"T_8a22cd98_b138_11ec_9e5c_7cb27d4a43adrow4_col10\" class=\"data row4 col10\" >0.001479</td>\n",
       "                        <td id=\"T_8a22cd98_b138_11ec_9e5c_7cb27d4a43adrow4_col11\" class=\"data row4 col11\" >0.002340</td>\n",
       "            </tr>\n",
       "            <tr>\n",
       "                        <th id=\"T_8a22cd98_b138_11ec_9e5c_7cb27d4a43adlevel0_row5\" class=\"row_heading level0 row5\" >cpi_X</th>\n",
       "                        <td id=\"T_8a22cd98_b138_11ec_9e5c_7cb27d4a43adrow5_col0\" class=\"data row5 col0\" >0.360925</td>\n",
       "                        <td id=\"T_8a22cd98_b138_11ec_9e5c_7cb27d4a43adrow5_col1\" class=\"data row5 col1\" >0.557115</td>\n",
       "                        <td id=\"T_8a22cd98_b138_11ec_9e5c_7cb27d4a43adrow5_col2\" class=\"data row5 col2\" >0.921588</td>\n",
       "                        <td id=\"T_8a22cd98_b138_11ec_9e5c_7cb27d4a43adrow5_col3\" class=\"data row5 col3\" >0.071047</td>\n",
       "                        <td id=\"T_8a22cd98_b138_11ec_9e5c_7cb27d4a43adrow5_col4\" class=\"data row5 col4\" >0.203763</td>\n",
       "                        <td id=\"T_8a22cd98_b138_11ec_9e5c_7cb27d4a43adrow5_col5\" class=\"data row5 col5\" >0.999999</td>\n",
       "                        <td id=\"T_8a22cd98_b138_11ec_9e5c_7cb27d4a43adrow5_col6\" class=\"data row5 col6\" >0.016045</td>\n",
       "                        <td id=\"T_8a22cd98_b138_11ec_9e5c_7cb27d4a43adrow5_col7\" class=\"data row5 col7\" >0.000000</td>\n",
       "                        <td id=\"T_8a22cd98_b138_11ec_9e5c_7cb27d4a43adrow5_col8\" class=\"data row5 col8\" >0.245879</td>\n",
       "                        <td id=\"T_8a22cd98_b138_11ec_9e5c_7cb27d4a43adrow5_col9\" class=\"data row5 col9\" >0.001502</td>\n",
       "                        <td id=\"T_8a22cd98_b138_11ec_9e5c_7cb27d4a43adrow5_col10\" class=\"data row5 col10\" >0.000000</td>\n",
       "                        <td id=\"T_8a22cd98_b138_11ec_9e5c_7cb27d4a43adrow5_col11\" class=\"data row5 col11\" >0.259148</td>\n",
       "            </tr>\n",
       "            <tr>\n",
       "                        <th id=\"T_8a22cd98_b138_11ec_9e5c_7cb27d4a43adlevel0_row6\" class=\"row_heading level0 row6\" >m1_X</th>\n",
       "                        <td id=\"T_8a22cd98_b138_11ec_9e5c_7cb27d4a43adrow6_col0\" class=\"data row6 col0\" >0.616960</td>\n",
       "                        <td id=\"T_8a22cd98_b138_11ec_9e5c_7cb27d4a43adrow6_col1\" class=\"data row6 col1\" >0.392818</td>\n",
       "                        <td id=\"T_8a22cd98_b138_11ec_9e5c_7cb27d4a43adrow6_col2\" class=\"data row6 col2\" >0.004301</td>\n",
       "                        <td id=\"T_8a22cd98_b138_11ec_9e5c_7cb27d4a43adrow6_col3\" class=\"data row6 col3\" >0.000001</td>\n",
       "                        <td id=\"T_8a22cd98_b138_11ec_9e5c_7cb27d4a43adrow6_col4\" class=\"data row6 col4\" >0.149487</td>\n",
       "                        <td id=\"T_8a22cd98_b138_11ec_9e5c_7cb27d4a43adrow6_col5\" class=\"data row6 col5\" >0.010446</td>\n",
       "                        <td id=\"T_8a22cd98_b138_11ec_9e5c_7cb27d4a43adrow6_col6\" class=\"data row6 col6\" >1.000000</td>\n",
       "                        <td id=\"T_8a22cd98_b138_11ec_9e5c_7cb27d4a43adrow6_col7\" class=\"data row6 col7\" >0.188894</td>\n",
       "                        <td id=\"T_8a22cd98_b138_11ec_9e5c_7cb27d4a43adrow6_col8\" class=\"data row6 col8\" >0.000003</td>\n",
       "                        <td id=\"T_8a22cd98_b138_11ec_9e5c_7cb27d4a43adrow6_col9\" class=\"data row6 col9\" >0.154972</td>\n",
       "                        <td id=\"T_8a22cd98_b138_11ec_9e5c_7cb27d4a43adrow6_col10\" class=\"data row6 col10\" >0.548222</td>\n",
       "                        <td id=\"T_8a22cd98_b138_11ec_9e5c_7cb27d4a43adrow6_col11\" class=\"data row6 col11\" >0.557801</td>\n",
       "            </tr>\n",
       "            <tr>\n",
       "                        <th id=\"T_8a22cd98_b138_11ec_9e5c_7cb27d4a43adlevel0_row7\" class=\"row_heading level0 row7\" >tbilrate_X</th>\n",
       "                        <td id=\"T_8a22cd98_b138_11ec_9e5c_7cb27d4a43adrow7_col0\" class=\"data row7 col0\" >0.108478</td>\n",
       "                        <td id=\"T_8a22cd98_b138_11ec_9e5c_7cb27d4a43adrow7_col1\" class=\"data row7 col1\" >0.100233</td>\n",
       "                        <td id=\"T_8a22cd98_b138_11ec_9e5c_7cb27d4a43adrow7_col2\" class=\"data row7 col2\" >0.159520</td>\n",
       "                        <td id=\"T_8a22cd98_b138_11ec_9e5c_7cb27d4a43adrow7_col3\" class=\"data row7 col3\" >0.059193</td>\n",
       "                        <td id=\"T_8a22cd98_b138_11ec_9e5c_7cb27d4a43adrow7_col4\" class=\"data row7 col4\" >0.098521</td>\n",
       "                        <td id=\"T_8a22cd98_b138_11ec_9e5c_7cb27d4a43adrow7_col5\" class=\"data row7 col5\" >0.076562</td>\n",
       "                        <td id=\"T_8a22cd98_b138_11ec_9e5c_7cb27d4a43adrow7_col6\" class=\"data row7 col6\" >0.114648</td>\n",
       "                        <td id=\"T_8a22cd98_b138_11ec_9e5c_7cb27d4a43adrow7_col7\" class=\"data row7 col7\" >1.000000</td>\n",
       "                        <td id=\"T_8a22cd98_b138_11ec_9e5c_7cb27d4a43adrow7_col8\" class=\"data row7 col8\" >0.847360</td>\n",
       "                        <td id=\"T_8a22cd98_b138_11ec_9e5c_7cb27d4a43adrow7_col9\" class=\"data row7 col9\" >0.130213</td>\n",
       "                        <td id=\"T_8a22cd98_b138_11ec_9e5c_7cb27d4a43adrow7_col10\" class=\"data row7 col10\" >0.346610</td>\n",
       "                        <td id=\"T_8a22cd98_b138_11ec_9e5c_7cb27d4a43adrow7_col11\" class=\"data row7 col11\" >0.338903</td>\n",
       "            </tr>\n",
       "            <tr>\n",
       "                        <th id=\"T_8a22cd98_b138_11ec_9e5c_7cb27d4a43adlevel0_row8\" class=\"row_heading level0 row8\" >unemp_X</th>\n",
       "                        <td id=\"T_8a22cd98_b138_11ec_9e5c_7cb27d4a43adrow8_col0\" class=\"data row8 col0\" >0.148509</td>\n",
       "                        <td id=\"T_8a22cd98_b138_11ec_9e5c_7cb27d4a43adrow8_col1\" class=\"data row8 col1\" >0.138792</td>\n",
       "                        <td id=\"T_8a22cd98_b138_11ec_9e5c_7cb27d4a43adrow8_col2\" class=\"data row8 col2\" >0.406066</td>\n",
       "                        <td id=\"T_8a22cd98_b138_11ec_9e5c_7cb27d4a43adrow8_col3\" class=\"data row8 col3\" >0.124878</td>\n",
       "                        <td id=\"T_8a22cd98_b138_11ec_9e5c_7cb27d4a43adrow8_col4\" class=\"data row8 col4\" >0.124277</td>\n",
       "                        <td id=\"T_8a22cd98_b138_11ec_9e5c_7cb27d4a43adrow8_col5\" class=\"data row8 col5\" >0.182853</td>\n",
       "                        <td id=\"T_8a22cd98_b138_11ec_9e5c_7cb27d4a43adrow8_col6\" class=\"data row8 col6\" >0.291186</td>\n",
       "                        <td id=\"T_8a22cd98_b138_11ec_9e5c_7cb27d4a43adrow8_col7\" class=\"data row8 col7\" >0.162323</td>\n",
       "                        <td id=\"T_8a22cd98_b138_11ec_9e5c_7cb27d4a43adrow8_col8\" class=\"data row8 col8\" >1.000000</td>\n",
       "                        <td id=\"T_8a22cd98_b138_11ec_9e5c_7cb27d4a43adrow8_col9\" class=\"data row8 col9\" >0.161667</td>\n",
       "                        <td id=\"T_8a22cd98_b138_11ec_9e5c_7cb27d4a43adrow8_col10\" class=\"data row8 col10\" >0.073236</td>\n",
       "                        <td id=\"T_8a22cd98_b138_11ec_9e5c_7cb27d4a43adrow8_col11\" class=\"data row8 col11\" >0.533672</td>\n",
       "            </tr>\n",
       "            <tr>\n",
       "                        <th id=\"T_8a22cd98_b138_11ec_9e5c_7cb27d4a43adlevel0_row9\" class=\"row_heading level0 row9\" >pop_X</th>\n",
       "                        <td id=\"T_8a22cd98_b138_11ec_9e5c_7cb27d4a43adrow9_col0\" class=\"data row9 col0\" >0.138439</td>\n",
       "                        <td id=\"T_8a22cd98_b138_11ec_9e5c_7cb27d4a43adrow9_col1\" class=\"data row9 col1\" >0.611256</td>\n",
       "                        <td id=\"T_8a22cd98_b138_11ec_9e5c_7cb27d4a43adrow9_col2\" class=\"data row9 col2\" >0.919374</td>\n",
       "                        <td id=\"T_8a22cd98_b138_11ec_9e5c_7cb27d4a43adrow9_col3\" class=\"data row9 col3\" >0.942987</td>\n",
       "                        <td id=\"T_8a22cd98_b138_11ec_9e5c_7cb27d4a43adrow9_col4\" class=\"data row9 col4\" >0.650256</td>\n",
       "                        <td id=\"T_8a22cd98_b138_11ec_9e5c_7cb27d4a43adrow9_col5\" class=\"data row9 col5\" >0.000000</td>\n",
       "                        <td id=\"T_8a22cd98_b138_11ec_9e5c_7cb27d4a43adrow9_col6\" class=\"data row9 col6\" >0.000000</td>\n",
       "                        <td id=\"T_8a22cd98_b138_11ec_9e5c_7cb27d4a43adrow9_col7\" class=\"data row9 col7\" >0.000102</td>\n",
       "                        <td id=\"T_8a22cd98_b138_11ec_9e5c_7cb27d4a43adrow9_col8\" class=\"data row9 col8\" >0.068981</td>\n",
       "                        <td id=\"T_8a22cd98_b138_11ec_9e5c_7cb27d4a43adrow9_col9\" class=\"data row9 col9\" >0.999998</td>\n",
       "                        <td id=\"T_8a22cd98_b138_11ec_9e5c_7cb27d4a43adrow9_col10\" class=\"data row9 col10\" >0.001830</td>\n",
       "                        <td id=\"T_8a22cd98_b138_11ec_9e5c_7cb27d4a43adrow9_col11\" class=\"data row9 col11\" >0.811830</td>\n",
       "            </tr>\n",
       "            <tr>\n",
       "                        <th id=\"T_8a22cd98_b138_11ec_9e5c_7cb27d4a43adlevel0_row10\" class=\"row_heading level0 row10\" >infl_X</th>\n",
       "                        <td id=\"T_8a22cd98_b138_11ec_9e5c_7cb27d4a43adrow10_col0\" class=\"data row10 col0\" >0.134805</td>\n",
       "                        <td id=\"T_8a22cd98_b138_11ec_9e5c_7cb27d4a43adrow10_col1\" class=\"data row10 col1\" >0.132840</td>\n",
       "                        <td id=\"T_8a22cd98_b138_11ec_9e5c_7cb27d4a43adrow10_col2\" class=\"data row10 col2\" >0.120727</td>\n",
       "                        <td id=\"T_8a22cd98_b138_11ec_9e5c_7cb27d4a43adrow10_col3\" class=\"data row10 col3\" >0.025755</td>\n",
       "                        <td id=\"T_8a22cd98_b138_11ec_9e5c_7cb27d4a43adrow10_col4\" class=\"data row10 col4\" >0.150456</td>\n",
       "                        <td id=\"T_8a22cd98_b138_11ec_9e5c_7cb27d4a43adrow10_col5\" class=\"data row10 col5\" >0.055994</td>\n",
       "                        <td id=\"T_8a22cd98_b138_11ec_9e5c_7cb27d4a43adrow10_col6\" class=\"data row10 col6\" >0.056811</td>\n",
       "                        <td id=\"T_8a22cd98_b138_11ec_9e5c_7cb27d4a43adrow10_col7\" class=\"data row10 col7\" >0.000406</td>\n",
       "                        <td id=\"T_8a22cd98_b138_11ec_9e5c_7cb27d4a43adrow10_col8\" class=\"data row10 col8\" >0.679588</td>\n",
       "                        <td id=\"T_8a22cd98_b138_11ec_9e5c_7cb27d4a43adrow10_col9\" class=\"data row10 col9\" >0.189548</td>\n",
       "                        <td id=\"T_8a22cd98_b138_11ec_9e5c_7cb27d4a43adrow10_col10\" class=\"data row10 col10\" >1.000000</td>\n",
       "                        <td id=\"T_8a22cd98_b138_11ec_9e5c_7cb27d4a43adrow10_col11\" class=\"data row10 col11\" >0.000500</td>\n",
       "            </tr>\n",
       "            <tr>\n",
       "                        <th id=\"T_8a22cd98_b138_11ec_9e5c_7cb27d4a43adlevel0_row11\" class=\"row_heading level0 row11\" >realint_X</th>\n",
       "                        <td id=\"T_8a22cd98_b138_11ec_9e5c_7cb27d4a43adrow11_col0\" class=\"data row11 col0\" >0.562491</td>\n",
       "                        <td id=\"T_8a22cd98_b138_11ec_9e5c_7cb27d4a43adrow11_col1\" class=\"data row11 col1\" >0.485044</td>\n",
       "                        <td id=\"T_8a22cd98_b138_11ec_9e5c_7cb27d4a43adrow11_col2\" class=\"data row11 col2\" >0.632003</td>\n",
       "                        <td id=\"T_8a22cd98_b138_11ec_9e5c_7cb27d4a43adrow11_col3\" class=\"data row11 col3\" >0.914572</td>\n",
       "                        <td id=\"T_8a22cd98_b138_11ec_9e5c_7cb27d4a43adrow11_col4\" class=\"data row11 col4\" >0.536806</td>\n",
       "                        <td id=\"T_8a22cd98_b138_11ec_9e5c_7cb27d4a43adrow11_col5\" class=\"data row11 col5\" >0.879994</td>\n",
       "                        <td id=\"T_8a22cd98_b138_11ec_9e5c_7cb27d4a43adrow11_col6\" class=\"data row11 col6\" >0.707319</td>\n",
       "                        <td id=\"T_8a22cd98_b138_11ec_9e5c_7cb27d4a43adrow11_col7\" class=\"data row11 col7\" >0.001116</td>\n",
       "                        <td id=\"T_8a22cd98_b138_11ec_9e5c_7cb27d4a43adrow11_col8\" class=\"data row11 col8\" >0.199759</td>\n",
       "                        <td id=\"T_8a22cd98_b138_11ec_9e5c_7cb27d4a43adrow11_col9\" class=\"data row11 col9\" >0.707063</td>\n",
       "                        <td id=\"T_8a22cd98_b138_11ec_9e5c_7cb27d4a43adrow11_col10\" class=\"data row11 col10\" >0.001231</td>\n",
       "                        <td id=\"T_8a22cd98_b138_11ec_9e5c_7cb27d4a43adrow11_col11\" class=\"data row11 col11\" >1.000000</td>\n",
       "            </tr>\n",
       "    </tbody></table>"
      ],
      "text/plain": [
       "<pandas.io.formats.style.Styler at 0x29d22f91d30>"
      ]
     },
     "execution_count": 1568,
     "metadata": {},
     "output_type": "execute_result"
    }
   ],
   "source": [
    "d.style.applymap(color_p_red)"
   ]
  },
  {
   "cell_type": "code",
   "execution_count": 1569,
   "id": "ce5c6afe",
   "metadata": {
    "ExecuteTime": {
     "end_time": "2022-03-31T21:21:33.579788Z",
     "start_time": "2022-03-31T21:21:33.562324Z"
    }
   },
   "outputs": [],
   "source": [
    "# Selecting Real interest Rate (Last Row) for prediction"
   ]
  },
  {
   "cell_type": "code",
   "execution_count": 1594,
   "id": "0675f998",
   "metadata": {
    "ExecuteTime": {
     "end_time": "2022-03-31T21:22:21.022957Z",
     "start_time": "2022-03-31T21:22:21.012498Z"
    }
   },
   "outputs": [],
   "source": [
    "fair_data=data[d[d<0.05].iloc[-1].dropna().index]"
   ]
  },
  {
   "cell_type": "code",
   "execution_count": 1595,
   "id": "d3b209ab",
   "metadata": {
    "ExecuteTime": {
     "end_time": "2022-03-31T21:22:21.494914Z",
     "start_time": "2022-03-31T21:22:21.488857Z"
    }
   },
   "outputs": [],
   "source": [
    "# Cointegration Test"
   ]
  },
  {
   "cell_type": "code",
   "execution_count": 1596,
   "id": "99f6d6c0",
   "metadata": {
    "ExecuteTime": {
     "end_time": "2022-03-31T21:22:21.959594Z",
     "start_time": "2022-03-31T21:22:21.944629Z"
    }
   },
   "outputs": [],
   "source": [
    "l=coint_johansen(fair_data,det_order=1, k_ar_diff=5)"
   ]
  },
  {
   "cell_type": "code",
   "execution_count": 1597,
   "id": "05567968",
   "metadata": {
    "ExecuteTime": {
     "end_time": "2022-03-31T21:22:22.435779Z",
     "start_time": "2022-03-31T21:22:22.421734Z"
    }
   },
   "outputs": [],
   "source": [
    "j=pd.concat([pd.DataFrame(l.lr1),pd.DataFrame(l.cvt).iloc[:,1]],axis=1)"
   ]
  },
  {
   "cell_type": "code",
   "execution_count": 1598,
   "id": "632f71a1",
   "metadata": {
    "ExecuteTime": {
     "end_time": "2022-03-31T21:22:22.448124Z",
     "start_time": "2022-03-31T21:22:22.438397Z"
    }
   },
   "outputs": [],
   "source": [
    "j.columns=['Test Statistic', 'C(95%)']\n",
    "j['Result']=np.where(j.iloc[:,0]>j.iloc[:,1],'True','False')"
   ]
  },
  {
   "cell_type": "code",
   "execution_count": 1599,
   "id": "c61b6bd8",
   "metadata": {
    "ExecuteTime": {
     "end_time": "2022-03-31T21:22:22.467719Z",
     "start_time": "2022-03-31T21:22:22.451543Z"
    }
   },
   "outputs": [],
   "source": [
    "j.index=fair_data.columns"
   ]
  },
  {
   "cell_type": "markdown",
   "id": "90e652b8",
   "metadata": {},
   "source": [
    "## Co-integration Test"
   ]
  },
  {
   "cell_type": "code",
   "execution_count": 1600,
   "id": "518b4e92",
   "metadata": {
    "ExecuteTime": {
     "end_time": "2022-03-31T21:22:22.492769Z",
     "start_time": "2022-03-31T21:22:22.475793Z"
    }
   },
   "outputs": [
    {
     "data": {
      "text/html": [
       "<div>\n",
       "<style scoped>\n",
       "    .dataframe tbody tr th:only-of-type {\n",
       "        vertical-align: middle;\n",
       "    }\n",
       "\n",
       "    .dataframe tbody tr th {\n",
       "        vertical-align: top;\n",
       "    }\n",
       "\n",
       "    .dataframe thead th {\n",
       "        text-align: right;\n",
       "    }\n",
       "</style>\n",
       "<table border=\"1\" class=\"dataframe\">\n",
       "  <thead>\n",
       "    <tr style=\"text-align: right;\">\n",
       "      <th></th>\n",
       "      <th>Test Statistic</th>\n",
       "      <th>C(95%)</th>\n",
       "      <th>Result</th>\n",
       "    </tr>\n",
       "  </thead>\n",
       "  <tbody>\n",
       "    <tr>\n",
       "      <th>tbilrate</th>\n",
       "      <td>24.865326</td>\n",
       "      <td>18.3985</td>\n",
       "      <td>True</td>\n",
       "    </tr>\n",
       "    <tr>\n",
       "      <th>infl</th>\n",
       "      <td>11.383613</td>\n",
       "      <td>3.8415</td>\n",
       "      <td>True</td>\n",
       "    </tr>\n",
       "  </tbody>\n",
       "</table>\n",
       "</div>"
      ],
      "text/plain": [
       "          Test Statistic   C(95%) Result\n",
       "tbilrate       24.865326  18.3985   True\n",
       "infl           11.383613   3.8415   True"
      ]
     },
     "execution_count": 1600,
     "metadata": {},
     "output_type": "execute_result"
    }
   ],
   "source": [
    "j"
   ]
  },
  {
   "cell_type": "code",
   "execution_count": 1601,
   "id": "76e61e06",
   "metadata": {
    "ExecuteTime": {
     "end_time": "2022-03-31T21:22:22.519811Z",
     "start_time": "2022-03-31T21:22:22.510057Z"
    }
   },
   "outputs": [],
   "source": [
    "# First Difference to make series stationary # DickerFuller Test"
   ]
  },
  {
   "cell_type": "code",
   "execution_count": 1602,
   "id": "a9fd6524",
   "metadata": {
    "ExecuteTime": {
     "end_time": "2022-03-31T21:22:22.544417Z",
     "start_time": "2022-03-31T21:22:22.539515Z"
    }
   },
   "outputs": [],
   "source": [
    "dif=fair_data.diff().dropna()\n",
    "#dif=dif.diff().dropna()"
   ]
  },
  {
   "cell_type": "code",
   "execution_count": 1603,
   "id": "3fef98f6",
   "metadata": {
    "ExecuteTime": {
     "end_time": "2022-03-31T21:22:22.580131Z",
     "start_time": "2022-03-31T21:22:22.568855Z"
    }
   },
   "outputs": [],
   "source": [
    "# Testing and Training"
   ]
  },
  {
   "cell_type": "code",
   "execution_count": 1604,
   "id": "9b35ab23",
   "metadata": {
    "ExecuteTime": {
     "end_time": "2022-03-31T21:22:22.608889Z",
     "start_time": "2022-03-31T21:22:22.597546Z"
    }
   },
   "outputs": [],
   "source": [
    "lag=5 # AIC value"
   ]
  },
  {
   "cell_type": "code",
   "execution_count": 1605,
   "id": "cb1497ba",
   "metadata": {
    "ExecuteTime": {
     "end_time": "2022-03-31T21:22:22.639072Z",
     "start_time": "2022-03-31T21:22:22.627035Z"
    }
   },
   "outputs": [],
   "source": [
    "train=dif.iloc[:-lag]\n",
    "test=dif.iloc[-lag:]"
   ]
  },
  {
   "cell_type": "code",
   "execution_count": 1606,
   "id": "e19e1802",
   "metadata": {
    "ExecuteTime": {
     "end_time": "2022-03-31T21:22:22.674443Z",
     "start_time": "2022-03-31T21:22:22.656028Z"
    }
   },
   "outputs": [],
   "source": [
    "model=VAR(train)"
   ]
  },
  {
   "cell_type": "code",
   "execution_count": 1607,
   "id": "d1dbee22",
   "metadata": {
    "ExecuteTime": {
     "end_time": "2022-03-31T21:22:22.700736Z",
     "start_time": "2022-03-31T21:22:22.685144Z"
    }
   },
   "outputs": [],
   "source": [
    "result=model.fit(lag)"
   ]
  },
  {
   "cell_type": "markdown",
   "id": "38cb0746",
   "metadata": {},
   "source": [
    "## VAR summary"
   ]
  },
  {
   "cell_type": "code",
   "execution_count": 1608,
   "id": "fdce8a0c",
   "metadata": {
    "ExecuteTime": {
     "end_time": "2022-03-31T21:22:24.141492Z",
     "start_time": "2022-03-31T21:22:24.093109Z"
    }
   },
   "outputs": [
    {
     "data": {
      "text/plain": [
       "  Summary of Regression Results   \n",
       "==================================\n",
       "Model:                         VAR\n",
       "Method:                        OLS\n",
       "Date:           Thu, 31, Mar, 2022\n",
       "Time:                     23:22:24\n",
       "--------------------------------------------------------------------\n",
       "No. of Equations:         2.00000    BIC:                    1.38430\n",
       "Nobs:                     192.000    HQIC:                   1.16221\n",
       "Log likelihood:          -619.932    FPE:                    2.74916\n",
       "AIC:                      1.01104    Det(Omega_mle):         2.45929\n",
       "--------------------------------------------------------------------\n",
       "Results for equation tbilrate\n",
       "==============================================================================\n",
       "                 coefficient       std. error           t-stat            prob\n",
       "------------------------------------------------------------------------------\n",
       "const              -0.006803         0.059728           -0.114           0.909\n",
       "L1.tbilrate         0.152845         0.076228            2.005           0.045\n",
       "L1.infl            -0.026251         0.032972           -0.796           0.426\n",
       "L2.tbilrate        -0.239296         0.079084           -3.026           0.002\n",
       "L2.infl             0.040742         0.041257            0.988           0.323\n",
       "L3.tbilrate         0.215095         0.078066            2.755           0.006\n",
       "L3.infl             0.085805         0.043665            1.965           0.049\n",
       "L4.tbilrate        -0.160241         0.078350           -2.045           0.041\n",
       "L4.infl             0.043899         0.041927            1.047           0.295\n",
       "L5.tbilrate         0.212310         0.077496            2.740           0.006\n",
       "L5.infl            -0.042736         0.033482           -1.276           0.202\n",
       "==============================================================================\n",
       "\n",
       "Results for equation infl\n",
       "==============================================================================\n",
       "                 coefficient       std. error           t-stat            prob\n",
       "------------------------------------------------------------------------------\n",
       "const               0.065246         0.143564            0.454           0.649\n",
       "L1.tbilrate         0.719994         0.183223            3.930           0.000\n",
       "L1.infl            -0.770086         0.079253           -9.717           0.000\n",
       "L2.tbilrate        -0.154742         0.190090           -0.814           0.416\n",
       "L2.infl            -0.358191         0.099168           -3.612           0.000\n",
       "L3.tbilrate         0.036002         0.187643            0.192           0.848\n",
       "L3.infl             0.032216         0.104954            0.307           0.759\n",
       "L4.tbilrate        -0.211595         0.188325           -1.124           0.261\n",
       "L4.infl            -0.003666         0.100777           -0.036           0.971\n",
       "L5.tbilrate         0.045746         0.186271            0.246           0.806\n",
       "L5.infl            -0.030932         0.080479           -0.384           0.701\n",
       "==============================================================================\n",
       "\n",
       "Correlation matrix of residuals\n",
       "            tbilrate      infl\n",
       "tbilrate    1.000000  0.299612\n",
       "infl        0.299612  1.000000\n",
       "\n"
      ]
     },
     "execution_count": 1608,
     "metadata": {},
     "output_type": "execute_result"
    }
   ],
   "source": [
    "result.summary()"
   ]
  },
  {
   "cell_type": "code",
   "execution_count": 1609,
   "id": "819d1ca7",
   "metadata": {
    "ExecuteTime": {
     "end_time": "2022-03-31T21:22:27.868132Z",
     "start_time": "2022-03-31T21:22:27.849827Z"
    }
   },
   "outputs": [
    {
     "name": "stdout",
     "output_type": "stream",
     "text": [
      "5\n"
     ]
    }
   ],
   "source": [
    "lag_order = result.k_ar\n",
    "print(lag_order)  \n"
   ]
  },
  {
   "cell_type": "code",
   "execution_count": 1610,
   "id": "6de3e15c",
   "metadata": {
    "ExecuteTime": {
     "end_time": "2022-03-31T21:22:28.687508Z",
     "start_time": "2022-03-31T21:22:28.675432Z"
    }
   },
   "outputs": [
    {
     "data": {
      "text/plain": [
       "array([[-0.23, -1.83],\n",
       "       [-0.72,  0.7 ],\n",
       "       [-0.99,  2.93],\n",
       "       [-1.45, -3.56],\n",
       "       [ 0.18,  5.71]])"
      ]
     },
     "execution_count": 1610,
     "metadata": {},
     "output_type": "execute_result"
    }
   ],
   "source": [
    "# Input data for forecasting\n",
    "forecast_input = train.values[-lag_order:]\n",
    "forecast_input"
   ]
  },
  {
   "cell_type": "code",
   "execution_count": 1611,
   "id": "84d6423a",
   "metadata": {
    "ExecuteTime": {
     "end_time": "2022-03-31T21:22:29.039465Z",
     "start_time": "2022-03-31T21:22:29.033638Z"
    }
   },
   "outputs": [],
   "source": [
    "fc = result.forecast(y=forecast_input, steps=lag)\n"
   ]
  },
  {
   "cell_type": "code",
   "execution_count": 1612,
   "id": "c894e3f6",
   "metadata": {
    "ExecuteTime": {
     "end_time": "2022-03-31T21:22:29.420269Z",
     "start_time": "2022-03-31T21:22:29.397088Z"
    }
   },
   "outputs": [],
   "source": [
    "fored=pd.DataFrame(fc,index=test.index,columns=train.columns+'_1d')"
   ]
  },
  {
   "cell_type": "code",
   "execution_count": 1613,
   "id": "ecde28e7",
   "metadata": {
    "ExecuteTime": {
     "end_time": "2022-03-31T21:22:30.018551Z",
     "start_time": "2022-03-31T21:22:29.998764Z"
    }
   },
   "outputs": [],
   "source": [
    "def invert_transformation(df_train, df_forecast, second_diff=False):\n",
    "    \"\"\"Revert back the differencing to get the forecast to original scale.\"\"\"\n",
    "    df_fc = df_forecast.copy()\n",
    "    columns = df_train.columns\n",
    "    for col in columns:        \n",
    "        # Roll back 2nd Diff\n",
    "        if second_diff:\n",
    "            df_fc[str(col)+'_1d'] = (df_train[col].iloc[-1]-df_train[col].iloc[-2]) + df_fc[str(col)+'_2d'].cumsum()\n",
    "        # Roll back 1st Diff\n",
    "        df_fc[str(col)+'_forecast'] = df_train[col].iloc[-1] + df_fc[str(col)+'_1d'].cumsum()\n",
    "    return df_fc"
   ]
  },
  {
   "cell_type": "code",
   "execution_count": 1614,
   "id": "ce5ae8cc",
   "metadata": {
    "ExecuteTime": {
     "end_time": "2022-03-31T21:22:30.635341Z",
     "start_time": "2022-03-31T21:22:30.622251Z"
    }
   },
   "outputs": [],
   "source": [
    "df_results = invert_transformation(train, fored, second_diff=False)"
   ]
  },
  {
   "cell_type": "code",
   "execution_count": 1615,
   "id": "94f94c5a",
   "metadata": {
    "ExecuteTime": {
     "end_time": "2022-03-31T21:22:31.213186Z",
     "start_time": "2022-03-31T21:22:31.185207Z"
    }
   },
   "outputs": [
    {
     "data": {
      "text/html": [
       "<div>\n",
       "<style scoped>\n",
       "    .dataframe tbody tr th:only-of-type {\n",
       "        vertical-align: middle;\n",
       "    }\n",
       "\n",
       "    .dataframe tbody tr th {\n",
       "        vertical-align: top;\n",
       "    }\n",
       "\n",
       "    .dataframe thead th {\n",
       "        text-align: right;\n",
       "    }\n",
       "</style>\n",
       "<table border=\"1\" class=\"dataframe\">\n",
       "  <thead>\n",
       "    <tr style=\"text-align: right;\">\n",
       "      <th></th>\n",
       "      <th>tbilrate_1d</th>\n",
       "      <th>infl_1d</th>\n",
       "      <th>tbilrate_forecast</th>\n",
       "      <th>infl_forecast</th>\n",
       "    </tr>\n",
       "    <tr>\n",
       "      <th>0</th>\n",
       "      <th></th>\n",
       "      <th></th>\n",
       "      <th></th>\n",
       "      <th></th>\n",
       "    </tr>\n",
       "  </thead>\n",
       "  <tbody>\n",
       "    <tr>\n",
       "      <th>2008-09-30</th>\n",
       "      <td>0.286698</td>\n",
       "      <td>-2.448195</td>\n",
       "      <td>0.466698</td>\n",
       "      <td>3.261805</td>\n",
       "    </tr>\n",
       "    <tr>\n",
       "      <th>2008-12-31</th>\n",
       "      <td>-0.222019</td>\n",
       "      <td>0.061122</td>\n",
       "      <td>0.244679</td>\n",
       "      <td>3.322927</td>\n",
       "    </tr>\n",
       "    <tr>\n",
       "      <th>2009-03-31</th>\n",
       "      <td>0.058636</td>\n",
       "      <td>1.065261</td>\n",
       "      <td>0.303315</td>\n",
       "      <td>4.388188</td>\n",
       "    </tr>\n",
       "    <tr>\n",
       "      <th>2009-06-30</th>\n",
       "      <td>-0.052476</td>\n",
       "      <td>-0.784200</td>\n",
       "      <td>0.250839</td>\n",
       "      <td>3.603989</td>\n",
       "    </tr>\n",
       "    <tr>\n",
       "      <th>2009-09-30</th>\n",
       "      <td>-0.366598</td>\n",
       "      <td>0.014626</td>\n",
       "      <td>-0.115759</td>\n",
       "      <td>3.618615</td>\n",
       "    </tr>\n",
       "  </tbody>\n",
       "</table>\n",
       "</div>"
      ],
      "text/plain": [
       "            tbilrate_1d   infl_1d  tbilrate_forecast  infl_forecast\n",
       "0                                                                  \n",
       "2008-09-30     0.286698 -2.448195           0.466698       3.261805\n",
       "2008-12-31    -0.222019  0.061122           0.244679       3.322927\n",
       "2009-03-31     0.058636  1.065261           0.303315       4.388188\n",
       "2009-06-30    -0.052476 -0.784200           0.250839       3.603989\n",
       "2009-09-30    -0.366598  0.014626          -0.115759       3.618615"
      ]
     },
     "execution_count": 1615,
     "metadata": {},
     "output_type": "execute_result"
    }
   ],
   "source": [
    "df_results"
   ]
  },
  {
   "cell_type": "code",
   "execution_count": 1616,
   "id": "c38bdbdb",
   "metadata": {
    "ExecuteTime": {
     "end_time": "2022-03-31T21:22:31.763160Z",
     "start_time": "2022-03-31T21:22:31.748935Z"
    }
   },
   "outputs": [
    {
     "data": {
      "text/html": [
       "<div>\n",
       "<style scoped>\n",
       "    .dataframe tbody tr th:only-of-type {\n",
       "        vertical-align: middle;\n",
       "    }\n",
       "\n",
       "    .dataframe tbody tr th {\n",
       "        vertical-align: top;\n",
       "    }\n",
       "\n",
       "    .dataframe thead th {\n",
       "        text-align: right;\n",
       "    }\n",
       "</style>\n",
       "<table border=\"1\" class=\"dataframe\">\n",
       "  <thead>\n",
       "    <tr style=\"text-align: right;\">\n",
       "      <th></th>\n",
       "      <th>tbilrate</th>\n",
       "      <th>infl</th>\n",
       "    </tr>\n",
       "    <tr>\n",
       "      <th>0</th>\n",
       "      <th></th>\n",
       "      <th></th>\n",
       "    </tr>\n",
       "  </thead>\n",
       "  <tbody>\n",
       "    <tr>\n",
       "      <th>2008-09-30</th>\n",
       "      <td>-0.57</td>\n",
       "      <td>-11.69</td>\n",
       "    </tr>\n",
       "    <tr>\n",
       "      <th>2008-12-31</th>\n",
       "      <td>-1.05</td>\n",
       "      <td>-5.63</td>\n",
       "    </tr>\n",
       "    <tr>\n",
       "      <th>2009-03-31</th>\n",
       "      <td>0.10</td>\n",
       "      <td>9.73</td>\n",
       "    </tr>\n",
       "    <tr>\n",
       "      <th>2009-06-30</th>\n",
       "      <td>-0.04</td>\n",
       "      <td>2.43</td>\n",
       "    </tr>\n",
       "    <tr>\n",
       "      <th>2009-09-30</th>\n",
       "      <td>-0.06</td>\n",
       "      <td>0.19</td>\n",
       "    </tr>\n",
       "  </tbody>\n",
       "</table>\n",
       "</div>"
      ],
      "text/plain": [
       "            tbilrate   infl\n",
       "0                          \n",
       "2008-09-30     -0.57 -11.69\n",
       "2008-12-31     -1.05  -5.63\n",
       "2009-03-31      0.10   9.73\n",
       "2009-06-30     -0.04   2.43\n",
       "2009-09-30     -0.06   0.19"
      ]
     },
     "execution_count": 1616,
     "metadata": {},
     "output_type": "execute_result"
    }
   ],
   "source": [
    "test"
   ]
  },
  {
   "cell_type": "code",
   "execution_count": 1619,
   "id": "b3518398",
   "metadata": {
    "ExecuteTime": {
     "end_time": "2022-03-31T21:49:42.235242Z",
     "start_time": "2022-03-31T21:49:42.217243Z"
    }
   },
   "outputs": [],
   "source": [
    "h=pd.concat([test.iloc[:,0],df_results.iloc[:,2]],axis=1)"
   ]
  },
  {
   "cell_type": "code",
   "execution_count": 1624,
   "id": "234cec44",
   "metadata": {
    "ExecuteTime": {
     "end_time": "2022-03-31T21:50:04.620368Z",
     "start_time": "2022-03-31T21:50:04.480380Z"
    }
   },
   "outputs": [
    {
     "data": {
      "text/plain": [
       "<matplotlib.axes._subplots.AxesSubplot at 0x29d2381ae50>"
      ]
     },
     "execution_count": 1624,
     "metadata": {},
     "output_type": "execute_result"
    },
    {
     "data": {
      "image/png": "[encoded data removed]",
      "text/plain": [
       "<Figure size 432x288 with 1 Axes>"
      ]
     },
     "metadata": {
      "needs_background": "light"
     },
     "output_type": "display_data"
    }
   ],
   "source": [
    "h.iloc[2:].plot()"
   ]
  },
  {
   "cell_type": "code",
   "execution_count": 1618,
   "id": "8496390c",
   "metadata": {
    "ExecuteTime": {
     "end_time": "2022-03-31T21:22:33.386834Z",
     "start_time": "2022-03-31T21:22:32.772007Z"
    }
   },
   "outputs": [
    {
     "data": {
      "image/png": "[encoded data removed]",
      "text/plain": [
       "<Figure size 720x720 with 2 Axes>"
      ]
     },
     "execution_count": 1618,
     "metadata": {},
     "output_type": "execute_result"
    },
    {
     "data": {
      "image/png": "[encoded data removed]",
      "text/plain": [
       "<Figure size 720x720 with 2 Axes>"
      ]
     },
     "metadata": {
      "needs_background": "light"
     },
     "output_type": "display_data"
    }
   ],
   "source": [
    "result.plot_forecast(10)\n"
   ]
  },
  {
   "cell_type": "code",
   "execution_count": null,
   "id": "24b2e1bf",
   "metadata": {},
   "outputs": [],
   "source": []
  },
  {
   "cell_type": "code",
   "execution_count": null,
   "id": "bbe19927",
   "metadata": {},
   "outputs": [],
   "source": []
  }
 ],
 "metadata": {
  "kernelspec": {
   "display_name": "Python 3",
   "language": "python",
   "name": "python3"
  },
  "language_info": {
   "codemirror_mode": {
    "name": "ipython",
    "version": 3
   },
   "file_extension": ".py",
   "mimetype": "text/x-python",
   "name": "python",
   "nbconvert_exporter": "python",
   "pygments_lexer": "ipython3",
   "version": "3.8.3"
  },
  "toc": {
   "base_numbering": 1,
   "nav_menu": {},
   "number_sections": true,
   "sideBar": true,
   "skip_h1_title": false,
   "title_cell": "Table of Contents",
   "title_sidebar": "Contents",
   "toc_cell": false,
   "toc_position": {},
   "toc_section_display": true,
   "toc_window_display": false
  },
  "varInspector": {
   "cols": {
    "lenName": 16,
    "lenType": 16,
    "lenVar": 40
   },
   "kernels_config": {
    "python": {
     "delete_cmd_postfix": "",
     "delete_cmd_prefix": "del ",
     "library": "var_list.py",
     "varRefreshCmd": "print(var_dic_list())"
    },
    "r": {
     "delete_cmd_postfix": ") ",
     "delete_cmd_prefix": "rm(",
     "library": "var_list.r",
     "varRefreshCmd": "cat(var_dic_list()) "
    }
   },
   "types_to_exclude": [
    "module",
    "function",
    "builtin_function_or_method",
    "instance",
    "_Feature"
   ],
   "window_display": false
  }
 },
 "nbformat": 4,
 "nbformat_minor": 5
}
