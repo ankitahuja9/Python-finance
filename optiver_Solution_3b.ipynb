{
 "cells": [
  {
   "cell_type": "code",
   "execution_count": 2,
   "id": "3a11d632",
   "metadata": {
    "ExecuteTime": {
     "end_time": "2022-01-22T16:12:52.199886Z",
     "start_time": "2022-01-22T16:12:52.181795Z"
    }
   },
   "outputs": [],
   "source": [
    "import pandas as pd\n",
    "import numpy as np\n",
    "%matplotlib inline\n",
    "import matplotlib.pyplot as plt\n",
    "import seaborn as ss\n",
    "import random"
   ]
  },
  {
   "cell_type": "code",
   "execution_count": 3,
   "id": "2d689352",
   "metadata": {
    "ExecuteTime": {
     "end_time": "2022-01-22T16:12:52.463867Z",
     "start_time": "2022-01-22T16:12:52.457835Z"
    }
   },
   "outputs": [],
   "source": [
    "def direction(a): # function determing the direction of the movement and then adding the distance also.\n",
    "    if a == 1:  # North\n",
    "        cord = pd.DataFrame([[0, 10, 10]], columns=list('XYD'))\n",
    "    elif a == 2:  # South\n",
    "        cord = pd.DataFrame([[0, -10, 10]], columns=list('XYD'))\n",
    "    elif a == 3:  # East\n",
    "        cord = pd.DataFrame([[10, 0, 10]], columns=list('XYD'))\n",
    "    elif a == 4:  # West\n",
    "        cord = pd.DataFrame([[-10, 0, 10]], columns=list('XYD'))\n",
    "    else:\n",
    "        raise ValueError(\"Enter Number between 1-4\")\n",
    "    return cord"
   ]
  },
  {
   "cell_type": "code",
   "execution_count": 4,
   "id": "0f357de9",
   "metadata": {
    "ExecuteTime": {
     "end_time": "2022-01-22T16:12:52.791586Z",
     "start_time": "2022-01-22T16:12:52.777557Z"
    }
   },
   "outputs": [],
   "source": [
    "def function(x,y):  # Need co-ordinates that gives value more than equal to 1\n",
    "    return ((x-2.5)/30)**2+((y-2.5)/40)**2"
   ]
  },
  {
   "cell_type": "code",
   "execution_count": 5,
   "id": "5bc4cfb3",
   "metadata": {
    "ExecuteTime": {
     "end_time": "2022-01-22T16:12:53.154812Z",
     "start_time": "2022-01-22T16:12:53.145817Z"
    }
   },
   "outputs": [],
   "source": [
    "initial_cordinate = pd.DataFrame([[0, 0, 0]], columns=list('XYD'))"
   ]
  },
  {
   "cell_type": "code",
   "execution_count": 6,
   "id": "c7b80bb3",
   "metadata": {
    "ExecuteTime": {
     "end_time": "2022-01-22T16:12:53.853620Z",
     "start_time": "2022-01-22T16:12:53.847656Z"
    }
   },
   "outputs": [],
   "source": [
    "def time():\n",
    "    ap = pd.DataFrame()\n",
    "    cordinate = initial_cordinate\n",
    "    for i in range(1, 500):\n",
    "        number = random.randint(1, 4)\n",
    "        cordinate = cordinate+direction(number) # Now, i am moving in random direction\n",
    "        data = cordinate\n",
    "        k = data.iloc[:, :2]\n",
    "        x=k.iloc[:,0][0]\n",
    "        y=k.iloc[:,1][0]\n",
    "        j = function(x,y) \n",
    "        if j >=1: # testing the new co-ordinate the value must be more than equal to 1 as i have to cross the boundary\n",
    "            cordinate = initial_cordinate\n",
    "            ap = ap.append(data)\n",
    "        else:\n",
    "            pass\n",
    "    return ap"
   ]
  },
  {
   "cell_type": "code",
   "execution_count": 7,
   "id": "58d7eea0",
   "metadata": {
    "ExecuteTime": {
     "end_time": "2022-01-22T16:12:54.656098Z",
     "start_time": "2022-01-22T16:12:54.646098Z"
    }
   },
   "outputs": [],
   "source": [
    "t = pd.DataFrame()"
   ]
  },
  {
   "cell_type": "code",
   "execution_count": 8,
   "id": "432a40b0",
   "metadata": {
    "ExecuteTime": {
     "end_time": "2022-01-22T16:20:52.069985Z",
     "start_time": "2022-01-22T16:12:55.267053Z"
    }
   },
   "outputs": [],
   "source": [
    "for a in range(0, 500): # Doing the iteration of calculating the time again to increase the accuracy\n",
    "    y = time()\n",
    "    if y.empty:\n",
    "        pass\n",
    "    else:\n",
    "        y = y.iloc[:, 2]\n",
    "        y = pd.Series(y.mean())\n",
    "        t = t.append(y/10, ignore_index=True)\n",
    "        a = a+1"
   ]
  },
  {
   "cell_type": "code",
   "execution_count": 9,
   "id": "a3928ddb",
   "metadata": {
    "ExecuteTime": {
     "end_time": "2022-01-22T16:21:40.082809Z",
     "start_time": "2022-01-22T16:21:40.077805Z"
    }
   },
   "outputs": [],
   "source": [
    "t.columns = ['Time'] "
   ]
  },
  {
   "cell_type": "code",
   "execution_count": 10,
   "id": "19c9852f",
   "metadata": {
    "ExecuteTime": {
     "end_time": "2022-01-22T16:21:40.783141Z",
     "start_time": "2022-01-22T16:21:40.603516Z"
    },
    "scrolled": true
   },
   "outputs": [
    {
     "data": {
      "text/plain": [
       "<matplotlib.axes._subplots.AxesSubplot at 0x1fb23d43040>"
      ]
     },
     "execution_count": 10,
     "metadata": {},
     "output_type": "execute_result"
    },
    {
     "data": {
      "image/png": "[encoded data removed]",
      "text/plain": [
       "<Figure size 432x288 with 1 Axes>"
      ]
     },
     "metadata": {
      "needs_background": "light"
     },
     "output_type": "display_data"
    }
   ],
   "source": [
    "t.plot.hist()# Distribution of the Time variable"
   ]
  },
  {
   "cell_type": "code",
   "execution_count": 11,
   "id": "2b393a47",
   "metadata": {
    "ExecuteTime": {
     "end_time": "2022-01-22T16:21:42.572851Z",
     "start_time": "2022-01-22T16:21:42.554807Z"
    }
   },
   "outputs": [
    {
     "data": {
      "text/plain": [
       "Time    14.015647\n",
       "dtype: float64"
      ]
     },
     "execution_count": 11,
     "metadata": {},
     "output_type": "execute_result"
    }
   ],
   "source": [
    "t.mean()  #Answer: Average time"
   ]
  },
  {
   "cell_type": "code",
   "execution_count": 12,
   "id": "b7fb2dda",
   "metadata": {
    "ExecuteTime": {
     "end_time": "2022-01-22T16:21:47.816994Z",
     "start_time": "2022-01-22T16:21:47.811000Z"
    }
   },
   "outputs": [
    {
     "data": {
      "text/plain": [
       "Time    1.627536\n",
       "dtype: float64"
      ]
     },
     "execution_count": 12,
     "metadata": {},
     "output_type": "execute_result"
    }
   ],
   "source": [
    "t.std()   #Standard Deviation"
   ]
  },
  {
   "cell_type": "code",
   "execution_count": 13,
   "id": "cf54647d",
   "metadata": {
    "ExecuteTime": {
     "end_time": "2022-01-22T16:21:48.727262Z",
     "start_time": "2022-01-22T16:21:48.707266Z"
    }
   },
   "outputs": [],
   "source": [
    "CI_u, CI_l = (t.mean()+1.96*((t.std())/np.sqrt(len(t)))\n",
    "              ), (t.mean()-1.96*((t.std())/np.sqrt(len(t))))"
   ]
  },
  {
   "cell_type": "code",
   "execution_count": 15,
   "id": "e4d070ec",
   "metadata": {
    "ExecuteTime": {
     "end_time": "2022-01-22T16:22:11.094441Z",
     "start_time": "2022-01-22T16:22:11.086478Z"
    }
   },
   "outputs": [
    {
     "data": {
      "text/plain": [
       "(Time    14.158307\n",
       " dtype: float64,\n",
       " Time    13.872987\n",
       " dtype: float64)"
      ]
     },
     "execution_count": 15,
     "metadata": {},
     "output_type": "execute_result"
    }
   ],
   "source": [
    "CI_u, CI_l #confidence Interval Upper and Lower at 95%"
   ]
  },
  {
   "cell_type": "code",
   "execution_count": 16,
   "id": "0b15afd4",
   "metadata": {
    "ExecuteTime": {
     "end_time": "2022-01-22T16:22:19.433753Z",
     "start_time": "2022-01-22T16:22:19.421779Z"
    }
   },
   "outputs": [
    {
     "data": {
      "text/plain": [
       "Time    10.083333\n",
       "dtype: float64"
      ]
     },
     "execution_count": 16,
     "metadata": {},
     "output_type": "execute_result"
    }
   ],
   "source": [
    "t.min()"
   ]
  },
  {
   "cell_type": "code",
   "execution_count": 17,
   "id": "62709199",
   "metadata": {
    "ExecuteTime": {
     "end_time": "2022-01-22T16:22:25.381432Z",
     "start_time": "2022-01-22T16:22:25.362393Z"
    }
   },
   "outputs": [
    {
     "data": {
      "text/plain": [
       "Time    19.72\n",
       "dtype: float64"
      ]
     },
     "execution_count": 17,
     "metadata": {},
     "output_type": "execute_result"
    }
   ],
   "source": [
    "t.max()"
   ]
  },
  {
   "cell_type": "code",
   "execution_count": null,
   "id": "1d54989f",
   "metadata": {},
   "outputs": [],
   "source": []
  }
 ],
 "metadata": {
  "kernelspec": {
   "display_name": "Python 3",
   "language": "python",
   "name": "python3"
  },
  "language_info": {
   "codemirror_mode": {
    "name": "ipython",
    "version": 3
   },
   "file_extension": ".py",
   "mimetype": "text/x-python",
   "name": "python",
   "nbconvert_exporter": "python",
   "pygments_lexer": "ipython3",
   "version": "3.8.3"
  },
  "toc": {
   "base_numbering": 1,
   "nav_menu": {},
   "number_sections": true,
   "sideBar": true,
   "skip_h1_title": false,
   "title_cell": "Table of Contents",
   "title_sidebar": "Contents",
   "toc_cell": false,
   "toc_position": {},
   "toc_section_display": true,
   "toc_window_display": false
  },
  "varInspector": {
   "cols": {
    "lenName": 16,
    "lenType": 16,
    "lenVar": 40
   },
   "kernels_config": {
    "python": {
     "delete_cmd_postfix": "",
     "delete_cmd_prefix": "del ",
     "library": "var_list.py",
     "varRefreshCmd": "print(var_dic_list())"
    },
    "r": {
     "delete_cmd_postfix": ") ",
     "delete_cmd_prefix": "rm(",
     "library": "var_list.r",
     "varRefreshCmd": "cat(var_dic_list()) "
    }
   },
   "types_to_exclude": [
    "module",
    "function",
    "builtin_function_or_method",
    "instance",
    "_Feature"
   ],
   "window_display": false
  }
 },
 "nbformat": 4,
 "nbformat_minor": 5
}
