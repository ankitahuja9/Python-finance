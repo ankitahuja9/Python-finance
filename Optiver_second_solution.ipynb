{
 "cells": [
  {
   "cell_type": "code",
   "execution_count": 1,
   "id": "47dee315",
   "metadata": {
    "ExecuteTime": {
     "end_time": "2022-01-22T16:02:47.145036Z",
     "start_time": "2022-01-22T16:02:46.599708Z"
    }
   },
   "outputs": [],
   "source": [
    "import matplotlib.pyplot as plt\n",
    "import pandas as pd\n",
    "import numpy as np\n",
    "import random\n",
    "%matplotlib inline"
   ]
  },
  {
   "cell_type": "code",
   "execution_count": 2,
   "id": "5c3c5f0b",
   "metadata": {
    "ExecuteTime": {
     "end_time": "2022-01-22T16:02:47.239335Z",
     "start_time": "2022-01-22T16:02:47.223345Z"
    }
   },
   "outputs": [],
   "source": [
    "def direction(a): # function determing the direction of the movement and then adding the distance also.\n",
    "    if a == 1:  # North\n",
    "        cord = pd.DataFrame([[0, 10, 10]], columns=list('XYD'))\n",
    "    elif a == 2:  # South\n",
    "        cord = pd.DataFrame([[0, -10, 10]], columns=list('XYD'))\n",
    "    elif a == 3:  # East\n",
    "        cord = pd.DataFrame([[10, 0, 10]], columns=list('XYD'))\n",
    "    elif a == 4:  # West\n",
    "        cord = pd.DataFrame([[-10, 0, 10]], columns=list('XYD'))\n",
    "    else:\n",
    "        raise ValueError(\"Enter Number between 1-4\")\n",
    "    return cord"
   ]
  },
  {
   "cell_type": "code",
   "execution_count": 3,
   "id": "7c809d8e",
   "metadata": {
    "ExecuteTime": {
     "end_time": "2022-01-22T16:02:48.041003Z",
     "start_time": "2022-01-22T16:02:48.036000Z"
    }
   },
   "outputs": [],
   "source": [
    "initial_cordinate = pd.DataFrame([[0, 0, 0]], columns=list('XYD')) #initial position"
   ]
  },
  {
   "cell_type": "code",
   "execution_count": 4,
   "id": "f33165cb",
   "metadata": {
    "ExecuteTime": {
     "end_time": "2022-01-22T16:02:48.565334Z",
     "start_time": "2022-01-22T16:02:48.548336Z"
    }
   },
   "outputs": [],
   "source": [
    "def time():\n",
    "    ap = pd.DataFrame()\n",
    "    cordinate = initial_cordinate\n",
    "    for i in range(1, 500):\n",
    "        number = random.randint(1, 4)\n",
    "        cordinate = cordinate+direction(number)\n",
    "        data = cordinate\n",
    "        k = data.iloc[:, :2]\n",
    "        l = k.sum(axis=1)  # As the equation x+y=10, calculating the sum and if the sum is 10 than i am at my food\n",
    "        if l[0] == 10:\n",
    "            ap = ap.append(data)\n",
    "            cordinate=initial_cordinate\n",
    "        else:\n",
    "            pass\n",
    "    return ap"
   ]
  },
  {
   "cell_type": "code",
   "execution_count": 5,
   "id": "f099f8a8",
   "metadata": {
    "ExecuteTime": {
     "end_time": "2022-01-22T16:02:49.151478Z",
     "start_time": "2022-01-22T16:02:49.134453Z"
    }
   },
   "outputs": [],
   "source": [
    "t = pd.DataFrame()"
   ]
  },
  {
   "cell_type": "code",
   "execution_count": 6,
   "id": "3c1f056f",
   "metadata": {
    "ExecuteTime": {
     "end_time": "2022-01-22T16:11:16.869881Z",
     "start_time": "2022-01-22T16:02:49.964844Z"
    }
   },
   "outputs": [],
   "source": [
    "for a in range(0, 500):\n",
    "    y = time()\n",
    "    if y.empty:\n",
    "        pass\n",
    "    else:\n",
    "        y = y.iloc[:, 2]\n",
    "        y = pd.Series(y.mean())\n",
    "        t = t.append(y/10, ignore_index=True)\n",
    "        a = a+1"
   ]
  },
  {
   "cell_type": "code",
   "execution_count": 7,
   "id": "bd8f20f9",
   "metadata": {
    "ExecuteTime": {
     "end_time": "2022-01-22T16:11:20.415442Z",
     "start_time": "2022-01-22T16:11:20.401030Z"
    }
   },
   "outputs": [],
   "source": [
    "t.columns = ['Time']"
   ]
  },
  {
   "cell_type": "code",
   "execution_count": 8,
   "id": "a552f693",
   "metadata": {
    "ExecuteTime": {
     "end_time": "2022-01-22T16:11:24.187425Z",
     "start_time": "2022-01-22T16:11:23.905278Z"
    }
   },
   "outputs": [
    {
     "data": {
      "text/plain": [
       "<matplotlib.axes._subplots.AxesSubplot at 0x1aed5103940>"
      ]
     },
     "execution_count": 8,
     "metadata": {},
     "output_type": "execute_result"
    },
    {
     "data": {
      "image/png": "[encoded data removed]",
      "text/plain": [
       "<Figure size 432x288 with 1 Axes>"
      ]
     },
     "metadata": {
      "needs_background": "light"
     },
     "output_type": "display_data"
    }
   ],
   "source": [
    "t.plot.hist()"
   ]
  },
  {
   "cell_type": "code",
   "execution_count": 9,
   "id": "739037d9",
   "metadata": {
    "ExecuteTime": {
     "end_time": "2022-01-22T16:11:26.561424Z",
     "start_time": "2022-01-22T16:11:26.542471Z"
    }
   },
   "outputs": [
    {
     "data": {
      "text/plain": [
       "Time    18.070981\n",
       "dtype: float64"
      ]
     },
     "execution_count": 9,
     "metadata": {},
     "output_type": "execute_result"
    }
   ],
   "source": [
    "t.mean() # Answer: Average time secs"
   ]
  },
  {
   "cell_type": "code",
   "execution_count": 10,
   "id": "b2925aec",
   "metadata": {
    "ExecuteTime": {
     "end_time": "2022-01-22T16:11:30.886892Z",
     "start_time": "2022-01-22T16:11:30.865933Z"
    }
   },
   "outputs": [
    {
     "data": {
      "text/plain": [
       "Time    26.846922\n",
       "dtype: float64"
      ]
     },
     "execution_count": 10,
     "metadata": {},
     "output_type": "execute_result"
    }
   ],
   "source": [
    "t.std() # Standard Deviation"
   ]
  },
  {
   "cell_type": "code",
   "execution_count": 11,
   "id": "cdbdeb17",
   "metadata": {
    "ExecuteTime": {
     "end_time": "2022-01-22T16:11:31.755501Z",
     "start_time": "2022-01-22T16:11:31.749500Z"
    }
   },
   "outputs": [],
   "source": [
    "CI_u, CI_l = (t.mean()+1.96*((t.std())/np.sqrt(len(t)))\n",
    "              ), (t.mean()-1.96*((t.std())/np.sqrt(len(t))))"
   ]
  },
  {
   "cell_type": "code",
   "execution_count": 12,
   "id": "6c696c4d",
   "metadata": {
    "ExecuteTime": {
     "end_time": "2022-01-22T16:11:32.271455Z",
     "start_time": "2022-01-22T16:11:32.258463Z"
    }
   },
   "outputs": [
    {
     "data": {
      "text/plain": [
       "(Time    20.457871\n",
       " dtype: float64,\n",
       " Time    15.684091\n",
       " dtype: float64)"
      ]
     },
     "execution_count": 12,
     "metadata": {},
     "output_type": "execute_result"
    }
   ],
   "source": [
    "CI_u, CI_l  # confidence Interval Upper and Lower at 95% level"
   ]
  },
  {
   "cell_type": "code",
   "execution_count": 13,
   "id": "4ceabec1",
   "metadata": {
    "ExecuteTime": {
     "end_time": "2022-01-22T16:11:33.044863Z",
     "start_time": "2022-01-22T16:11:33.033884Z"
    }
   },
   "outputs": [
    {
     "data": {
      "text/plain": [
       "Time    1.0\n",
       "dtype: float64"
      ]
     },
     "execution_count": 13,
     "metadata": {},
     "output_type": "execute_result"
    }
   ],
   "source": [
    "t.min() # Minimum time "
   ]
  },
  {
   "cell_type": "code",
   "execution_count": 14,
   "id": "89b75a5b",
   "metadata": {
    "ExecuteTime": {
     "end_time": "2022-01-22T16:11:34.327751Z",
     "start_time": "2022-01-22T16:11:34.317750Z"
    }
   },
   "outputs": [
    {
     "data": {
      "text/plain": [
       "Time    383.0\n",
       "dtype: float64"
      ]
     },
     "execution_count": 14,
     "metadata": {},
     "output_type": "execute_result"
    }
   ],
   "source": [
    "t.max() # Maximum time"
   ]
  },
  {
   "cell_type": "code",
   "execution_count": null,
   "id": "64a395c7",
   "metadata": {},
   "outputs": [],
   "source": []
  }
 ],
 "metadata": {
  "kernelspec": {
   "display_name": "Python 3",
   "language": "python",
   "name": "python3"
  },
  "language_info": {
   "codemirror_mode": {
    "name": "ipython",
    "version": 3
   },
   "file_extension": ".py",
   "mimetype": "text/x-python",
   "name": "python",
   "nbconvert_exporter": "python",
   "pygments_lexer": "ipython3",
   "version": "3.8.3"
  },
  "toc": {
   "base_numbering": 1,
   "nav_menu": {},
   "number_sections": true,
   "sideBar": true,
   "skip_h1_title": false,
   "title_cell": "Table of Contents",
   "title_sidebar": "Contents",
   "toc_cell": false,
   "toc_position": {},
   "toc_section_display": true,
   "toc_window_display": false
  },
  "varInspector": {
   "cols": {
    "lenName": 16,
    "lenType": 16,
    "lenVar": 40
   },
   "kernels_config": {
    "python": {
     "delete_cmd_postfix": "",
     "delete_cmd_prefix": "del ",
     "library": "var_list.py",
     "varRefreshCmd": "print(var_dic_list())"
    },
    "r": {
     "delete_cmd_postfix": ") ",
     "delete_cmd_prefix": "rm(",
     "library": "var_list.r",
     "varRefreshCmd": "cat(var_dic_list()) "
    }
   },
   "types_to_exclude": [
    "module",
    "function",
    "builtin_function_or_method",
    "instance",
    "_Feature"
   ],
   "window_display": false
  }
 },
 "nbformat": 4,
 "nbformat_minor": 5
}
